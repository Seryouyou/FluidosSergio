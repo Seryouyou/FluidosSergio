{
 "cells": [
  {
   "cell_type": "code",
   "execution_count": 1,
   "id": "65a1fd7c",
   "metadata": {
    "scrolled": true
   },
   "outputs": [
    {
     "data": {
      "text/html": [
       "\n",
       "<style>\n",
       "li{\n",
       "    padding:1vh;\n",
       "}\n",
       "\n",
       ".texto{\n",
       "    \n",
       "    text-align: justify;\n",
       "    text-justify: inter-word;\n",
       "    width: 90%;\n",
       "    padding-top: 1vh;\n",
       "    padding-bottom: 1vh; \n",
       "    margin: auto;\n",
       "    \n",
       "}\n",
       ".formulas{\n",
       "    \n",
       "    width: 90%;\n",
       "    padding-top: 1vh;\n",
       "    padding-bottom: 1vh;  \n",
       "    font-size: 20px;\n",
       "    margin: auto;\n",
       "}\n",
       ".resultado{\n",
       "    \n",
       "    width: 90%;\n",
       "    padding-top: 1vh;\n",
       "    padding-bottom: 1vh;  \n",
       "    font-size: 20px;\n",
       "    margin: auto;\n",
       "    border: 4px solid red;\n",
       "    padding:auto;\n",
       "}\n",
       "\n",
       ".antesDe{\n",
       "box-sizing:border-box;\n",
       "border: 2px solid black;\n",
       "background-color: rgba(141, 140, 140, 0.1);\n",
       "font-size:15px;\n",
       "padding:15px;\n",
       "    margin: auto;\n",
       "}\n",
       "\n",
       "ol.enunciado{\n",
       "list-style-type: lower-alpha;\n",
       "}\n",
       "\n",
       ".split{\n",
       "\n",
       "    /* Mostrar la rejilla de la división */\n",
       "    display: grid;\n",
       "\n",
       "    /* Dividir la rejilla en dos columnas y asignar la mitad del espacio \n",
       "    disponible a cada una */\n",
       "    grid-template-columns: 1fr 1fr;\n",
       "\n",
       "    /* Dividir la rejilla en cinco filas y asignar a cada una el espacio \n",
       "    necesario */\n",
       "    grid-template-rows: 1fr;\n",
       "\n",
       "    /* Determinar la posición que tendrá cada celda dentro del contenedor \n",
       "    principal */\n",
       "    grid-template-areas:\"izq    dcha \";\n",
       "\n",
       "    /* Espaciado entre celdas */\n",
       "    grid-gap:0px;   \n",
       "\n",
       "    /* Alinear horizontalmente elementos en las celdas del contenedor */\n",
       "    justify-items:center;\n",
       "\n",
       "    /* Alinear verticalmente elementos en las celdas del contenedor */\n",
       "    align-items: center; \n",
       "    \n",
       "    Width:90%\n",
       "\n",
       "}\n",
       "\n",
       ".split .izq{\n",
       "\n",
       "    /* Atribuir celda(s) a la clase */\n",
       "    grid-area: izq;\n",
       "\n",
       "    /* Centrar temperatura sobre la imagen del display */\n",
       "    position: relative;\n",
       "    \n",
       "    width:100%;\n",
       "}\n",
       ".split .dcha{\n",
       "\n",
       "    /* Atribuir celda(s) a la clase */\n",
       "    grid-area: dcha;\n",
       "\n",
       "    /* Centrar temperatura sobre la imagen del display */\n",
       "    position: relative;\n",
       "    \n",
       "    width:100%;\n",
       "\n",
       "}\n",
       "   \n",
       ".aviso{\n",
       "    display:none;\n",
       "}\n",
       "\n",
       "\n",
       "</style>\n",
       "<script>\n",
       "code_show=true; \n",
       "function code_toggle() {\n",
       " if (code_show){\n",
       " $('div.input').hide();\n",
       " } else {\n",
       " $('div.input').show();\n",
       " }\n",
       " code_show = !code_show\n",
       "} \n",
       "$( document ).ready(code_toggle);\n",
       "</script>\n",
       "<a href=\"javascript:code_toggle()\">Mostrar/ocultar celdas de código</a>."
      ],
      "text/plain": [
       "<IPython.core.display.HTML object>"
      ]
     },
     "execution_count": 1,
     "metadata": {},
     "output_type": "execute_result"
    }
   ],
   "source": [
    "from IPython.display import HTML\n",
    "HTML('''\n",
    "<style>\n",
    "li{\n",
    "    padding:1vh;\n",
    "}\n",
    "\n",
    ".texto{\n",
    "    \n",
    "    text-align: justify;\n",
    "    text-justify: inter-word;\n",
    "    width: 90%;\n",
    "    padding-top: 1vh;\n",
    "    padding-bottom: 1vh; \n",
    "    margin: auto;\n",
    "    \n",
    "}\n",
    ".formulas{\n",
    "    \n",
    "    width: 90%;\n",
    "    padding-top: 1vh;\n",
    "    padding-bottom: 1vh;  \n",
    "    font-size: 20px;\n",
    "    margin: auto;\n",
    "}\n",
    ".resultado{\n",
    "    \n",
    "    width: 90%;\n",
    "    padding-top: 1vh;\n",
    "    padding-bottom: 1vh;  \n",
    "    font-size: 20px;\n",
    "    margin: auto;\n",
    "    border: 4px solid red;\n",
    "    padding:auto;\n",
    "}\n",
    "\n",
    ".antesDe{\n",
    "box-sizing:border-box;\n",
    "border: 2px solid black;\n",
    "background-color: rgba(141, 140, 140, 0.1);\n",
    "font-size:15px;\n",
    "padding:15px;\n",
    "    margin: auto;\n",
    "}\n",
    "\n",
    "ol.enunciado{\n",
    "list-style-type: lower-alpha;\n",
    "}\n",
    "\n",
    ".split{\n",
    "\n",
    "    /* Mostrar la rejilla de la división */\n",
    "    display: grid;\n",
    "\n",
    "    /* Dividir la rejilla en dos columnas y asignar la mitad del espacio \n",
    "    disponible a cada una */\n",
    "    grid-template-columns: 1fr 1fr;\n",
    "\n",
    "    /* Dividir la rejilla en cinco filas y asignar a cada una el espacio \n",
    "    necesario */\n",
    "    grid-template-rows: 1fr;\n",
    "\n",
    "    /* Determinar la posición que tendrá cada celda dentro del contenedor \n",
    "    principal */\n",
    "    grid-template-areas:\"izq    dcha \";\n",
    "\n",
    "    /* Espaciado entre celdas */\n",
    "    grid-gap:0px;   \n",
    "\n",
    "    /* Alinear horizontalmente elementos en las celdas del contenedor */\n",
    "    justify-items:center;\n",
    "\n",
    "    /* Alinear verticalmente elementos en las celdas del contenedor */\n",
    "    align-items: center; \n",
    "    \n",
    "    Width:90%\n",
    "\n",
    "}\n",
    "\n",
    ".split .izq{\n",
    "\n",
    "    /* Atribuir celda(s) a la clase */\n",
    "    grid-area: izq;\n",
    "\n",
    "    /* Centrar temperatura sobre la imagen del display */\n",
    "    position: relative;\n",
    "    \n",
    "    width:100%;\n",
    "}\n",
    ".split .dcha{\n",
    "\n",
    "    /* Atribuir celda(s) a la clase */\n",
    "    grid-area: dcha;\n",
    "\n",
    "    /* Centrar temperatura sobre la imagen del display */\n",
    "    position: relative;\n",
    "    \n",
    "    width:100%;\n",
    "\n",
    "}\n",
    "   \n",
    ".aviso{\n",
    "    display:none;\n",
    "}\n",
    "\n",
    "\n",
    "</style>\n",
    "<script>\n",
    "code_show=true; \n",
    "function code_toggle() {\n",
    " if (code_show){\n",
    " $('div.input').hide();\n",
    " } else {\n",
    " $('div.input').show();\n",
    " }\n",
    " code_show = !code_show\n",
    "} \n",
    "$( document ).ready(code_toggle);\n",
    "</script>\n",
    "<a href=\"javascript:code_toggle()\">Mostrar/ocultar celdas de código</a>.''')"
   ]
  },
  {
   "cell_type": "markdown",
   "id": "b4e3f827",
   "metadata": {},
   "source": [
    "<div class=\"texto\" id=\"enunciado\">\n",
    "<p>2.20. Se trata de un matraz lleno de agua, invertido, con un papel en la boca para que\n",
    "no se derrame el agua. Calcular:</p>\n",
    "    </div>\n"
   ]
  },
  {
   "cell_type": "markdown",
   "id": "344b0871",
   "metadata": {},
   "source": [
    "<div class=\"texto\">\n",
    "    <ol class=\"enunciado\">    \n",
    "        <li> Presión en el punto C $(mbar)$.</li>\n",
    "        <li> Presión absoluta en C $(bar)$.</li>\n",
    "        <li> Presión absoluta en el depósito A $\\left(kg/cm^{^2}\\right)$.</li>\n",
    "        <li> Presión que marcará el manómetro B $(Torr)$.</li>\n",
    "     </ol>\n",
    "</div>"
   ]
  },
  {
   "cell_type": "markdown",
   "id": "ed149b44",
   "metadata": {},
   "source": [
    "<div class=\"texto\">\n",
    "<p>$Datos$: $h = 50\\ cm$; $a = 10 \\ cm$; $l = 40 \\ cm$; $s_{_{Hg}} = 13,6$; $P_{_A} = 0,4 \\ \\frac{kg}{cm^{^2}}$; $P_{_{atm}} = 980\\ mbar$</p>\n",
    "</div>"
   ]
  },
  {
   "cell_type": "markdown",
   "id": "1b60cfcf",
   "metadata": {
    "scrolled": false
   },
   "source": [
    "<div class=\"dcha\"><img src=\"../MEDIA/2.20.jpg\" style=\"width:70%\"></div>"
   ]
  },
  {
   "cell_type": "markdown",
   "id": "3913461e",
   "metadata": {},
   "source": [
    "<div class=\"antesDe\">\n",
    "<ul>\n",
    "    <li><strong>CONCEPTOS PREVIOS</strong></li>\n",
    "    <ul>\n",
    "        <li>CONSECUENCIAS DE LA ECUACIÓN FUNDAMENTAL DE LA HIDROSTÁTICA.</li>\n",
    "        <ul>\n",
    "            <li><i>Las superficies de presión constante (superficies isobáricas) son <strong>horizontales.</strong></i></li>\n",
    "            <li><i><strong>La variación de presión en el interior de un líquido en reposo depende de la diferencia de cota</strong>. Al trabajar con líquidos <strong>suele ser conveniente tomar</strong> el origen de coordenadas en <strong>la superficie libre</strong> (nivel de referencia) y <strong>medir las distancias desde la superficie libre hacia abajo</strong>.</i></li>\n",
    "        </ul>\n",
    "        <li>ESCALAS DE PRESIÓN. PRESIÓN ABSOLUTA Y PRESIÓN MANOMÉTRICA.</li>\n",
    "        <ul> \n",
    "            <li><p class=\"formulas\">$P_{_{abs}}= P_{_{atm}}+ P_{_{man}}$<p/></li>\n",
    "            <li><i>La diferencia entre las dos escalas es el origen que se toma como referencia para medir la presión. Para la <strong>presión absoluta</strong> el origen es el <strong>VACÍO</strong>. Para la <strong>presión manométrica</strong> el origen es <strong>la presión de la atmósfera local</strong>.</i></li>\n",
    "            <li><i><strong>NO SE PUEDEN MEZCLAR AMBAS ESCALAS</strong></i></li>\n",
    "         </ul>   \n",
    "    </ul>\n",
    "\n",
    "\n",
    "<li><strong>FALLO TÍPICO $\\rightarrow$ CONSIDERAR LA PRESIÓN DEL MANÓMETRO A $P_{_A}$ COMO PUNTO DE PARTIDA </strong></li>\n",
    "    <ul><li>Los manómetros miden presión relativa a la presión a que se encuentra, de este modo, se define que la presión dato $P_{_A}$ es relativa a la presión de B $P_{_B}$, por lo cual no se debe mezclar con la presión en la superficie libre $P_{_D}$, al ser esta relativa a la presión atmosférica (en presión relativa o manométrica).</li></ul>\n",
    "\n",
    "</ul>\n",
    "<div>"
   ]
  },
  {
   "cell_type": "markdown",
   "id": "6e69aa01",
   "metadata": {},
   "source": [
    "<h2>a. Presión en el punto C $(mbar)$.</h2>"
   ]
  },
  {
   "cell_type": "markdown",
   "id": "4bb066a3",
   "metadata": {},
   "source": [
    "\n",
    "<div class=\"texto\"><p>El ejercicio a. puede ser simplificado del siguiente modo.</p> </div>\n",
    "<div class=\"split\">\n",
    "    <div class=\"izq\"><img src=\"../MEDIA/2.20a.jpg\"></div>\n",
    "    <div class=\"dcha\">Esta simplificación se puede realizar porque:\n",
    "        <ul>\n",
    "            <li>Como se ha comentado la presión dato $P_{_A}$ es relativa a la presión de B $P_{_B}$, por lo que se considera que es una presion desconocida, y por tanto no válida para calcular la presion en C $P_{_C}$.</li>\n",
    "        </ul></div>\n",
    "</div>\n",
    "<div class=\"texto\"><p>Como las superficies de presión constante son horizontales, la presión solo varia con la diferencia de cotas. De este modo, la presión en el punto D, sera igual a la presión en el punto D más la  que ejerce la columna de mercurio $h$.</p> \n",
    "</div>\n",
    "<div class=\"formulas\">\n",
    "$$ \n",
    "P_{_E}= P_{_D} + h\\ (mcHg)\n",
    "$$\n",
    "</div>\n",
    "<div class=\"texto\"><p>Del mismo modo, la presión en el punto E, sera igual a la presión en el punto C más la que ejerce la columna de agua $h+l$, o visto de otro modo, a presión en el punto C, sera igual a la presión en el punto E menos la que ejerce la columna de agua $h+l$ </p> \n",
    "</div>\n",
    "<div class=\"formulas\">\n",
    "$$ \n",
    "P_{_E}= P_{_C} + (h+l)\\ (mca)\\rightarrow P_{_C}= P_{_E} - (h+l)\\ (mca)\n",
    "$$\n",
    "</div>\n",
    "<div class=\"texto\"><p>Partiendo de la presión relativa $P_{_D}=0$, solo tenemos la incógnita $P_{_C}$ a calcular. Ahora, se puede resolver el ejercicio trabajando en metros de columna de agua o de mercurio, o bien en Pascales. Normalmente esta decisión está basada en las unidades de los datos o de las incógnitas a calcular. Sabiendo que:</p> \n",
    "</div>\n",
    "<div class=\"formulas\">\n",
    "$$ \n",
    "h\\ (mcl)=\\frac{P}{\\gamma}\n",
    "$$\n",
    "</div>\n",
    "<div class=\"texto\"><p>Luego si trabajamos en Pascales:</p> </div>\n",
    "<div class=\"formulas\">\n",
    "$$ \n",
    "P_{_E}= P_{_D} + h\\ (mcHg)= P_{_D} + h\\cdot \\gamma_{_{Hg}}(Pa)\n",
    "$$\n",
    "</div>\n",
    "    <div class=\"formulas\">\n",
    "$$ \n",
    "P_{_C}= P_{_E} - (h+l)\\ (mca)= P_{_E} - (h+l)\\cdot\\gamma_{_{agua}} (Pa)\n",
    "$$\n",
    "</div>\n",
    "   <div class=\"texto\"><p>Sabiendo que la presión relativa $P_{_D}=0$:</p> </div>\n",
    "    <div class=\"formulas\">\n",
    "$$ \n",
    "P_{_E}= h\\cdot s_{_{Hg}}\\cdot\\gamma_{_{agua}}(Pa)\n",
    "$$\n",
    "</div>\n",
    "    <div class=\"texto\"><p>Sustituyendo:</p> </div>\n",
    "    \n",
    "<div class=\"formulas\">\n",
    "$$ \n",
    "P_{_C}= P_{_E} - (h+l)\\cdot\\gamma_{_{agua}} (Pa)=h\\cdot \\gamma_{_{Hg}}- (h+l)\\cdot\\gamma_{_{agua}}(Pa)\n",
    "$$\n",
    "</div>\n",
    "<div class=\"texto\"><p>Si factorizamos y ordenamos un poco la formula:</p> </div>\n",
    "   \n",
    "<div class=\"formulas\">\n",
    "$$ \n",
    "P_{_C} =h\\cdot (\\gamma_{_{Hg}}-\\gamma_{_{agua}})- l\\cdot\\gamma_{_{agua}}\n",
    "$$\n",
    "</div>\n",
    "\n",
    "  \n"
   ]
  },
  {
   "cell_type": "markdown",
   "id": "e8a83084",
   "metadata": {},
   "source": [
    "<div id=\"a220\">\n",
    "    <div class=\"antesDe texto\">\n",
    "        <div class=\"texto\"><strong>Analizando el resultado</strong>\n",
    "            <p>La primera componente de la ecuación obtenida para hallar la presión en C es equivalente a la de un manómetro de líquidos inmiscibles</p>\n",
    "        </div>\n",
    "        <div class=\"formulas\">\n",
    "        $$\n",
    "        P_{_A}=R\\ (\\gamma_{_1}-\\gamma_{_2})\n",
    "        $$\n",
    "        </div>\n",
    "        <div class=\"texto\">    \n",
    "        La segunda componente es debida a la consecuencia de la ecuación fundamental de la hidrostática que dice que la variación de presión en el interior de un líquido en reposo depende de la diferencia de cota.\n",
    "        </div>  \n",
    "        <div class=\"formulas\">\n",
    "            $$\n",
    "            P-\\rho \\cdot g \\cdot z = Cte\\rightarrow P_{_C}= P_{_E} -\\rho \\cdot g \\cdot l\\rightarrow\n",
    "            $$\n",
    "        </div>\n",
    "        <div class=\"formulas\">\n",
    "             $$\n",
    "            \\rightarrow\\left|\\gamma=\\rho\\cdot g\\right|\\rightarrow P_{_C}= P_{_E} -\\gamma \\cdot l\n",
    "            $$\n",
    "        </div>     \n",
    "    </div>\n",
    "</div>    "
   ]
  },
  {
   "cell_type": "markdown",
   "id": "5e618498",
   "metadata": {},
   "source": [
    "\n",
    "<div class=\"texto\"><p>Una vez obtenido esto solo falta calcular la $\\gamma$ del mercurio</p> </div>\n",
    "    <div class=\"formulas\">\n",
    "$$ \n",
    "s=\\frac{\\gamma_{_{sustancia}}}{\\gamma_{_{patron}}}\n",
    "$$\n",
    "</div>\n",
    "    <div class=\"formulas\">\n",
    "$$\n",
    "s_{_{Hg}}=\\frac{\\gamma_{_{Hg}}}{\\gamma_{_{agua}}}\\ \\rightarrow\\ \\gamma_{_{Hg}}=s_{_{Hg}}\\cdot\\gamma_{_{agua}}\\ (N/m^{3})\n",
    "$$\n",
    "</div>\n",
    "    <div class=\"formulas\">\n",
    "$$ \n",
    "P_{_C} =h\\cdot (s_{_{Hg}}\\cdot\\gamma_{_{agua}}-\\gamma_{_{agua}})- l\\cdot\\gamma_{_{agua}}\\rightarrow\n",
    "P_{_C} =\\left[h\\cdot (s_{_{Hg}}-1)- l\\right]\\cdot\\gamma_{_{agua}}\\ (Pa) \n",
    "$$\n",
    "</div>\n",
    "<div class=\"formulas\">\n",
    "$$ \n",
    "P_{_C} =\\left[h\\cdot (s_{_{Hg}}-1)- l\\right]\\cdot\\gamma_{_{agua}}\\ (Pa)=\\left[h\\cdot (s_{_{Hg}}-1)- l\\right]\\cdot\\rho_{_{agua}}\\cdot g\\ (Pa) \n",
    "$$\n",
    "</div>\n",
    "   "
   ]
  },
  {
   "cell_type": "code",
   "execution_count": 2,
   "id": "a6999318",
   "metadata": {},
   "outputs": [
    {
     "data": {
      "text/html": [
       "\n",
       "<style>\n",
       "    .widget-label { width: 30ex !important;text-align:left !important; }\n",
       "</style>"
      ],
      "text/plain": [
       "<IPython.core.display.HTML object>"
      ]
     },
     "metadata": {},
     "output_type": "display_data"
    },
    {
     "data": {
      "application/vnd.jupyter.widget-view+json": {
       "model_id": "6f1a39ee344446db8530d1719fbf6fdb",
       "version_major": 2,
       "version_minor": 0
      },
      "text/plain": [
       "interactive(children=(Text(value='0.5', description='h'), Text(value='0.4', description='l'), Output()), _dom_…"
      ]
     },
     "metadata": {},
     "output_type": "display_data"
    }
   ],
   "source": [
    "from __future__ import print_function\n",
    "from termcolor import colored\n",
    "from ipywidgets import interact, interactive, fixed, interact_manual\n",
    "from IPython.display import HTML, display\n",
    "import ipywidgets as widgets\n",
    "\n",
    "def f(h, l, shg, sagua):\n",
    "    try:\n",
    "        fh=float(h)    \n",
    "        fl=float(l)\n",
    "    except:\n",
    "        print( colored('Define un valor válido para las variables','red') )\n",
    "    else:\n",
    "        print(\"Pulsa para actualizar los campos de texto\")\n",
    "        return float(fh * (shg-sagua)-fl)*9800*pow(10, -2)\n",
    "\n",
    "a220 = interactive(f, h=\"0.5\", l=\"0.4\",shg=fixed(13.6),sagua=fixed(1))\n",
    "display(HTML('''\n",
    "<style>\n",
    "    .widget-label { width: 30ex !important;text-align:left !important; }\n",
    "</style>'''))\n",
    "\n",
    "display(a220)\n",
    "a220.children[0].description = '$h$ (m)'\n",
    "a220.children[1].description = '$l$ (m)'\n"
   ]
  },
  {
   "cell_type": "code",
   "execution_count": 3,
   "id": "2ed96544",
   "metadata": {
    "scrolled": true
   },
   "outputs": [
    {
     "data": {
      "text/html": [
       "\n",
       "<button onclick=\"ejecutar(12,18)\">Actualizar campos de texto</button>\n",
       "<button onclick=\"ejecutar(10,11)\">Abrir/reiniciar cuadro de variables</button>\n",
       "<script>function ejecutar(desde, hasta){\n",
       "    for(i = desde; i < hasta; i++)\n",
       "Jupyter.notebook.execute_cells([i])\n",
       "}</script>"
      ],
      "text/plain": [
       "<IPython.core.display.HTML object>"
      ]
     },
     "execution_count": 3,
     "metadata": {},
     "output_type": "execute_result"
    }
   ],
   "source": [
    "from IPython.display import HTML\n",
    "HTML('''\n",
    "<button onclick=\"ejecutar(12,18)\">Actualizar campos de texto</button>\n",
    "<button onclick=\"ejecutar(10,11)\">Abrir/reiniciar cuadro de variables</button>\n",
    "<script>function ejecutar(desde, hasta){\n",
    "    for(i = desde; i < hasta; i++)\n",
    "Jupyter.notebook.execute_cells([i])\n",
    "}</script>''')"
   ]
  },
  {
   "cell_type": "markdown",
   "id": "e498b685",
   "metadata": {},
   "source": [
    "<div class=\"texto\"><p>Introducimos los datos:</p> </div>\n",
    "<div class=\"formulas\">\n",
    "$$ \n",
    "P_{_C} =\\left[h\\cdot (s_{_{Hg}}-1)- l\\right]\\cdot\\rho_{_{agua}}\\cdot g\\ \n",
    "$$\n",
    "<div>"
   ]
  },
  {
   "cell_type": "code",
   "execution_count": 4,
   "id": "2f93ee25",
   "metadata": {},
   "outputs": [],
   "source": [
    "from IPython.display import Markdown as md\n",
    "shg=13.6\n",
    "sagua=1\n",
    "rhoagua=1000\n",
    "g=9.8\n",
    "\n",
    "\n",
    "try:\n",
    "    h=float(a220.children[0].value)\n",
    "    l=float(a220.children[1].value)\n",
    "    PCman=float(a220.result)\n",
    "except:\n",
    "    print(colored(\"Define un valor válido para las variables\",\"red\"))\n"
   ]
  },
  {
   "cell_type": "code",
   "execution_count": 5,
   "id": "79343311",
   "metadata": {
    "scrolled": true
   },
   "outputs": [
    {
     "data": {
      "text/markdown": [
       "$$ P_{_C} =(0.5\\ m\\cdot (13.6-1.0)- 0.4)\\ m\\cdot9.8\\ m/s^2\\cdot 1000\\ kg/m^3 $$"
      ],
      "text/plain": [
       "<IPython.core.display.Markdown object>"
      ]
     },
     "execution_count": 5,
     "metadata": {},
     "output_type": "execute_result"
    }
   ],
   "source": [
    "from IPython.display import Markdown as md\n",
    "md('$$ P_{_C} =(%.1f\\ m\\cdot (%.1f-%.1f)- %.1f)\\ m\\cdot%.1f\\ m/s^2\\cdot %i\\ kg/m^3 $$'%(h,shg,sagua,l,g,rhoagua))\n"
   ]
  },
  {
   "cell_type": "code",
   "execution_count": 6,
   "id": "caad0a1d",
   "metadata": {},
   "outputs": [
    {
     "data": {
      "text/markdown": [
       "$$P_{_C} =6.30\\ m\\cdot9800\\ kg\\ m/s^2\\cdot1/m^3=\\ 57820.0\\ m\\cdot N/m^3=\\ 57820.0\\ N/m^2=\\ 57820.0\\ Pa$$"
      ],
      "text/plain": [
       "<IPython.core.display.Markdown object>"
      ]
     },
     "execution_count": 6,
     "metadata": {},
     "output_type": "execute_result"
    }
   ],
   "source": [
    "from IPython.display import Markdown as md\n",
    "md('$$P_{_C} =%.2f\\ m\\cdot%i\\ kg\\ m/s^2\\cdot1/m^3=\\ %.1f\\ m\\cdot N/m^3=\\ %.1f\\ N/m^2=\\ %.1f\\ Pa$$'%((h*(shg-sagua)),rhoagua*g,PCman*100,PCman*100,PCman*100))"
   ]
  },
  {
   "cell_type": "markdown",
   "id": "04d92e9c",
   "metadata": {},
   "source": [
    "<div class=\"texto\"><p>Realizamos el cambio de unidades.</p> </div>\n",
    "<div class=\"formulas\">\n",
    "$$ \n",
    "P_{_C}(mbar) =P_{_C}\\ Pa \\cdot \\frac{1\\ {{bar}}}{10^{^5}\\ Pa}\\cdot\\frac{10^{^3}\\ mbar}{1\\ bar} \n",
    "$$\n",
    "</div>\n",
    "   "
   ]
  },
  {
   "cell_type": "code",
   "execution_count": 7,
   "id": "b4fd861e",
   "metadata": {
    "scrolled": true
   },
   "outputs": [
    {
     "data": {
      "text/markdown": [
       "$$ P_{_C} =57820.0 \\cdot 10^{^{-2}}=578.2\\ mbar$$"
      ],
      "text/plain": [
       "<IPython.core.display.Markdown object>"
      ]
     },
     "execution_count": 7,
     "metadata": {},
     "output_type": "execute_result"
    }
   ],
   "source": [
    "from IPython.display import Markdown as md\n",
    "md('$$ P_{_C} =%.1f \\cdot 10^{^{-2}}=%.1f\\ mbar$$'%(PCman*100,PCman))"
   ]
  },
  {
   "cell_type": "code",
   "execution_count": 8,
   "id": "e5dbead8",
   "metadata": {},
   "outputs": [
    {
     "data": {
      "text/html": [
       "\n",
       "<a href=\"javascript:code_toggle()\">Mostrar/ocultar celdas de código</a>."
      ],
      "text/plain": [
       "<IPython.core.display.HTML object>"
      ]
     },
     "execution_count": 8,
     "metadata": {},
     "output_type": "execute_result"
    }
   ],
   "source": [
    "from IPython.display import HTML\n",
    "HTML('''\n",
    "<a href=\"javascript:code_toggle()\">Mostrar/ocultar celdas de código</a>.''')\n"
   ]
  },
  {
   "cell_type": "markdown",
   "id": "a5bd33e6",
   "metadata": {},
   "source": [
    "<h2>b. Presión absoluta en C $(bar)$.</h2>"
   ]
  },
  {
   "cell_type": "markdown",
   "id": "78cdb2d9",
   "metadata": {},
   "source": [
    "<div class=\"texto\">\n",
    "    <p>Este apartado se calcula fácilmente con la fórmula que relaciona las escalas de presión.</p> \n",
    "</div>\n",
    "\n",
    "<div class=\"split\">\n",
    "    <div class=\"izq\"><img src=\"../MEDIA/2.20b.jpg\"></div>\n",
    "    <div class=\"dcha\">\n",
    "        <div class=\"formulas\">\n",
    "$$ \n",
    "P_{_{abs}} = P_{_{atm}}+ P_{_{man}}\n",
    "$$\n",
    "</div>\n",
    "<div class=\"formulas\">\n",
    "\n",
    "$$ \n",
    "{P_{_C}}_{_{abs}} = P_{_{atm}}+ {P_{_C}}_{_{man}}\n",
    "$$\n",
    "</div>\n",
    "        \n",
    "\n",
    "</div>\n",
    "    "
   ]
  },
  {
   "cell_type": "markdown",
   "id": "763a8ffe",
   "metadata": {},
   "source": [
    "<div class=\"texto\"><p>Realizamos el cambio de unidades:</p> </div>"
   ]
  },
  {
   "cell_type": "markdown",
   "id": "4f93022b",
   "metadata": {},
   "source": [
    "<div class=\"formulas\">\n",
    "\n",
    "$$ \n",
    "\\rightarrow {P_{_C}}_{_{abs}} = \\left[P_{_{atm}}+ {P_{_C}}_{_{man}}\\right]  mbar\\cdot\\frac{1\\ bar}{10^{^3}\\ mbar}= \\left[P_{_{atm}}+ {P_{_C}}_{_{man}}\\right]\\cdot10^{^{-3}}\\ bar\n",
    "$$\n",
    "</div>"
   ]
  },
  {
   "cell_type": "code",
   "execution_count": 9,
   "id": "c1cc5ff7",
   "metadata": {
    "scrolled": true
   },
   "outputs": [
    {
     "data": {
      "application/vnd.jupyter.widget-view+json": {
       "model_id": "ca4750528f584faba5abd58034cde932",
       "version_major": 2,
       "version_minor": 0
      },
      "text/plain": [
       "interactive(children=(Text(value='980', description='Patm'), Output()), _dom_classes=('widget-interact',))"
      ]
     },
     "metadata": {},
     "output_type": "display_data"
    }
   ],
   "source": [
    "from __future__ import print_function\n",
    "from ipywidgets import interact, interactive, fixed, interact_manual\n",
    "import ipywidgets as widgets\n",
    "\n",
    "def b(Patm):\n",
    "    try:\n",
    "        fPatm=float(Patm)\n",
    "    except:\n",
    "        print( colored('Define un valor válido para las variables','red') )\n",
    "    else:\n",
    "        print(\"Pulsa para actualizar los campos de texto\")\n",
    "        return fPatm\n",
    "    \n",
    "    \n",
    "    \n",
    "\n",
    "b220 = interactive(b,Patm=\"980\")\n",
    "display(b220)\n",
    "b220.children[0].description = '$P{_{atm}}$ (mbar)'\n"
   ]
  },
  {
   "cell_type": "code",
   "execution_count": 10,
   "id": "e4e9849d",
   "metadata": {
    "scrolled": true
   },
   "outputs": [
    {
     "data": {
      "text/html": [
       "\n",
       "<button onclick=\"ejecutar(25,29)\">Actualizar campos de texto</button>\n",
       "<button onclick=\"ejecutar(23,24)\">Abrir/reiniciar cuadro de variables</button>\n",
       "<script>function ejecutar(desde, hasta){\n",
       "    for(i = desde; i < hasta; i++)\n",
       "Jupyter.notebook.execute_cells([i])\n",
       "}</script>"
      ],
      "text/plain": [
       "<IPython.core.display.HTML object>"
      ]
     },
     "execution_count": 10,
     "metadata": {},
     "output_type": "execute_result"
    }
   ],
   "source": [
    "from IPython.display import HTML\n",
    "HTML('''\n",
    "<button onclick=\"ejecutar(25,29)\">Actualizar campos de texto</button>\n",
    "<button onclick=\"ejecutar(23,24)\">Abrir/reiniciar cuadro de variables</button>\n",
    "<script>function ejecutar(desde, hasta){\n",
    "    for(i = desde; i < hasta; i++)\n",
    "Jupyter.notebook.execute_cells([i])\n",
    "}</script>''')"
   ]
  },
  {
   "cell_type": "code",
   "execution_count": 11,
   "id": "5c7efb95",
   "metadata": {},
   "outputs": [],
   "source": [
    "from IPython.display import Markdown as md\n",
    "try:\n",
    "    Patm=float(b220.result)\n",
    "    PCabs=(PCman+Patm)*pow(10, -3)\n",
    "except:\n",
    "    print(colored(\"Define un valor válido para las variables\",\"red\"))"
   ]
  },
  {
   "cell_type": "markdown",
   "id": "d4218b13",
   "metadata": {},
   "source": [
    "<div class=\"texto\"><p>Introducimos datos:</p> </div>\n",
    "<div class=\"formulas\">\n",
    "$$ \n",
    "{P_{_C}}_{_{abs}} =  \\left[P_{_{atm}}+ {P_{_C}}_{_{man}}\\right]\\cdot10^{^{-3}}\\ bar\n",
    "$$\n",
    "</div>"
   ]
  },
  {
   "cell_type": "code",
   "execution_count": 12,
   "id": "65aab251",
   "metadata": {},
   "outputs": [
    {
     "data": {
      "text/markdown": [
       "$$ {P_{_C}}_{_{abs}} = (980.0+ 578.2)\\cdot 10^{^{-3}}=1558.2\\cdot 10^{^{-3}}$$"
      ],
      "text/plain": [
       "<IPython.core.display.Markdown object>"
      ]
     },
     "execution_count": 12,
     "metadata": {},
     "output_type": "execute_result"
    }
   ],
   "source": [
    "from IPython.display import Markdown as md\n",
    "md('$$ {P_{_C}}_{_{abs}} = (%.1f+ %.1f)\\cdot 10^{^{-3}}=%.1f\\cdot 10^{^{-3}}$$'%(Patm, PCman,Patm + PCman))"
   ]
  },
  {
   "cell_type": "code",
   "execution_count": 13,
   "id": "1866e713",
   "metadata": {
    "scrolled": true
   },
   "outputs": [
    {
     "data": {
      "text/markdown": [
       "$${P_{_C}}_{_{abs}} =1.5582\\ bar$$"
      ],
      "text/plain": [
       "<IPython.core.display.Markdown object>"
      ]
     },
     "execution_count": 13,
     "metadata": {},
     "output_type": "execute_result"
    }
   ],
   "source": [
    "from IPython.display import Markdown as md\n",
    "md('$${P_{_C}}_{_{abs}} =%.4f\\ bar$$'%(PCabs))"
   ]
  },
  {
   "cell_type": "code",
   "execution_count": 14,
   "id": "bd1e73d1",
   "metadata": {
    "scrolled": true
   },
   "outputs": [
    {
     "data": {
      "text/html": [
       "\n",
       "<a href=\"javascript:code_toggle()\">Mostrar/ocultar celdas de código</a>."
      ],
      "text/plain": [
       "<IPython.core.display.HTML object>"
      ]
     },
     "execution_count": 14,
     "metadata": {},
     "output_type": "execute_result"
    }
   ],
   "source": [
    "from IPython.display import HTML\n",
    "HTML('''\n",
    "<a href=\"javascript:code_toggle()\">Mostrar/ocultar celdas de código</a>.''')"
   ]
  },
  {
   "cell_type": "markdown",
   "id": "05806b17",
   "metadata": {},
   "source": [
    "<h2>c. Presión absoluta en el depósito A $\\left(kg/cm^{^2}\\right)$.</h2>"
   ]
  },
  {
   "cell_type": "markdown",
   "id": "e5a88ac0",
   "metadata": {},
   "source": [
    "<div class=\"texto\"><p>Sabiendo que la presión que ejerce un gas es la misma en todos los puntos se puede establecer lo siguiente.</p> </div>\n",
    "\n",
    "<div class=\"split\">\n",
    "    <div class=\"izq\"><img src=\"../MEDIA/2.20c.jpg\"></div>\n",
    "    <div class=\"dcha\">\n",
    "        <div class=\"texto\"><p>Para que el fluido no salga del matraz, la presión interna del fluido ha de ser igual que la presión externa del gas. Por tanto, para calcular la presión absoluta en el depósito A solo tenemos que calcular la variación de presión debida a la diferencia de cota.</p> </div>\n",
    "        <div class=\"formulas\">\n",
    "$$ \n",
    "{P_{_A}}_{_{abs}} = {P_{_C}}_{_{abs}} + (h+l-a)\\ (mca)\n",
    "$$\n",
    "</div>     \n",
    "</div>    "
   ]
  },
  {
   "cell_type": "markdown",
   "id": "795a5828",
   "metadata": {},
   "source": [
    "<div class=\"texto\"><p>Realizamos el cambio de unidades:</p> </div>"
   ]
  },
  {
   "cell_type": "markdown",
   "id": "b0b5c898",
   "metadata": {},
   "source": [
    "<div class=\"formulas\">\n",
    "$$ \n",
    "{P_{_A}}_{_{abs}} = {P_{_C}}_{_{abs}} (bar)+ (h+l-a)\\cdot\\gamma_{_{agua}}  \\ (Pa)\n",
    "$$\n",
    "</div>  "
   ]
  },
  {
   "cell_type": "markdown",
   "id": "3112dd00",
   "metadata": {},
   "source": [
    "<div class=\"formulas\">\n",
    "$$ \n",
    "{P_{_A}}_{_{abs}} = \\left({P_{_C}}_{_{abs}}(bar)\\cdot \\frac{10^{^5}Pa}{1\\ {{bar}}} + (h+l-a)\\cdot\\rho_{_{agua}}\\cdot g\\right) (Pa)\n",
    "$$\n",
    "</div> "
   ]
  },
  {
   "cell_type": "markdown",
   "id": "6aa32457",
   "metadata": {},
   "source": [
    "<div class=\"formulas\">\n",
    "$$ \n",
    "{P_{_A}}_{_{abs}} =\\left({P_{_C}}_{_{abs}}(bar)\\cdot \\frac{10^{^5}Pa}{1\\ {{bar}}} + (h+l-a)\\cdot\\rho_{_{agua}}\\cdot g\\right) (Pa)\\cdot \\frac{1\\frac{kg}{cm^{^2}}}{9,8 \\cdot 10^{^4}\\ Pa}\n",
    "$$\n",
    "</div> "
   ]
  },
  {
   "cell_type": "markdown",
   "id": "d15b25fd",
   "metadata": {},
   "source": [
    "<div class=\"formulas\">\n",
    "$$ \n",
    "{P_{_A}}_{_{abs}} =\\left({P_{_C}}_{_{abs}}\\cdot 10^{^5} + (h+l-a)\\cdot\\rho_{_{agua}}\\cdot g\\right)\\cdot \\frac{10^{^{-4}}}{9,8} \\frac{kg}{cm^{^2}}\n",
    "$$\n",
    "</div> "
   ]
  },
  {
   "cell_type": "code",
   "execution_count": 15,
   "id": "04f5e6e9",
   "metadata": {
    "scrolled": true
   },
   "outputs": [
    {
     "data": {
      "application/vnd.jupyter.widget-view+json": {
       "model_id": "ed916238174f4215b0176f279a6703c0",
       "version_major": 2,
       "version_minor": 0
      },
      "text/plain": [
       "interactive(children=(Text(value='0.1', description='a'), Output()), _dom_classes=('widget-interact',))"
      ]
     },
     "metadata": {},
     "output_type": "display_data"
    }
   ],
   "source": [
    "from __future__ import print_function\n",
    "from ipywidgets import interact, interactive, fixed, interact_manual\n",
    "import ipywidgets as widgets\n",
    "\n",
    "def c(a):\n",
    "    try:\n",
    "        fa=float(a)\n",
    "    except:\n",
    "        print( colored('Define un valor válido para las variables','red') )\n",
    "    else:\n",
    "        print(\"Pulsa para actualizar los campos de texto\")\n",
    "        return fa\n",
    "\n",
    "c220 = interactive(c,a=\"0.1\")\n",
    "display(c220)\n",
    "\n",
    "c220.children[0].description = '$a$ (m)'\n"
   ]
  },
  {
   "cell_type": "code",
   "execution_count": 16,
   "id": "5a4565bb",
   "metadata": {
    "scrolled": false
   },
   "outputs": [
    {
     "data": {
      "text/html": [
       "\n",
       "<button onclick=\"ejecutar(39,43)\">Actualizar campos de texto</button>\n",
       "<button onclick=\"ejecutar(37,38)\">Abrir/reiniciar cuadro de variables</button>\n",
       "<script>function ejecutar(desde, hasta){\n",
       "    for(i = desde; i < hasta; i++)\n",
       "Jupyter.notebook.execute_cells([i])\n",
       "}</script>\n"
      ],
      "text/plain": [
       "<IPython.core.display.HTML object>"
      ]
     },
     "execution_count": 16,
     "metadata": {},
     "output_type": "execute_result"
    }
   ],
   "source": [
    "from IPython.display import HTML\n",
    "HTML('''\n",
    "<button onclick=\"ejecutar(39,43)\">Actualizar campos de texto</button>\n",
    "<button onclick=\"ejecutar(37,38)\">Abrir/reiniciar cuadro de variables</button>\n",
    "<script>function ejecutar(desde, hasta){\n",
    "    for(i = desde; i < hasta; i++)\n",
    "Jupyter.notebook.execute_cells([i])\n",
    "}</script>\n",
    "''')"
   ]
  },
  {
   "cell_type": "code",
   "execution_count": 17,
   "id": "32ae8357",
   "metadata": {},
   "outputs": [],
   "source": [
    "from IPython.display import Markdown as md\n",
    "try:\n",
    "    a=float(c220.result)\n",
    "    PAabs=(PCabs*pow(10, 5)+(h+l-a)*rhoagua*g)*pow(10, -4)/9.8\n",
    "except:\n",
    "    print(colored(\"Define un valor válido para las variables\",\"red\"))\n",
    "    "
   ]
  },
  {
   "cell_type": "markdown",
   "id": "629aa6f4",
   "metadata": {},
   "source": [
    "<div class=\"texto\"><p>Introducimos los datos:</p> </div>\n",
    "<div class=\"formulas\">\n",
    "$$ \n",
    "{P_{_A}}_{_{abs}} =\\left({P_{_C}}_{_{abs}}\\cdot 10^{^5} + (h+l-a)\\cdot\\rho_{_{agua}}\\cdot g\\right)\\cdot \\frac{10^{^{-4}}}{9,8} \n",
    "$$\n",
    "</div> "
   ]
  },
  {
   "cell_type": "code",
   "execution_count": 18,
   "id": "fba59f3a",
   "metadata": {},
   "outputs": [
    {
     "data": {
      "text/markdown": [
       "$$ {P_{_A}}_{_{abs}} =(1.5582\\cdot 10^{^5} + (0.50+0.40-0.10)\\cdot 1000\\cdot 9.80))\\cdot 10^{^{-4}}/\\ 9,8\\ $$"
      ],
      "text/plain": [
       "<IPython.core.display.Markdown object>"
      ]
     },
     "execution_count": 18,
     "metadata": {},
     "output_type": "execute_result"
    }
   ],
   "source": [
    "from IPython.display import Markdown as md\n",
    "md('$$ {P_{_A}}_{_{abs}} =(%.4f\\cdot 10^{^5} + (%.2f+%.2f-%.2f)\\cdot %i\\cdot %.2f))\\cdot 10^{^{-4}}/\\ 9,8\\ $$'%(PCabs,h,l,a,rhoagua,g))\n"
   ]
  },
  {
   "cell_type": "code",
   "execution_count": 19,
   "id": "cb167161",
   "metadata": {},
   "outputs": [
    {
     "data": {
      "text/markdown": [
       "$$ {P_{_A}}_{_{abs}} =1.670\\ kg/cm^{^2}$$"
      ],
      "text/plain": [
       "<IPython.core.display.Markdown object>"
      ]
     },
     "execution_count": 19,
     "metadata": {},
     "output_type": "execute_result"
    }
   ],
   "source": [
    "from IPython.display import Markdown as md\n",
    "md('$$ {P_{_A}}_{_{abs}} =%.3f\\ kg/cm^{^2}$$'%(PAabs))"
   ]
  },
  {
   "cell_type": "code",
   "execution_count": 20,
   "id": "41b90023",
   "metadata": {},
   "outputs": [
    {
     "data": {
      "text/html": [
       "\n",
       "<a href=\"javascript:code_toggle()\">Mostrar/ocultar celdas de código</a>."
      ],
      "text/plain": [
       "<IPython.core.display.HTML object>"
      ]
     },
     "execution_count": 20,
     "metadata": {},
     "output_type": "execute_result"
    }
   ],
   "source": [
    "from IPython.display import HTML\n",
    "HTML('''\n",
    "<a href=\"javascript:code_toggle()\">Mostrar/ocultar celdas de código</a>.''')\n"
   ]
  },
  {
   "cell_type": "markdown",
   "id": "6f76ed6e",
   "metadata": {},
   "source": [
    "<h2>d. Presión que marcará el manómetro B $(Torr)$.</h2>"
   ]
  },
  {
   "cell_type": "markdown",
   "id": "579ebe45",
   "metadata": {},
   "source": [
    "<div class=\"texto\"><p>Como se ha comentado antes de iniciar el ejercicio, no se puede partir del dato del manómetro $P_{_A}$ para calcular la presión $P_{_C}$ ya que esta $P_{_A}$ es relativa al recipiente que lo contiene, sometido a una presión $P_{_B}$. Si exponemos en un gráfico de presiones relativas las presiones obtenidas vemos que:</p> </div>\n",
    "\n",
    "<div class=\"split\">\n",
    "    <div class=\"izq\"><img src=\"../MEDIA/2.20d.jpg\"></div>\n",
    "    <div class=\"dcha\">\n",
    "        <div class=\"texto\"><p>Se deduce de la imagen, tal y como se comentaba, que:</p> </div>\n",
    "        <div class=\"formulas\">\n",
    "$$ \n",
    "{P_{_A}}_{_{abs}} = P_{_{manometro\\ A}} + P_{_{manometro\\ B}} +P_{_{atm}}\n",
    "$$\n",
    "</div> \n",
    "        <div class=\"texto\"><p>Por tanto:</p> \n",
    "        </div>\n",
    "        <div class=\"formulas\">\n",
    "$$ \n",
    "P_{_{manometro\\ B}}={P_{_A}}_{_{abs}}  - P_{_{manometro\\ A}}-P_{_{atm}}\n",
    "$$\n",
    "</div>\n",
    "</div>    "
   ]
  },
  {
   "cell_type": "markdown",
   "id": "b380bd7d",
   "metadata": {},
   "source": [
    "<div class=\"texto\"><p>Realizamos el cambio de unidades. Para ello la forma mas cómoda es convertirlo a $mcHg$ para su posterior conversión a $Torr$.</p> </div>"
   ]
  },
  {
   "cell_type": "markdown",
   "id": "ad45fa3c",
   "metadata": {},
   "source": [
    "<div class=\"formulas\">\n",
    "$$ \n",
    "P_{_{manometro\\ B}}={P_{_A}}_{_{abs}}\\left(\\frac{kg}{cm^2}\\right)- P_{_{manometro\\ A}}\\left(\\frac{kg}{cm^2}\\right)-P_{_{atm}}(mbar)\n",
    "$$\n",
    "</div>\n"
   ]
  },
  {
   "cell_type": "markdown",
   "id": "9118241b",
   "metadata": {},
   "source": [
    "<div class=\"formulas\">\n",
    "$$ \n",
    "P_{_{manometro\\ B}}=\\left({P_{_A}}_{_{abs}}- P_{_{manometro\\ A}}   \\ \\right)\\frac{kg}{cm^2}\\cdot \\frac{9,8 \\cdot 10^{^4}\\ Pa}{1\\frac{kg}{cm^{^2}}}\\ -P_{_{atm}}\\ mbar \\cdot\\frac{1\\ bar}{10^{^3}\\ mbar}\\cdot \\frac{10^{^5}Pa}{1\\ bar}\n",
    "$$\n",
    "</div>"
   ]
  },
  {
   "cell_type": "markdown",
   "id": "076445a7",
   "metadata": {},
   "source": [
    "<div class=\"formulas\">\n",
    "$$ \n",
    "P_{_{manometro\\ B}}=\\left({P_{_A}}_{_{abs}}- P_{_{manometro\\ A}}   \\ \\right)\\cdot 9,8 \\cdot 10^{^4}\\ -P_{_{atm}}\\ \\cdot\\frac{10^{^5}}{10^{^3}}\\ (Pa)\n",
    "$$\n",
    "</div>"
   ]
  },
  {
   "cell_type": "markdown",
   "id": "f9f370cb",
   "metadata": {},
   "source": [
    "<div class=\"formulas\">\n",
    "$$ \n",
    "P_{_{manometro\\ B}}=\\left[\\left({P_{_A}}_{_{abs}}- P_{_{manometro\\ A}}   \\ \\right)\\cdot 9,8 \\cdot 10^{^4}\\ -P_{_{atm}}\\ \\cdot10^{^2}\\right]\\ (Pa)\\cdot\\frac{1}{s_{_{Hg}}\\cdot\\gamma_{_{agua}}\\ (N/m^{3})} \n",
    "$$\n",
    "</div>"
   ]
  },
  {
   "cell_type": "markdown",
   "id": "a8c7ccac",
   "metadata": {},
   "source": [
    "<div class=\"formulas\">\n",
    "$$ \n",
    "P_{_{manometro\\ B}}=\\left[\\left({P_{_A}}_{_{abs}}- P_{_{manometro\\ A}}   \\ \\right)\\cdot 9,8 \\cdot 10^{^4}\\ -P_{_{atm}}\\ \\cdot10^{^2}\\right]\\cdot\\frac{1}{s_{_{Hg}}\\cdot\\rho_{_{agua}}\\cdot g}\\ \\frac{N/m^{2}}{N/m^{3}}\n",
    "$$\n",
    "</div>"
   ]
  },
  {
   "cell_type": "code",
   "execution_count": 21,
   "id": "e3b52f45",
   "metadata": {
    "scrolled": true
   },
   "outputs": [
    {
     "data": {
      "application/vnd.jupyter.widget-view+json": {
       "model_id": "5807e40ca8a54849ae9df9a5ca608bbc",
       "version_major": 2,
       "version_minor": 0
      },
      "text/plain": [
       "interactive(children=(Text(value='0.4', description='PAman'), Output()), _dom_classes=('widget-interact',))"
      ]
     },
     "metadata": {},
     "output_type": "display_data"
    }
   ],
   "source": [
    "from __future__ import print_function\n",
    "from ipywidgets import interact, interactive, fixed, interact_manual\n",
    "import ipywidgets as widgets\n",
    "\n",
    "def d(PAman): \n",
    "    try:\n",
    "        fPAman=float(PAman)\n",
    "    except:\n",
    "        print( colored('Define un valor válido para las variables','red') )\n",
    "    else:\n",
    "        print(\"Pulsa para actualizar los campos de texto\")\n",
    "        return fPAman\n",
    "\n",
    "d220 = interactive(d,PAman=\"0.4\")\n",
    "\n",
    "display(d220)\n",
    "d220.children[0].description = '$P_{_A}\\ manometrica$ (mbar)'\n"
   ]
  },
  {
   "cell_type": "code",
   "execution_count": 22,
   "id": "3ffb84ca",
   "metadata": {
    "scrolled": true
   },
   "outputs": [
    {
     "data": {
      "text/html": [
       "\n",
       "<button onclick=\"ejecutar(54,59)\">Actualizar campos de texto</button>\n",
       "<button onclick=\"ejecutar(52,53)\">Abrir/reiniciar cuadro de variables</button>\n",
       "<script>function ejecutar(desde, hasta){\n",
       "    for(i = desde; i < hasta; i++)\n",
       "Jupyter.notebook.execute_cells([i])\n",
       "}</script>"
      ],
      "text/plain": [
       "<IPython.core.display.HTML object>"
      ]
     },
     "execution_count": 22,
     "metadata": {},
     "output_type": "execute_result"
    }
   ],
   "source": [
    "from IPython.display import HTML\n",
    "HTML('''\n",
    "<button onclick=\"ejecutar(54,59)\">Actualizar campos de texto</button>\n",
    "<button onclick=\"ejecutar(52,53)\">Abrir/reiniciar cuadro de variables</button>\n",
    "<script>function ejecutar(desde, hasta){\n",
    "    for(i = desde; i < hasta; i++)\n",
    "Jupyter.notebook.execute_cells([i])\n",
    "}</script>''')"
   ]
  },
  {
   "cell_type": "code",
   "execution_count": 23,
   "id": "764f1293",
   "metadata": {},
   "outputs": [],
   "source": [
    "from IPython.display import Markdown as md\n",
    "try:\n",
    "    PAman=float(d220.result)\n",
    "    PBman=((PAabs-PAman)*9.8*pow(10, 4)-Patm*pow(10, 2))*1/(shg*rhoagua*g)*pow(10, 3)\n",
    "except:\n",
    "    print(colored(\"Define un valor válido para las variables\",\"red\"))\n",
    "\n",
    "    \n",
    "\n"
   ]
  },
  {
   "cell_type": "code",
   "execution_count": 24,
   "id": "c52c0559",
   "metadata": {
    "scrolled": true
   },
   "outputs": [
    {
     "data": {
      "text/markdown": [
       "$$P_{_{manometro\\ B}}=[(1.670- 0.4)\\cdot 9.8 \\cdot 10^{^4}\\ -980.0\\ \\cdot10^{^2}]\\cdot1/(13.6\\cdot 1000.0\\ \\cdot 9.8)\\ mcHg$$"
      ],
      "text/plain": [
       "<IPython.core.display.Markdown object>"
      ]
     },
     "execution_count": 24,
     "metadata": {},
     "output_type": "execute_result"
    }
   ],
   "source": [
    "from IPython.display import Markdown as md\n",
    "md('$$P_{_{manometro\\ B}}=[(%.3f- %.1f)\\cdot 9.8 \\cdot 10^{^4}\\ -%.1f\\ \\cdot10^{^2}]\\cdot1/(%.1f\\cdot %.1f\\ \\cdot %.1f)\\ mcHg$$'%(PAabs,PAman,Patm,shg,rhoagua,g))"
   ]
  },
  {
   "cell_type": "code",
   "execution_count": 25,
   "id": "26a49a42",
   "metadata": {
    "scrolled": true
   },
   "outputs": [
    {
     "data": {
      "text/markdown": [
       "$$P_{_{manometro\\ B}}=198.529 \\cdot10^{^{-3}} mcHg= 198.529\\ mmcHg$$"
      ],
      "text/plain": [
       "<IPython.core.display.Markdown object>"
      ]
     },
     "execution_count": 25,
     "metadata": {},
     "output_type": "execute_result"
    }
   ],
   "source": [
    "from IPython.display import Markdown as md\n",
    "md('$$P_{_{manometro\\ B}}=%.3f \\cdot10^{^{-3}} mcHg= %.3f\\ mmcHg$$'%(PBman,PBman))"
   ]
  },
  {
   "cell_type": "markdown",
   "id": "8d0adf21",
   "metadata": {},
   "source": [
    "<div class=\"formulas\">\n",
    "$$ \n",
    "1\\ mmcHg=1\\ Torr\n",
    "$$\n",
    "</div>"
   ]
  },
  {
   "cell_type": "code",
   "execution_count": 26,
   "id": "46de7956",
   "metadata": {
    "scrolled": true
   },
   "outputs": [
    {
     "data": {
      "text/markdown": [
       "$$P_{_{manometro\\ B}}= 198.529\\ Torr$$"
      ],
      "text/plain": [
       "<IPython.core.display.Markdown object>"
      ]
     },
     "execution_count": 26,
     "metadata": {},
     "output_type": "execute_result"
    }
   ],
   "source": [
    "from IPython.display import Markdown as md\n",
    "md('$$P_{_{manometro\\ B}}= %.3f\\ Torr$$'%(PBman))"
   ]
  },
  {
   "cell_type": "code",
   "execution_count": 27,
   "id": "bcf74afe",
   "metadata": {},
   "outputs": [
    {
     "data": {
      "text/html": [
       "\n",
       "<a href=\"javascript:code_toggle()\">Mostrar/ocultar celdas de código</a>."
      ],
      "text/plain": [
       "<IPython.core.display.HTML object>"
      ]
     },
     "execution_count": 27,
     "metadata": {},
     "output_type": "execute_result"
    }
   ],
   "source": [
    "from IPython.display import HTML\n",
    "HTML('''\n",
    "<a href=\"javascript:code_toggle()\">Mostrar/ocultar celdas de código</a>.''')\n"
   ]
  },
  {
   "cell_type": "markdown",
   "id": "d2414d6c",
   "metadata": {},
   "source": [
    "[Volver al enunciado.](#enunciado)"
   ]
  },
  {
   "cell_type": "code",
   "execution_count": 28,
   "id": "3bf89443",
   "metadata": {},
   "outputs": [
    {
     "data": {
      "text/html": [
       "\n",
       "<script>\n",
       "window.location=\"2_20.ipynb#enunciado\";\n",
       "</script>"
      ],
      "text/plain": [
       "<IPython.core.display.HTML object>"
      ]
     },
     "execution_count": 28,
     "metadata": {},
     "output_type": "execute_result"
    }
   ],
   "source": [
    "from IPython.display import HTML\n",
    "HTML('''\n",
    "<script>\n",
    "window.location=\"2_20.ipynb#enunciado\";\n",
    "</script>''')\n",
    "\n"
   ]
  }
 ],
 "metadata": {
  "kernelspec": {
   "display_name": "Python 3",
   "language": "python",
   "name": "python3"
  },
  "language_info": {
   "codemirror_mode": {
    "name": "ipython",
    "version": 3
   },
   "file_extension": ".py",
   "mimetype": "text/x-python",
   "name": "python",
   "nbconvert_exporter": "python",
   "pygments_lexer": "ipython3",
   "version": "3.8.8"
  },
  "widgets": {
   "application/vnd.jupyter.widget-state+json": {
    "state": {
     "049971fc9f3e4d648cb8e17f7879b528": {
      "model_module": "@jupyter-widgets/controls",
      "model_module_version": "1.5.0",
      "model_name": "IntSliderModel",
      "state": {
       "description": "x",
       "layout": "IPY_MODEL_3c4b2c6c7002469f8fbda5d5897b109b",
       "max": 30,
       "min": -10,
       "style": "IPY_MODEL_0d91b42d45394bf7b807b6e84eb0ffd1",
       "value": 30
      }
     },
     "08d7e2809a6d406ab1c3fe6b7e1ad36a": {
      "model_module": "@jupyter-widgets/controls",
      "model_module_version": "1.5.0",
      "model_name": "DescriptionStyleModel",
      "state": {
       "description_width": ""
      }
     },
     "090512cbc6d04419b49b7b92926dceeb": {
      "model_module": "@jupyter-widgets/base",
      "model_module_version": "1.2.0",
      "model_name": "LayoutModel",
      "state": {}
     },
     "0a1493d6219a4e8eba520bc76c98a9f8": {
      "model_module": "@jupyter-widgets/base",
      "model_module_version": "1.2.0",
      "model_name": "LayoutModel",
      "state": {}
     },
     "0b39c11e02a040d88259c167ce088079": {
      "model_module": "@jupyter-widgets/controls",
      "model_module_version": "1.5.0",
      "model_name": "VBoxModel",
      "state": {
       "_dom_classes": [
        "widget-interact"
       ],
       "children": [
        "IPY_MODEL_848b95a8e7ee4ada9153ca88301aa901",
        "IPY_MODEL_e5a4fcfdbaec44fb8a13f2921f7b5b01"
       ],
       "layout": "IPY_MODEL_467b95502cfd44ebacaacba46d644f6e"
      }
     },
     "0c4171fc723449608f34f4a716b2b6c0": {
      "model_module": "@jupyter-widgets/controls",
      "model_module_version": "1.5.0",
      "model_name": "TextModel",
      "state": {
       "description": "x",
       "layout": "IPY_MODEL_e5ae4d9c2ae64c29872c9322a6ef5c4f",
       "style": "IPY_MODEL_5384b2a032394f5e84fff31282aa6550",
       "value": "Hi there!"
      }
     },
     "0d91b42d45394bf7b807b6e84eb0ffd1": {
      "model_module": "@jupyter-widgets/controls",
      "model_module_version": "1.5.0",
      "model_name": "SliderStyleModel",
      "state": {
       "description_width": ""
      }
     },
     "0f7fbda20ec240dc84a17d99f54da135": {
      "model_module": "@jupyter-widgets/controls",
      "model_module_version": "1.5.0",
      "model_name": "VBoxModel",
      "state": {
       "_dom_classes": [
        "widget-interact"
       ],
       "children": [
        "IPY_MODEL_fd79f3c4de7441f7a604ed1a4d25aadf",
        "IPY_MODEL_5c72927d6843468c95a0140b73e6f9a9"
       ],
       "layout": "IPY_MODEL_140d6e0ac8d24212b1f8ba5ca173fd70"
      }
     },
     "101b840f68944890859dcbac04803415": {
      "model_module": "@jupyter-widgets/controls",
      "model_module_version": "1.5.0",
      "model_name": "VBoxModel",
      "state": {
       "_dom_classes": [
        "widget-interact"
       ],
       "children": [
        "IPY_MODEL_bdcbef091fcf4911acb04c1a3470c974",
        "IPY_MODEL_cc6a25ba90f14dccb8350ee7dc07ad85"
       ],
       "layout": "IPY_MODEL_95329e17f4ba4cdab326f8d1b8638769"
      }
     },
     "10d46f3a065b4bd69956ca5f03eac17d": {
      "model_module": "@jupyter-widgets/output",
      "model_module_version": "1.0.0",
      "model_name": "OutputModel",
      "state": {
       "layout": "IPY_MODEL_251ce1cfb9c34eba8c51dbdbae6dda98",
       "outputs": [
        {
         "ename": "TypeError",
         "evalue": "'int' object is not callable",
         "output_type": "error",
         "traceback": [
          "\u001b[1;31m---------------------------------------------------------------------------\u001b[0m",
          "\u001b[1;31mTypeError\u001b[0m                                 Traceback (most recent call last)",
          "\u001b[1;32m~\\anaconda3\\lib\\site-packages\\ipywidgets\\widgets\\interaction.py\u001b[0m in \u001b[0;36mupdate\u001b[1;34m(self, *args)\u001b[0m\n\u001b[0;32m    254\u001b[0m                     \u001b[0mvalue\u001b[0m \u001b[1;33m=\u001b[0m \u001b[0mwidget\u001b[0m\u001b[1;33m.\u001b[0m\u001b[0mget_interact_value\u001b[0m\u001b[1;33m(\u001b[0m\u001b[1;33m)\u001b[0m\u001b[1;33m\u001b[0m\u001b[1;33m\u001b[0m\u001b[0m\n\u001b[0;32m    255\u001b[0m                     \u001b[0mself\u001b[0m\u001b[1;33m.\u001b[0m\u001b[0mkwargs\u001b[0m\u001b[1;33m[\u001b[0m\u001b[0mwidget\u001b[0m\u001b[1;33m.\u001b[0m\u001b[0m_kwarg\u001b[0m\u001b[1;33m]\u001b[0m \u001b[1;33m=\u001b[0m \u001b[0mvalue\u001b[0m\u001b[1;33m\u001b[0m\u001b[1;33m\u001b[0m\u001b[0m\n\u001b[1;32m--> 256\u001b[1;33m                 \u001b[0mself\u001b[0m\u001b[1;33m.\u001b[0m\u001b[0mresult\u001b[0m \u001b[1;33m=\u001b[0m \u001b[0mself\u001b[0m\u001b[1;33m.\u001b[0m\u001b[0mf\u001b[0m\u001b[1;33m(\u001b[0m\u001b[1;33m**\u001b[0m\u001b[0mself\u001b[0m\u001b[1;33m.\u001b[0m\u001b[0mkwargs\u001b[0m\u001b[1;33m)\u001b[0m\u001b[1;33m\u001b[0m\u001b[1;33m\u001b[0m\u001b[0m\n\u001b[0m\u001b[0;32m    257\u001b[0m                 \u001b[0mshow_inline_matplotlib_plots\u001b[0m\u001b[1;33m(\u001b[0m\u001b[1;33m)\u001b[0m\u001b[1;33m\u001b[0m\u001b[1;33m\u001b[0m\u001b[0m\n\u001b[0;32m    258\u001b[0m                 \u001b[1;32mif\u001b[0m \u001b[0mself\u001b[0m\u001b[1;33m.\u001b[0m\u001b[0mauto_display\u001b[0m \u001b[1;32mand\u001b[0m \u001b[0mself\u001b[0m\u001b[1;33m.\u001b[0m\u001b[0mresult\u001b[0m \u001b[1;32mis\u001b[0m \u001b[1;32mnot\u001b[0m \u001b[1;32mNone\u001b[0m\u001b[1;33m:\u001b[0m\u001b[1;33m\u001b[0m\u001b[1;33m\u001b[0m\u001b[0m\n",
          "\u001b[1;32m~\\anaconda3\\lib\\site-packages\\ipywidgets\\widgets\\interaction.py\u001b[0m in \u001b[0;36m<lambda>\u001b[1;34m(*args, **kwargs)\u001b[0m\n\u001b[0;32m    532\u001b[0m             \u001b[1;31m# some things (instancemethods) can't have attributes attached,\u001b[0m\u001b[1;33m\u001b[0m\u001b[1;33m\u001b[0m\u001b[1;33m\u001b[0m\u001b[0m\n\u001b[0;32m    533\u001b[0m             \u001b[1;31m# so wrap in a lambda\u001b[0m\u001b[1;33m\u001b[0m\u001b[1;33m\u001b[0m\u001b[1;33m\u001b[0m\u001b[0m\n\u001b[1;32m--> 534\u001b[1;33m             \u001b[0mf\u001b[0m \u001b[1;33m=\u001b[0m \u001b[1;32mlambda\u001b[0m \u001b[1;33m*\u001b[0m\u001b[0margs\u001b[0m\u001b[1;33m,\u001b[0m \u001b[1;33m**\u001b[0m\u001b[0mkwargs\u001b[0m\u001b[1;33m:\u001b[0m \u001b[0m__interact_f\u001b[0m\u001b[1;33m(\u001b[0m\u001b[1;33m*\u001b[0m\u001b[0margs\u001b[0m\u001b[1;33m,\u001b[0m \u001b[1;33m**\u001b[0m\u001b[0mkwargs\u001b[0m\u001b[1;33m)\u001b[0m\u001b[1;33m\u001b[0m\u001b[1;33m\u001b[0m\u001b[0m\n\u001b[0m\u001b[0;32m    535\u001b[0m             \u001b[0mf\u001b[0m\u001b[1;33m.\u001b[0m\u001b[0mwidget\u001b[0m \u001b[1;33m=\u001b[0m \u001b[0mw\u001b[0m\u001b[1;33m\u001b[0m\u001b[1;33m\u001b[0m\u001b[0m\n\u001b[0;32m    536\u001b[0m         \u001b[0mshow_inline_matplotlib_plots\u001b[0m\u001b[1;33m(\u001b[0m\u001b[1;33m)\u001b[0m\u001b[1;33m\u001b[0m\u001b[1;33m\u001b[0m\u001b[0m\n",
          "\u001b[1;31mTypeError\u001b[0m: 'int' object is not callable"
         ]
        }
       ]
      }
     },
     "140d6e0ac8d24212b1f8ba5ca173fd70": {
      "model_module": "@jupyter-widgets/base",
      "model_module_version": "1.2.0",
      "model_name": "LayoutModel",
      "state": {}
     },
     "17cddd014df04d68bea570cd399a9da9": {
      "model_module": "@jupyter-widgets/controls",
      "model_module_version": "1.5.0",
      "model_name": "DescriptionStyleModel",
      "state": {
       "description_width": ""
      }
     },
     "193a21557e3e402fa9eabf6dd54b5015": {
      "model_module": "@jupyter-widgets/controls",
      "model_module_version": "1.5.0",
      "model_name": "VBoxModel",
      "state": {
       "_dom_classes": [
        "widget-interact"
       ],
       "children": [
        "IPY_MODEL_52150573a4024037b162f620c9cb65c3",
        "IPY_MODEL_5a25f5a3388e4ddcabaf94d161cf88ce"
       ],
       "layout": "IPY_MODEL_8f870a89593c4c9996617d3d973901c7"
      }
     },
     "195dadf099ac4a99b4984d424cdf187a": {
      "model_module": "@jupyter-widgets/base",
      "model_module_version": "1.2.0",
      "model_name": "LayoutModel",
      "state": {}
     },
     "1c24e2e5cf464025b5df0763318d2ac2": {
      "model_module": "@jupyter-widgets/controls",
      "model_module_version": "1.5.0",
      "model_name": "VBoxModel",
      "state": {
       "_dom_classes": [
        "widget-interact"
       ],
       "children": [
        "IPY_MODEL_89fc42cd2d92431e955f42f29e04d4d5",
        "IPY_MODEL_f6ed9a5519d14d4688c7416bb3d03b62"
       ],
       "layout": "IPY_MODEL_5b4c1feebe574afdb690bfb0c4d38bf7"
      }
     },
     "1d4dd9ffa2f1496b881ad775c9b86173": {
      "model_module": "@jupyter-widgets/output",
      "model_module_version": "1.0.0",
      "model_name": "OutputModel",
      "state": {
       "layout": "IPY_MODEL_fa9cd8c07eb54e8eb8feab915a8d9237",
       "outputs": [
        {
         "name": "stdout",
         "output_type": "stream",
         "text": "0.1 0.5 9.8 1000 0.4 1.5581999999999998\n"
        }
       ]
      }
     },
     "1f344aacd9a240c782a0bb74057884ed": {
      "model_module": "@jupyter-widgets/controls",
      "model_module_version": "1.5.0",
      "model_name": "VBoxModel",
      "state": {
       "_dom_classes": [
        "widget-interact"
       ],
       "children": [
        "IPY_MODEL_ac8dfeb7d37b4e7eb56ea1cc26c276d8",
        "IPY_MODEL_534b18b9e7754d2eb361a2a3e8a6ffca",
        "IPY_MODEL_637e94ae735748098a8c54e53e105543"
       ],
       "layout": "IPY_MODEL_a621248fc6524f648e85bb7e4cb5cef6"
      }
     },
     "2060ab158d1a4029a7072f67fa2bc633": {
      "model_module": "@jupyter-widgets/base",
      "model_module_version": "1.2.0",
      "model_name": "LayoutModel",
      "state": {}
     },
     "251ce1cfb9c34eba8c51dbdbae6dda98": {
      "model_module": "@jupyter-widgets/base",
      "model_module_version": "1.2.0",
      "model_name": "LayoutModel",
      "state": {}
     },
     "27dc5e21061644068c7d049ed7113dbb": {
      "model_module": "@jupyter-widgets/controls",
      "model_module_version": "1.5.0",
      "model_name": "SliderStyleModel",
      "state": {
       "description_width": ""
      }
     },
     "2cb0186e8aaa4035a91cd4cedffaa088": {
      "model_module": "@jupyter-widgets/output",
      "model_module_version": "1.0.0",
      "model_name": "OutputModel",
      "state": {
       "layout": "IPY_MODEL_ff1c8357103e4ef8aca590dbac81acfc",
       "outputs": [
        {
         "ename": "TypeError",
         "evalue": "'int' object is not callable",
         "output_type": "error",
         "traceback": [
          "\u001b[1;31m---------------------------------------------------------------------------\u001b[0m",
          "\u001b[1;31mTypeError\u001b[0m                                 Traceback (most recent call last)",
          "\u001b[1;32m~\\anaconda3\\lib\\site-packages\\ipywidgets\\widgets\\interaction.py\u001b[0m in \u001b[0;36mupdate\u001b[1;34m(self, *args)\u001b[0m\n\u001b[0;32m    254\u001b[0m                     \u001b[0mvalue\u001b[0m \u001b[1;33m=\u001b[0m \u001b[0mwidget\u001b[0m\u001b[1;33m.\u001b[0m\u001b[0mget_interact_value\u001b[0m\u001b[1;33m(\u001b[0m\u001b[1;33m)\u001b[0m\u001b[1;33m\u001b[0m\u001b[1;33m\u001b[0m\u001b[0m\n\u001b[0;32m    255\u001b[0m                     \u001b[0mself\u001b[0m\u001b[1;33m.\u001b[0m\u001b[0mkwargs\u001b[0m\u001b[1;33m[\u001b[0m\u001b[0mwidget\u001b[0m\u001b[1;33m.\u001b[0m\u001b[0m_kwarg\u001b[0m\u001b[1;33m]\u001b[0m \u001b[1;33m=\u001b[0m \u001b[0mvalue\u001b[0m\u001b[1;33m\u001b[0m\u001b[1;33m\u001b[0m\u001b[0m\n\u001b[1;32m--> 256\u001b[1;33m                 \u001b[0mself\u001b[0m\u001b[1;33m.\u001b[0m\u001b[0mresult\u001b[0m \u001b[1;33m=\u001b[0m \u001b[0mself\u001b[0m\u001b[1;33m.\u001b[0m\u001b[0mf\u001b[0m\u001b[1;33m(\u001b[0m\u001b[1;33m**\u001b[0m\u001b[0mself\u001b[0m\u001b[1;33m.\u001b[0m\u001b[0mkwargs\u001b[0m\u001b[1;33m)\u001b[0m\u001b[1;33m\u001b[0m\u001b[1;33m\u001b[0m\u001b[0m\n\u001b[0m\u001b[0;32m    257\u001b[0m                 \u001b[0mshow_inline_matplotlib_plots\u001b[0m\u001b[1;33m(\u001b[0m\u001b[1;33m)\u001b[0m\u001b[1;33m\u001b[0m\u001b[1;33m\u001b[0m\u001b[0m\n\u001b[0;32m    258\u001b[0m                 \u001b[1;32mif\u001b[0m \u001b[0mself\u001b[0m\u001b[1;33m.\u001b[0m\u001b[0mauto_display\u001b[0m \u001b[1;32mand\u001b[0m \u001b[0mself\u001b[0m\u001b[1;33m.\u001b[0m\u001b[0mresult\u001b[0m \u001b[1;32mis\u001b[0m \u001b[1;32mnot\u001b[0m \u001b[1;32mNone\u001b[0m\u001b[1;33m:\u001b[0m\u001b[1;33m\u001b[0m\u001b[1;33m\u001b[0m\u001b[0m\n",
          "\u001b[1;32m~\\anaconda3\\lib\\site-packages\\ipywidgets\\widgets\\interaction.py\u001b[0m in \u001b[0;36m<lambda>\u001b[1;34m(*args, **kwargs)\u001b[0m\n\u001b[0;32m    532\u001b[0m             \u001b[1;31m# some things (instancemethods) can't have attributes attached,\u001b[0m\u001b[1;33m\u001b[0m\u001b[1;33m\u001b[0m\u001b[1;33m\u001b[0m\u001b[0m\n\u001b[0;32m    533\u001b[0m             \u001b[1;31m# so wrap in a lambda\u001b[0m\u001b[1;33m\u001b[0m\u001b[1;33m\u001b[0m\u001b[1;33m\u001b[0m\u001b[0m\n\u001b[1;32m--> 534\u001b[1;33m             \u001b[0mf\u001b[0m \u001b[1;33m=\u001b[0m \u001b[1;32mlambda\u001b[0m \u001b[1;33m*\u001b[0m\u001b[0margs\u001b[0m\u001b[1;33m,\u001b[0m \u001b[1;33m**\u001b[0m\u001b[0mkwargs\u001b[0m\u001b[1;33m:\u001b[0m \u001b[0m__interact_f\u001b[0m\u001b[1;33m(\u001b[0m\u001b[1;33m*\u001b[0m\u001b[0margs\u001b[0m\u001b[1;33m,\u001b[0m \u001b[1;33m**\u001b[0m\u001b[0mkwargs\u001b[0m\u001b[1;33m)\u001b[0m\u001b[1;33m\u001b[0m\u001b[1;33m\u001b[0m\u001b[0m\n\u001b[0m\u001b[0;32m    535\u001b[0m             \u001b[0mf\u001b[0m\u001b[1;33m.\u001b[0m\u001b[0mwidget\u001b[0m \u001b[1;33m=\u001b[0m \u001b[0mw\u001b[0m\u001b[1;33m\u001b[0m\u001b[1;33m\u001b[0m\u001b[0m\n\u001b[0;32m    536\u001b[0m         \u001b[0mshow_inline_matplotlib_plots\u001b[0m\u001b[1;33m(\u001b[0m\u001b[1;33m)\u001b[0m\u001b[1;33m\u001b[0m\u001b[1;33m\u001b[0m\u001b[0m\n",
          "\u001b[1;31mTypeError\u001b[0m: 'int' object is not callable"
         ]
        }
       ]
      }
     },
     "2cc3bb9c4acf4119aa6d81c021ee4017": {
      "model_module": "@jupyter-widgets/base",
      "model_module_version": "1.2.0",
      "model_name": "LayoutModel",
      "state": {}
     },
     "2d2ac4ca198d488fafc3a19a0cb41127": {
      "model_module": "@jupyter-widgets/base",
      "model_module_version": "1.2.0",
      "model_name": "LayoutModel",
      "state": {}
     },
     "2f808ae53b4d4c62a354cd0f80e15519": {
      "model_module": "@jupyter-widgets/output",
      "model_module_version": "1.0.0",
      "model_name": "OutputModel",
      "state": {
       "layout": "IPY_MODEL_a0c2bea1098e4ab2bb8a120908115993",
       "outputs": [
        {
         "ename": "TypeError",
         "evalue": "'int' object is not callable",
         "output_type": "error",
         "traceback": [
          "\u001b[1;31m---------------------------------------------------------------------------\u001b[0m",
          "\u001b[1;31mTypeError\u001b[0m                                 Traceback (most recent call last)",
          "\u001b[1;32m~\\anaconda3\\lib\\site-packages\\ipywidgets\\widgets\\interaction.py\u001b[0m in \u001b[0;36mupdate\u001b[1;34m(self, *args)\u001b[0m\n\u001b[0;32m    254\u001b[0m                     \u001b[0mvalue\u001b[0m \u001b[1;33m=\u001b[0m \u001b[0mwidget\u001b[0m\u001b[1;33m.\u001b[0m\u001b[0mget_interact_value\u001b[0m\u001b[1;33m(\u001b[0m\u001b[1;33m)\u001b[0m\u001b[1;33m\u001b[0m\u001b[1;33m\u001b[0m\u001b[0m\n\u001b[0;32m    255\u001b[0m                     \u001b[0mself\u001b[0m\u001b[1;33m.\u001b[0m\u001b[0mkwargs\u001b[0m\u001b[1;33m[\u001b[0m\u001b[0mwidget\u001b[0m\u001b[1;33m.\u001b[0m\u001b[0m_kwarg\u001b[0m\u001b[1;33m]\u001b[0m \u001b[1;33m=\u001b[0m \u001b[0mvalue\u001b[0m\u001b[1;33m\u001b[0m\u001b[1;33m\u001b[0m\u001b[0m\n\u001b[1;32m--> 256\u001b[1;33m                 \u001b[0mself\u001b[0m\u001b[1;33m.\u001b[0m\u001b[0mresult\u001b[0m \u001b[1;33m=\u001b[0m \u001b[0mself\u001b[0m\u001b[1;33m.\u001b[0m\u001b[0mf\u001b[0m\u001b[1;33m(\u001b[0m\u001b[1;33m**\u001b[0m\u001b[0mself\u001b[0m\u001b[1;33m.\u001b[0m\u001b[0mkwargs\u001b[0m\u001b[1;33m)\u001b[0m\u001b[1;33m\u001b[0m\u001b[1;33m\u001b[0m\u001b[0m\n\u001b[0m\u001b[0;32m    257\u001b[0m                 \u001b[0mshow_inline_matplotlib_plots\u001b[0m\u001b[1;33m(\u001b[0m\u001b[1;33m)\u001b[0m\u001b[1;33m\u001b[0m\u001b[1;33m\u001b[0m\u001b[0m\n\u001b[0;32m    258\u001b[0m                 \u001b[1;32mif\u001b[0m \u001b[0mself\u001b[0m\u001b[1;33m.\u001b[0m\u001b[0mauto_display\u001b[0m \u001b[1;32mand\u001b[0m \u001b[0mself\u001b[0m\u001b[1;33m.\u001b[0m\u001b[0mresult\u001b[0m \u001b[1;32mis\u001b[0m \u001b[1;32mnot\u001b[0m \u001b[1;32mNone\u001b[0m\u001b[1;33m:\u001b[0m\u001b[1;33m\u001b[0m\u001b[1;33m\u001b[0m\u001b[0m\n",
          "\u001b[1;31mTypeError\u001b[0m: 'int' object is not callable"
         ]
        }
       ]
      }
     },
     "305ef56a02e14728bd444f419cda23fc": {
      "model_module": "@jupyter-widgets/output",
      "model_module_version": "1.0.0",
      "model_name": "OutputModel",
      "state": {
       "layout": "IPY_MODEL_66219397261b48cb894ce12097256b23",
       "outputs": [
        {
         "ename": "TypeError",
         "evalue": "'int' object is not callable",
         "output_type": "error",
         "traceback": [
          "\u001b[1;31m---------------------------------------------------------------------------\u001b[0m",
          "\u001b[1;31mTypeError\u001b[0m                                 Traceback (most recent call last)",
          "\u001b[1;32m~\\anaconda3\\lib\\site-packages\\ipywidgets\\widgets\\interaction.py\u001b[0m in \u001b[0;36mupdate\u001b[1;34m(self, *args)\u001b[0m\n\u001b[0;32m    254\u001b[0m                     \u001b[0mvalue\u001b[0m \u001b[1;33m=\u001b[0m \u001b[0mwidget\u001b[0m\u001b[1;33m.\u001b[0m\u001b[0mget_interact_value\u001b[0m\u001b[1;33m(\u001b[0m\u001b[1;33m)\u001b[0m\u001b[1;33m\u001b[0m\u001b[1;33m\u001b[0m\u001b[0m\n\u001b[0;32m    255\u001b[0m                     \u001b[0mself\u001b[0m\u001b[1;33m.\u001b[0m\u001b[0mkwargs\u001b[0m\u001b[1;33m[\u001b[0m\u001b[0mwidget\u001b[0m\u001b[1;33m.\u001b[0m\u001b[0m_kwarg\u001b[0m\u001b[1;33m]\u001b[0m \u001b[1;33m=\u001b[0m \u001b[0mvalue\u001b[0m\u001b[1;33m\u001b[0m\u001b[1;33m\u001b[0m\u001b[0m\n\u001b[1;32m--> 256\u001b[1;33m                 \u001b[0mself\u001b[0m\u001b[1;33m.\u001b[0m\u001b[0mresult\u001b[0m \u001b[1;33m=\u001b[0m \u001b[0mself\u001b[0m\u001b[1;33m.\u001b[0m\u001b[0mf\u001b[0m\u001b[1;33m(\u001b[0m\u001b[1;33m**\u001b[0m\u001b[0mself\u001b[0m\u001b[1;33m.\u001b[0m\u001b[0mkwargs\u001b[0m\u001b[1;33m)\u001b[0m\u001b[1;33m\u001b[0m\u001b[1;33m\u001b[0m\u001b[0m\n\u001b[0m\u001b[0;32m    257\u001b[0m                 \u001b[0mshow_inline_matplotlib_plots\u001b[0m\u001b[1;33m(\u001b[0m\u001b[1;33m)\u001b[0m\u001b[1;33m\u001b[0m\u001b[1;33m\u001b[0m\u001b[0m\n\u001b[0;32m    258\u001b[0m                 \u001b[1;32mif\u001b[0m \u001b[0mself\u001b[0m\u001b[1;33m.\u001b[0m\u001b[0mauto_display\u001b[0m \u001b[1;32mand\u001b[0m \u001b[0mself\u001b[0m\u001b[1;33m.\u001b[0m\u001b[0mresult\u001b[0m \u001b[1;32mis\u001b[0m \u001b[1;32mnot\u001b[0m \u001b[1;32mNone\u001b[0m\u001b[1;33m:\u001b[0m\u001b[1;33m\u001b[0m\u001b[1;33m\u001b[0m\u001b[0m\n",
          "\u001b[1;32m~\\anaconda3\\lib\\site-packages\\ipywidgets\\widgets\\interaction.py\u001b[0m in \u001b[0;36m<lambda>\u001b[1;34m(*args, **kwargs)\u001b[0m\n\u001b[0;32m    532\u001b[0m             \u001b[1;31m# some things (instancemethods) can't have attributes attached,\u001b[0m\u001b[1;33m\u001b[0m\u001b[1;33m\u001b[0m\u001b[1;33m\u001b[0m\u001b[0m\n\u001b[0;32m    533\u001b[0m             \u001b[1;31m# so wrap in a lambda\u001b[0m\u001b[1;33m\u001b[0m\u001b[1;33m\u001b[0m\u001b[1;33m\u001b[0m\u001b[0m\n\u001b[1;32m--> 534\u001b[1;33m             \u001b[0mf\u001b[0m \u001b[1;33m=\u001b[0m \u001b[1;32mlambda\u001b[0m \u001b[1;33m*\u001b[0m\u001b[0margs\u001b[0m\u001b[1;33m,\u001b[0m \u001b[1;33m**\u001b[0m\u001b[0mkwargs\u001b[0m\u001b[1;33m:\u001b[0m \u001b[0m__interact_f\u001b[0m\u001b[1;33m(\u001b[0m\u001b[1;33m*\u001b[0m\u001b[0margs\u001b[0m\u001b[1;33m,\u001b[0m \u001b[1;33m**\u001b[0m\u001b[0mkwargs\u001b[0m\u001b[1;33m)\u001b[0m\u001b[1;33m\u001b[0m\u001b[1;33m\u001b[0m\u001b[0m\n\u001b[0m\u001b[0;32m    535\u001b[0m             \u001b[0mf\u001b[0m\u001b[1;33m.\u001b[0m\u001b[0mwidget\u001b[0m \u001b[1;33m=\u001b[0m \u001b[0mw\u001b[0m\u001b[1;33m\u001b[0m\u001b[1;33m\u001b[0m\u001b[0m\n\u001b[0;32m    536\u001b[0m         \u001b[0mshow_inline_matplotlib_plots\u001b[0m\u001b[1;33m(\u001b[0m\u001b[1;33m)\u001b[0m\u001b[1;33m\u001b[0m\u001b[1;33m\u001b[0m\u001b[0m\n",
          "\u001b[1;31mTypeError\u001b[0m: 'int' object is not callable"
         ]
        }
       ]
      }
     },
     "3363f2ed7f64453eae4996e0e0f0d4f8": {
      "model_module": "@jupyter-widgets/controls",
      "model_module_version": "1.5.0",
      "model_name": "TextModel",
      "state": {
       "description": "a",
       "layout": "IPY_MODEL_9a966c8c164740caa31669cea9acec53",
       "style": "IPY_MODEL_7f261219a826453a8ccb1b028bcab5ca",
       "value": "0.1"
      }
     },
     "390adff69bf54af1b9f7be6123238fbd": {
      "model_module": "@jupyter-widgets/controls",
      "model_module_version": "1.5.0",
      "model_name": "VBoxModel",
      "state": {
       "_dom_classes": [
        "widget-interact"
       ],
       "children": [
        "IPY_MODEL_0c4171fc723449608f34f4a716b2b6c0",
        "IPY_MODEL_ea2128e2ccc94906b59ae30480ab5d57"
       ],
       "layout": "IPY_MODEL_ac4c6140d2c04caca3a60d312744ecb7"
      }
     },
     "3a61da9432af4041bae11a71e0a772cd": {
      "model_module": "@jupyter-widgets/controls",
      "model_module_version": "1.5.0",
      "model_name": "SliderStyleModel",
      "state": {
       "description_width": ""
      }
     },
     "3c0815a8dfb049bd95583d6d86024bf1": {
      "model_module": "@jupyter-widgets/controls",
      "model_module_version": "1.5.0",
      "model_name": "IntSliderModel",
      "state": {
       "description": "x",
       "layout": "IPY_MODEL_73e6e28c391d4ded8b62aea864c2967f",
       "max": 30,
       "min": -10,
       "style": "IPY_MODEL_88459eed8534438b844e6f61f45b2c7c",
       "value": -1
      }
     },
     "3c4b2c6c7002469f8fbda5d5897b109b": {
      "model_module": "@jupyter-widgets/base",
      "model_module_version": "1.2.0",
      "model_name": "LayoutModel",
      "state": {}
     },
     "3c96982572f248ebb0058831f5cda2a9": {
      "model_module": "@jupyter-widgets/base",
      "model_module_version": "1.2.0",
      "model_name": "LayoutModel",
      "state": {}
     },
     "406fbd43caa149d69ca4dfb160591755": {
      "model_module": "@jupyter-widgets/base",
      "model_module_version": "1.2.0",
      "model_name": "LayoutModel",
      "state": {}
     },
     "4194048670014e878896dd2ba1184503": {
      "model_module": "@jupyter-widgets/base",
      "model_module_version": "1.2.0",
      "model_name": "LayoutModel",
      "state": {}
     },
     "4654ce43d6004453a17dbf3a790173cf": {
      "model_module": "@jupyter-widgets/controls",
      "model_module_version": "1.5.0",
      "model_name": "VBoxModel",
      "state": {
       "_dom_classes": [
        "widget-interact"
       ],
       "children": [
        "IPY_MODEL_8de19f4439d24e5aa44926cef02db6d3",
        "IPY_MODEL_53da7042f9e642c48e269760f753445e"
       ],
       "layout": "IPY_MODEL_090512cbc6d04419b49b7b92926dceeb"
      }
     },
     "467b95502cfd44ebacaacba46d644f6e": {
      "model_module": "@jupyter-widgets/base",
      "model_module_version": "1.2.0",
      "model_name": "LayoutModel",
      "state": {}
     },
     "46e4f792b62046cdb2b52d238a94ba69": {
      "model_module": "@jupyter-widgets/controls",
      "model_module_version": "1.5.0",
      "model_name": "VBoxModel",
      "state": {
       "_dom_classes": [
        "widget-interact"
       ],
       "children": [
        "IPY_MODEL_8c9fbbd109fc45b0937a167bc71e4bf0",
        "IPY_MODEL_9dc4df73b84c4fdfbeed3dcaf6d4d50b"
       ],
       "layout": "IPY_MODEL_c16975a388c9499a9f11d81cc86b29f4"
      }
     },
     "46f9c900e94b4e7b8712c8fbcd168194": {
      "model_module": "@jupyter-widgets/controls",
      "model_module_version": "1.5.0",
      "model_name": "VBoxModel",
      "state": {
       "_dom_classes": [
        "widget-interact"
       ],
       "children": [
        "IPY_MODEL_3c0815a8dfb049bd95583d6d86024bf1",
        "IPY_MODEL_2f808ae53b4d4c62a354cd0f80e15519"
       ],
       "layout": "IPY_MODEL_f83b1396552f4cf3940dd7ecaedb5e51"
      }
     },
     "47598c4204b24460b52610c9e9ebc531": {
      "model_module": "@jupyter-widgets/base",
      "model_module_version": "1.2.0",
      "model_name": "LayoutModel",
      "state": {}
     },
     "48ac017bcb794359a4ba539d92e0f734": {
      "model_module": "@jupyter-widgets/controls",
      "model_module_version": "1.5.0",
      "model_name": "VBoxModel",
      "state": {
       "_dom_classes": [
        "widget-interact"
       ],
       "children": [
        "IPY_MODEL_b1696c1fb8574588b8c25c69b56764d2",
        "IPY_MODEL_2cb0186e8aaa4035a91cd4cedffaa088"
       ],
       "layout": "IPY_MODEL_a01768e10a0b43babfd03fb236cdcbd1"
      }
     },
     "4c850a6a4d2b41318883c950f816d058": {
      "model_module": "@jupyter-widgets/base",
      "model_module_version": "1.2.0",
      "model_name": "LayoutModel",
      "state": {}
     },
     "4fd9fd4304094fa6bc6c198d6c67ba47": {
      "model_module": "@jupyter-widgets/base",
      "model_module_version": "1.2.0",
      "model_name": "LayoutModel",
      "state": {}
     },
     "5086775e28e84eef8443115b41eca44f": {
      "model_module": "@jupyter-widgets/controls",
      "model_module_version": "1.5.0",
      "model_name": "DescriptionStyleModel",
      "state": {
       "description_width": ""
      }
     },
     "512717d210464e88a41baa3f1d900c1c": {
      "model_module": "@jupyter-widgets/output",
      "model_module_version": "1.0.0",
      "model_name": "OutputModel",
      "state": {
       "layout": "IPY_MODEL_d89bb24ef1544b8f9cc9f81217852829",
       "outputs": [
        {
         "ename": "TypeError",
         "evalue": "'int' object is not callable",
         "output_type": "error",
         "traceback": [
          "\u001b[1;31m---------------------------------------------------------------------------\u001b[0m",
          "\u001b[1;31mTypeError\u001b[0m                                 Traceback (most recent call last)",
          "\u001b[1;32m~\\anaconda3\\lib\\site-packages\\ipywidgets\\widgets\\interaction.py\u001b[0m in \u001b[0;36mupdate\u001b[1;34m(self, *args)\u001b[0m\n\u001b[0;32m    254\u001b[0m                     \u001b[0mvalue\u001b[0m \u001b[1;33m=\u001b[0m \u001b[0mwidget\u001b[0m\u001b[1;33m.\u001b[0m\u001b[0mget_interact_value\u001b[0m\u001b[1;33m(\u001b[0m\u001b[1;33m)\u001b[0m\u001b[1;33m\u001b[0m\u001b[1;33m\u001b[0m\u001b[0m\n\u001b[0;32m    255\u001b[0m                     \u001b[0mself\u001b[0m\u001b[1;33m.\u001b[0m\u001b[0mkwargs\u001b[0m\u001b[1;33m[\u001b[0m\u001b[0mwidget\u001b[0m\u001b[1;33m.\u001b[0m\u001b[0m_kwarg\u001b[0m\u001b[1;33m]\u001b[0m \u001b[1;33m=\u001b[0m \u001b[0mvalue\u001b[0m\u001b[1;33m\u001b[0m\u001b[1;33m\u001b[0m\u001b[0m\n\u001b[1;32m--> 256\u001b[1;33m                 \u001b[0mself\u001b[0m\u001b[1;33m.\u001b[0m\u001b[0mresult\u001b[0m \u001b[1;33m=\u001b[0m \u001b[0mself\u001b[0m\u001b[1;33m.\u001b[0m\u001b[0mf\u001b[0m\u001b[1;33m(\u001b[0m\u001b[1;33m**\u001b[0m\u001b[0mself\u001b[0m\u001b[1;33m.\u001b[0m\u001b[0mkwargs\u001b[0m\u001b[1;33m)\u001b[0m\u001b[1;33m\u001b[0m\u001b[1;33m\u001b[0m\u001b[0m\n\u001b[0m\u001b[0;32m    257\u001b[0m                 \u001b[0mshow_inline_matplotlib_plots\u001b[0m\u001b[1;33m(\u001b[0m\u001b[1;33m)\u001b[0m\u001b[1;33m\u001b[0m\u001b[1;33m\u001b[0m\u001b[0m\n\u001b[0;32m    258\u001b[0m                 \u001b[1;32mif\u001b[0m \u001b[0mself\u001b[0m\u001b[1;33m.\u001b[0m\u001b[0mauto_display\u001b[0m \u001b[1;32mand\u001b[0m \u001b[0mself\u001b[0m\u001b[1;33m.\u001b[0m\u001b[0mresult\u001b[0m \u001b[1;32mis\u001b[0m \u001b[1;32mnot\u001b[0m \u001b[1;32mNone\u001b[0m\u001b[1;33m:\u001b[0m\u001b[1;33m\u001b[0m\u001b[1;33m\u001b[0m\u001b[0m\n",
          "\u001b[1;32m~\\anaconda3\\lib\\site-packages\\ipywidgets\\widgets\\interaction.py\u001b[0m in \u001b[0;36m<lambda>\u001b[1;34m(*args, **kwargs)\u001b[0m\n\u001b[0;32m    532\u001b[0m             \u001b[1;31m# some things (instancemethods) can't have attributes attached,\u001b[0m\u001b[1;33m\u001b[0m\u001b[1;33m\u001b[0m\u001b[1;33m\u001b[0m\u001b[0m\n\u001b[0;32m    533\u001b[0m             \u001b[1;31m# so wrap in a lambda\u001b[0m\u001b[1;33m\u001b[0m\u001b[1;33m\u001b[0m\u001b[1;33m\u001b[0m\u001b[0m\n\u001b[1;32m--> 534\u001b[1;33m             \u001b[0mf\u001b[0m \u001b[1;33m=\u001b[0m \u001b[1;32mlambda\u001b[0m \u001b[1;33m*\u001b[0m\u001b[0margs\u001b[0m\u001b[1;33m,\u001b[0m \u001b[1;33m**\u001b[0m\u001b[0mkwargs\u001b[0m\u001b[1;33m:\u001b[0m \u001b[0m__interact_f\u001b[0m\u001b[1;33m(\u001b[0m\u001b[1;33m*\u001b[0m\u001b[0margs\u001b[0m\u001b[1;33m,\u001b[0m \u001b[1;33m**\u001b[0m\u001b[0mkwargs\u001b[0m\u001b[1;33m)\u001b[0m\u001b[1;33m\u001b[0m\u001b[1;33m\u001b[0m\u001b[0m\n\u001b[0m\u001b[0;32m    535\u001b[0m             \u001b[0mf\u001b[0m\u001b[1;33m.\u001b[0m\u001b[0mwidget\u001b[0m \u001b[1;33m=\u001b[0m \u001b[0mw\u001b[0m\u001b[1;33m\u001b[0m\u001b[1;33m\u001b[0m\u001b[0m\n\u001b[0;32m    536\u001b[0m         \u001b[0mshow_inline_matplotlib_plots\u001b[0m\u001b[1;33m(\u001b[0m\u001b[1;33m)\u001b[0m\u001b[1;33m\u001b[0m\u001b[1;33m\u001b[0m\u001b[0m\n",
          "\u001b[1;31mTypeError\u001b[0m: 'int' object is not callable"
         ]
        }
       ]
      }
     },
     "51d3572d96f24e748425ca80eb1f2f4e": {
      "model_module": "@jupyter-widgets/base",
      "model_module_version": "1.2.0",
      "model_name": "LayoutModel",
      "state": {}
     },
     "52150573a4024037b162f620c9cb65c3": {
      "model_module": "@jupyter-widgets/controls",
      "model_module_version": "1.5.0",
      "model_name": "TextModel",
      "state": {
       "description": "x",
       "layout": "IPY_MODEL_a924d30fcc1e417d8fa82c802708f305",
       "style": "IPY_MODEL_6a65edc67c8e44f9b373b07b8c984679",
       "value": "Hi there!"
      }
     },
     "534b18b9e7754d2eb361a2a3e8a6ffca": {
      "model_module": "@jupyter-widgets/controls",
      "model_module_version": "1.5.0",
      "model_name": "TextModel",
      "state": {
       "description": "l",
       "layout": "IPY_MODEL_ec207ab5fd9a4fa0a592e43fa6395675",
       "style": "IPY_MODEL_ad55811edc5a4d179d045d29cd9f3216",
       "value": "0.4"
      }
     },
     "5384b2a032394f5e84fff31282aa6550": {
      "model_module": "@jupyter-widgets/controls",
      "model_module_version": "1.5.0",
      "model_name": "DescriptionStyleModel",
      "state": {
       "description_width": ""
      }
     },
     "53da7042f9e642c48e269760f753445e": {
      "model_module": "@jupyter-widgets/output",
      "model_module_version": "1.0.0",
      "model_name": "OutputModel",
      "state": {
       "layout": "IPY_MODEL_4194048670014e878896dd2ba1184503",
       "outputs": [
        {
         "ename": "TypeError",
         "evalue": "'int' object is not callable",
         "output_type": "error",
         "traceback": [
          "\u001b[1;31m---------------------------------------------------------------------------\u001b[0m",
          "\u001b[1;31mTypeError\u001b[0m                                 Traceback (most recent call last)",
          "\u001b[1;32m~\\anaconda3\\lib\\site-packages\\ipywidgets\\widgets\\interaction.py\u001b[0m in \u001b[0;36mupdate\u001b[1;34m(self, *args)\u001b[0m\n\u001b[0;32m    254\u001b[0m                     \u001b[0mvalue\u001b[0m \u001b[1;33m=\u001b[0m \u001b[0mwidget\u001b[0m\u001b[1;33m.\u001b[0m\u001b[0mget_interact_value\u001b[0m\u001b[1;33m(\u001b[0m\u001b[1;33m)\u001b[0m\u001b[1;33m\u001b[0m\u001b[1;33m\u001b[0m\u001b[0m\n\u001b[0;32m    255\u001b[0m                     \u001b[0mself\u001b[0m\u001b[1;33m.\u001b[0m\u001b[0mkwargs\u001b[0m\u001b[1;33m[\u001b[0m\u001b[0mwidget\u001b[0m\u001b[1;33m.\u001b[0m\u001b[0m_kwarg\u001b[0m\u001b[1;33m]\u001b[0m \u001b[1;33m=\u001b[0m \u001b[0mvalue\u001b[0m\u001b[1;33m\u001b[0m\u001b[1;33m\u001b[0m\u001b[0m\n\u001b[1;32m--> 256\u001b[1;33m                 \u001b[0mself\u001b[0m\u001b[1;33m.\u001b[0m\u001b[0mresult\u001b[0m \u001b[1;33m=\u001b[0m \u001b[0mself\u001b[0m\u001b[1;33m.\u001b[0m\u001b[0mf\u001b[0m\u001b[1;33m(\u001b[0m\u001b[1;33m**\u001b[0m\u001b[0mself\u001b[0m\u001b[1;33m.\u001b[0m\u001b[0mkwargs\u001b[0m\u001b[1;33m)\u001b[0m\u001b[1;33m\u001b[0m\u001b[1;33m\u001b[0m\u001b[0m\n\u001b[0m\u001b[0;32m    257\u001b[0m                 \u001b[0mshow_inline_matplotlib_plots\u001b[0m\u001b[1;33m(\u001b[0m\u001b[1;33m)\u001b[0m\u001b[1;33m\u001b[0m\u001b[1;33m\u001b[0m\u001b[0m\n\u001b[0;32m    258\u001b[0m                 \u001b[1;32mif\u001b[0m \u001b[0mself\u001b[0m\u001b[1;33m.\u001b[0m\u001b[0mauto_display\u001b[0m \u001b[1;32mand\u001b[0m \u001b[0mself\u001b[0m\u001b[1;33m.\u001b[0m\u001b[0mresult\u001b[0m \u001b[1;32mis\u001b[0m \u001b[1;32mnot\u001b[0m \u001b[1;32mNone\u001b[0m\u001b[1;33m:\u001b[0m\u001b[1;33m\u001b[0m\u001b[1;33m\u001b[0m\u001b[0m\n",
          "\u001b[1;31mTypeError\u001b[0m: 'int' object is not callable"
         ]
        }
       ]
      }
     },
     "5824b849da9e480ea573cb7fa1bc2b26": {
      "model_module": "@jupyter-widgets/controls",
      "model_module_version": "1.5.0",
      "model_name": "SliderStyleModel",
      "state": {
       "description_width": ""
      }
     },
     "5a25f5a3388e4ddcabaf94d161cf88ce": {
      "model_module": "@jupyter-widgets/output",
      "model_module_version": "1.0.0",
      "model_name": "OutputModel",
      "state": {
       "layout": "IPY_MODEL_ee56da492fff43a7863cce5918ca239e",
       "outputs": [
        {
         "ename": "TypeError",
         "evalue": "'int' object is not callable",
         "output_type": "error",
         "traceback": [
          "\u001b[1;31m---------------------------------------------------------------------------\u001b[0m",
          "\u001b[1;31mTypeError\u001b[0m                                 Traceback (most recent call last)",
          "\u001b[1;32m~\\anaconda3\\lib\\site-packages\\ipywidgets\\widgets\\interaction.py\u001b[0m in \u001b[0;36mupdate\u001b[1;34m(self, *args)\u001b[0m\n\u001b[0;32m    254\u001b[0m                     \u001b[0mvalue\u001b[0m \u001b[1;33m=\u001b[0m \u001b[0mwidget\u001b[0m\u001b[1;33m.\u001b[0m\u001b[0mget_interact_value\u001b[0m\u001b[1;33m(\u001b[0m\u001b[1;33m)\u001b[0m\u001b[1;33m\u001b[0m\u001b[1;33m\u001b[0m\u001b[0m\n\u001b[0;32m    255\u001b[0m                     \u001b[0mself\u001b[0m\u001b[1;33m.\u001b[0m\u001b[0mkwargs\u001b[0m\u001b[1;33m[\u001b[0m\u001b[0mwidget\u001b[0m\u001b[1;33m.\u001b[0m\u001b[0m_kwarg\u001b[0m\u001b[1;33m]\u001b[0m \u001b[1;33m=\u001b[0m \u001b[0mvalue\u001b[0m\u001b[1;33m\u001b[0m\u001b[1;33m\u001b[0m\u001b[0m\n\u001b[1;32m--> 256\u001b[1;33m                 \u001b[0mself\u001b[0m\u001b[1;33m.\u001b[0m\u001b[0mresult\u001b[0m \u001b[1;33m=\u001b[0m \u001b[0mself\u001b[0m\u001b[1;33m.\u001b[0m\u001b[0mf\u001b[0m\u001b[1;33m(\u001b[0m\u001b[1;33m**\u001b[0m\u001b[0mself\u001b[0m\u001b[1;33m.\u001b[0m\u001b[0mkwargs\u001b[0m\u001b[1;33m)\u001b[0m\u001b[1;33m\u001b[0m\u001b[1;33m\u001b[0m\u001b[0m\n\u001b[0m\u001b[0;32m    257\u001b[0m                 \u001b[0mshow_inline_matplotlib_plots\u001b[0m\u001b[1;33m(\u001b[0m\u001b[1;33m)\u001b[0m\u001b[1;33m\u001b[0m\u001b[1;33m\u001b[0m\u001b[0m\n\u001b[0;32m    258\u001b[0m                 \u001b[1;32mif\u001b[0m \u001b[0mself\u001b[0m\u001b[1;33m.\u001b[0m\u001b[0mauto_display\u001b[0m \u001b[1;32mand\u001b[0m \u001b[0mself\u001b[0m\u001b[1;33m.\u001b[0m\u001b[0mresult\u001b[0m \u001b[1;32mis\u001b[0m \u001b[1;32mnot\u001b[0m \u001b[1;32mNone\u001b[0m\u001b[1;33m:\u001b[0m\u001b[1;33m\u001b[0m\u001b[1;33m\u001b[0m\u001b[0m\n",
          "\u001b[1;32m~\\anaconda3\\lib\\site-packages\\ipywidgets\\widgets\\interaction.py\u001b[0m in \u001b[0;36m<lambda>\u001b[1;34m(*args, **kwargs)\u001b[0m\n\u001b[0;32m    532\u001b[0m             \u001b[1;31m# some things (instancemethods) can't have attributes attached,\u001b[0m\u001b[1;33m\u001b[0m\u001b[1;33m\u001b[0m\u001b[1;33m\u001b[0m\u001b[0m\n\u001b[0;32m    533\u001b[0m             \u001b[1;31m# so wrap in a lambda\u001b[0m\u001b[1;33m\u001b[0m\u001b[1;33m\u001b[0m\u001b[1;33m\u001b[0m\u001b[0m\n\u001b[1;32m--> 534\u001b[1;33m             \u001b[0mf\u001b[0m \u001b[1;33m=\u001b[0m \u001b[1;32mlambda\u001b[0m \u001b[1;33m*\u001b[0m\u001b[0margs\u001b[0m\u001b[1;33m,\u001b[0m \u001b[1;33m**\u001b[0m\u001b[0mkwargs\u001b[0m\u001b[1;33m:\u001b[0m \u001b[0m__interact_f\u001b[0m\u001b[1;33m(\u001b[0m\u001b[1;33m*\u001b[0m\u001b[0margs\u001b[0m\u001b[1;33m,\u001b[0m \u001b[1;33m**\u001b[0m\u001b[0mkwargs\u001b[0m\u001b[1;33m)\u001b[0m\u001b[1;33m\u001b[0m\u001b[1;33m\u001b[0m\u001b[0m\n\u001b[0m\u001b[0;32m    535\u001b[0m             \u001b[0mf\u001b[0m\u001b[1;33m.\u001b[0m\u001b[0mwidget\u001b[0m \u001b[1;33m=\u001b[0m \u001b[0mw\u001b[0m\u001b[1;33m\u001b[0m\u001b[1;33m\u001b[0m\u001b[0m\n\u001b[0;32m    536\u001b[0m         \u001b[0mshow_inline_matplotlib_plots\u001b[0m\u001b[1;33m(\u001b[0m\u001b[1;33m)\u001b[0m\u001b[1;33m\u001b[0m\u001b[1;33m\u001b[0m\u001b[0m\n",
          "\u001b[1;31mTypeError\u001b[0m: 'int' object is not callable"
         ]
        }
       ]
      }
     },
     "5b4c1feebe574afdb690bfb0c4d38bf7": {
      "model_module": "@jupyter-widgets/base",
      "model_module_version": "1.2.0",
      "model_name": "LayoutModel",
      "state": {}
     },
     "5c72927d6843468c95a0140b73e6f9a9": {
      "model_module": "@jupyter-widgets/output",
      "model_module_version": "1.0.0",
      "model_name": "OutputModel",
      "state": {
       "layout": "IPY_MODEL_5f0480b1ae3749729df890eb9282f03d",
       "outputs": [
        {
         "name": "stdout",
         "output_type": "stream",
         "text": "0.4 9.8 980.0 1.6699999999999995 13.6 1 1000\n"
        }
       ]
      }
     },
     "5cb1808f0fc543d6b341a4f3795654f7": {
      "model_module": "@jupyter-widgets/output",
      "model_module_version": "1.0.0",
      "model_name": "OutputModel",
      "state": {
       "layout": "IPY_MODEL_0a1493d6219a4e8eba520bc76c98a9f8",
       "outputs": [
        {
         "ename": "TypeError",
         "evalue": "'int' object is not callable",
         "output_type": "error",
         "traceback": [
          "\u001b[1;31m---------------------------------------------------------------------------\u001b[0m",
          "\u001b[1;31mTypeError\u001b[0m                                 Traceback (most recent call last)",
          "\u001b[1;32m~\\anaconda3\\lib\\site-packages\\ipywidgets\\widgets\\interaction.py\u001b[0m in \u001b[0;36mupdate\u001b[1;34m(self, *args)\u001b[0m\n\u001b[0;32m    254\u001b[0m                     \u001b[0mvalue\u001b[0m \u001b[1;33m=\u001b[0m \u001b[0mwidget\u001b[0m\u001b[1;33m.\u001b[0m\u001b[0mget_interact_value\u001b[0m\u001b[1;33m(\u001b[0m\u001b[1;33m)\u001b[0m\u001b[1;33m\u001b[0m\u001b[1;33m\u001b[0m\u001b[0m\n\u001b[0;32m    255\u001b[0m                     \u001b[0mself\u001b[0m\u001b[1;33m.\u001b[0m\u001b[0mkwargs\u001b[0m\u001b[1;33m[\u001b[0m\u001b[0mwidget\u001b[0m\u001b[1;33m.\u001b[0m\u001b[0m_kwarg\u001b[0m\u001b[1;33m]\u001b[0m \u001b[1;33m=\u001b[0m \u001b[0mvalue\u001b[0m\u001b[1;33m\u001b[0m\u001b[1;33m\u001b[0m\u001b[0m\n\u001b[1;32m--> 256\u001b[1;33m                 \u001b[0mself\u001b[0m\u001b[1;33m.\u001b[0m\u001b[0mresult\u001b[0m \u001b[1;33m=\u001b[0m \u001b[0mself\u001b[0m\u001b[1;33m.\u001b[0m\u001b[0mf\u001b[0m\u001b[1;33m(\u001b[0m\u001b[1;33m**\u001b[0m\u001b[0mself\u001b[0m\u001b[1;33m.\u001b[0m\u001b[0mkwargs\u001b[0m\u001b[1;33m)\u001b[0m\u001b[1;33m\u001b[0m\u001b[1;33m\u001b[0m\u001b[0m\n\u001b[0m\u001b[0;32m    257\u001b[0m                 \u001b[0mshow_inline_matplotlib_plots\u001b[0m\u001b[1;33m(\u001b[0m\u001b[1;33m)\u001b[0m\u001b[1;33m\u001b[0m\u001b[1;33m\u001b[0m\u001b[0m\n\u001b[0;32m    258\u001b[0m                 \u001b[1;32mif\u001b[0m \u001b[0mself\u001b[0m\u001b[1;33m.\u001b[0m\u001b[0mauto_display\u001b[0m \u001b[1;32mand\u001b[0m \u001b[0mself\u001b[0m\u001b[1;33m.\u001b[0m\u001b[0mresult\u001b[0m \u001b[1;32mis\u001b[0m \u001b[1;32mnot\u001b[0m \u001b[1;32mNone\u001b[0m\u001b[1;33m:\u001b[0m\u001b[1;33m\u001b[0m\u001b[1;33m\u001b[0m\u001b[0m\n",
          "\u001b[1;32m~\\anaconda3\\lib\\site-packages\\ipywidgets\\widgets\\interaction.py\u001b[0m in \u001b[0;36m<lambda>\u001b[1;34m(*args, **kwargs)\u001b[0m\n\u001b[0;32m    532\u001b[0m             \u001b[1;31m# some things (instancemethods) can't have attributes attached,\u001b[0m\u001b[1;33m\u001b[0m\u001b[1;33m\u001b[0m\u001b[1;33m\u001b[0m\u001b[0m\n\u001b[0;32m    533\u001b[0m             \u001b[1;31m# so wrap in a lambda\u001b[0m\u001b[1;33m\u001b[0m\u001b[1;33m\u001b[0m\u001b[1;33m\u001b[0m\u001b[0m\n\u001b[1;32m--> 534\u001b[1;33m             \u001b[0mf\u001b[0m \u001b[1;33m=\u001b[0m \u001b[1;32mlambda\u001b[0m \u001b[1;33m*\u001b[0m\u001b[0margs\u001b[0m\u001b[1;33m,\u001b[0m \u001b[1;33m**\u001b[0m\u001b[0mkwargs\u001b[0m\u001b[1;33m:\u001b[0m \u001b[0m__interact_f\u001b[0m\u001b[1;33m(\u001b[0m\u001b[1;33m*\u001b[0m\u001b[0margs\u001b[0m\u001b[1;33m,\u001b[0m \u001b[1;33m**\u001b[0m\u001b[0mkwargs\u001b[0m\u001b[1;33m)\u001b[0m\u001b[1;33m\u001b[0m\u001b[1;33m\u001b[0m\u001b[0m\n\u001b[0m\u001b[0;32m    535\u001b[0m             \u001b[0mf\u001b[0m\u001b[1;33m.\u001b[0m\u001b[0mwidget\u001b[0m \u001b[1;33m=\u001b[0m \u001b[0mw\u001b[0m\u001b[1;33m\u001b[0m\u001b[1;33m\u001b[0m\u001b[0m\n\u001b[0;32m    536\u001b[0m         \u001b[0mshow_inline_matplotlib_plots\u001b[0m\u001b[1;33m(\u001b[0m\u001b[1;33m)\u001b[0m\u001b[1;33m\u001b[0m\u001b[1;33m\u001b[0m\u001b[0m\n",
          "\u001b[1;31mTypeError\u001b[0m: 'int' object is not callable"
         ]
        }
       ]
      }
     },
     "5f0480b1ae3749729df890eb9282f03d": {
      "model_module": "@jupyter-widgets/base",
      "model_module_version": "1.2.0",
      "model_name": "LayoutModel",
      "state": {}
     },
     "6242c222fc564e04b1e2e1c39c2cb8f1": {
      "model_module": "@jupyter-widgets/controls",
      "model_module_version": "1.5.0",
      "model_name": "SliderStyleModel",
      "state": {
       "description_width": ""
      }
     },
     "637e94ae735748098a8c54e53e105543": {
      "model_module": "@jupyter-widgets/output",
      "model_module_version": "1.0.0",
      "model_name": "OutputModel",
      "state": {
       "layout": "IPY_MODEL_4fd9fd4304094fa6bc6c198d6c67ba47"
      }
     },
     "66219397261b48cb894ce12097256b23": {
      "model_module": "@jupyter-widgets/base",
      "model_module_version": "1.2.0",
      "model_name": "LayoutModel",
      "state": {}
     },
     "6a65edc67c8e44f9b373b07b8c984679": {
      "model_module": "@jupyter-widgets/controls",
      "model_module_version": "1.5.0",
      "model_name": "DescriptionStyleModel",
      "state": {
       "description_width": ""
      }
     },
     "736aa67ad2d54776b996904ea2f72d20": {
      "model_module": "@jupyter-widgets/controls",
      "model_module_version": "1.5.0",
      "model_name": "IntSliderModel",
      "state": {
       "description": "x",
       "layout": "IPY_MODEL_f1fdcecd63d948be8b9dc9164293d117",
       "max": 30,
       "min": -10,
       "style": "IPY_MODEL_27dc5e21061644068c7d049ed7113dbb",
       "value": 3
      }
     },
     "73e6e28c391d4ded8b62aea864c2967f": {
      "model_module": "@jupyter-widgets/base",
      "model_module_version": "1.2.0",
      "model_name": "LayoutModel",
      "state": {}
     },
     "745f6421a15b4ff69a89f2620ea02c4d": {
      "model_module": "@jupyter-widgets/base",
      "model_module_version": "1.2.0",
      "model_name": "LayoutModel",
      "state": {}
     },
     "795e554788d54c9381b949f6802cc818": {
      "model_module": "@jupyter-widgets/base",
      "model_module_version": "1.2.0",
      "model_name": "LayoutModel",
      "state": {}
     },
     "79a2aba3d4bd4d88abd2d8cf780dd838": {
      "model_module": "@jupyter-widgets/base",
      "model_module_version": "1.2.0",
      "model_name": "LayoutModel",
      "state": {}
     },
     "7f261219a826453a8ccb1b028bcab5ca": {
      "model_module": "@jupyter-widgets/controls",
      "model_module_version": "1.5.0",
      "model_name": "DescriptionStyleModel",
      "state": {
       "description_width": ""
      }
     },
     "835fcafa174b42479e896e93c9bf67b2": {
      "model_module": "@jupyter-widgets/base",
      "model_module_version": "1.2.0",
      "model_name": "LayoutModel",
      "state": {}
     },
     "8395b8ad5af1432fb5808f7720badee8": {
      "model_module": "@jupyter-widgets/base",
      "model_module_version": "1.2.0",
      "model_name": "LayoutModel",
      "state": {}
     },
     "848b95a8e7ee4ada9153ca88301aa901": {
      "model_module": "@jupyter-widgets/controls",
      "model_module_version": "1.5.0",
      "model_name": "TextModel",
      "state": {
       "description": "x",
       "layout": "IPY_MODEL_2060ab158d1a4029a7072f67fa2bc633",
       "style": "IPY_MODEL_a4bc872b2fd2485288e13f77535f0bd6",
       "value": "Hi there!"
      }
     },
     "87d35a5fec7a4f39abe8dd9aa1974cb7": {
      "model_module": "@jupyter-widgets/base",
      "model_module_version": "1.2.0",
      "model_name": "LayoutModel",
      "state": {}
     },
     "88459eed8534438b844e6f61f45b2c7c": {
      "model_module": "@jupyter-widgets/controls",
      "model_module_version": "1.5.0",
      "model_name": "SliderStyleModel",
      "state": {
       "description_width": ""
      }
     },
     "89fc42cd2d92431e955f42f29e04d4d5": {
      "model_module": "@jupyter-widgets/controls",
      "model_module_version": "1.5.0",
      "model_name": "TextModel",
      "state": {
       "description": "Patm",
       "layout": "IPY_MODEL_406fbd43caa149d69ca4dfb160591755",
       "style": "IPY_MODEL_fa621d14f1bc427b9b8115edae861720",
       "value": "980"
      }
     },
     "8c9fbbd109fc45b0937a167bc71e4bf0": {
      "model_module": "@jupyter-widgets/controls",
      "model_module_version": "1.5.0",
      "model_name": "IntSliderModel",
      "state": {
       "description": "x",
       "layout": "IPY_MODEL_51d3572d96f24e748425ca80eb1f2f4e",
       "max": 30,
       "min": -10,
       "style": "IPY_MODEL_6242c222fc564e04b1e2e1c39c2cb8f1",
       "value": 10
      }
     },
     "8de19f4439d24e5aa44926cef02db6d3": {
      "model_module": "@jupyter-widgets/controls",
      "model_module_version": "1.5.0",
      "model_name": "IntSliderModel",
      "state": {
       "description": "x",
       "layout": "IPY_MODEL_4c850a6a4d2b41318883c950f816d058",
       "max": 30,
       "min": -10,
       "style": "IPY_MODEL_5824b849da9e480ea573cb7fa1bc2b26",
       "value": 15
      }
     },
     "8f870a89593c4c9996617d3d973901c7": {
      "model_module": "@jupyter-widgets/base",
      "model_module_version": "1.2.0",
      "model_name": "LayoutModel",
      "state": {}
     },
     "95329e17f4ba4cdab326f8d1b8638769": {
      "model_module": "@jupyter-widgets/base",
      "model_module_version": "1.2.0",
      "model_name": "LayoutModel",
      "state": {}
     },
     "9702eb0cf40e447ab400381f53df3d89": {
      "model_module": "@jupyter-widgets/base",
      "model_module_version": "1.2.0",
      "model_name": "LayoutModel",
      "state": {}
     },
     "9a966c8c164740caa31669cea9acec53": {
      "model_module": "@jupyter-widgets/base",
      "model_module_version": "1.2.0",
      "model_name": "LayoutModel",
      "state": {}
     },
     "9dc4df73b84c4fdfbeed3dcaf6d4d50b": {
      "model_module": "@jupyter-widgets/output",
      "model_module_version": "1.0.0",
      "model_name": "OutputModel",
      "state": {
       "layout": "IPY_MODEL_b4f4059239b34704b218b32d3dd9b3ae",
       "outputs": [
        {
         "ename": "TypeError",
         "evalue": "'int' object is not callable",
         "output_type": "error",
         "traceback": [
          "\u001b[1;31m---------------------------------------------------------------------------\u001b[0m",
          "\u001b[1;31mTypeError\u001b[0m                                 Traceback (most recent call last)",
          "\u001b[1;32m~\\anaconda3\\lib\\site-packages\\ipywidgets\\widgets\\interaction.py\u001b[0m in \u001b[0;36mupdate\u001b[1;34m(self, *args)\u001b[0m\n\u001b[0;32m    254\u001b[0m                     \u001b[0mvalue\u001b[0m \u001b[1;33m=\u001b[0m \u001b[0mwidget\u001b[0m\u001b[1;33m.\u001b[0m\u001b[0mget_interact_value\u001b[0m\u001b[1;33m(\u001b[0m\u001b[1;33m)\u001b[0m\u001b[1;33m\u001b[0m\u001b[1;33m\u001b[0m\u001b[0m\n\u001b[0;32m    255\u001b[0m                     \u001b[0mself\u001b[0m\u001b[1;33m.\u001b[0m\u001b[0mkwargs\u001b[0m\u001b[1;33m[\u001b[0m\u001b[0mwidget\u001b[0m\u001b[1;33m.\u001b[0m\u001b[0m_kwarg\u001b[0m\u001b[1;33m]\u001b[0m \u001b[1;33m=\u001b[0m \u001b[0mvalue\u001b[0m\u001b[1;33m\u001b[0m\u001b[1;33m\u001b[0m\u001b[0m\n\u001b[1;32m--> 256\u001b[1;33m                 \u001b[0mself\u001b[0m\u001b[1;33m.\u001b[0m\u001b[0mresult\u001b[0m \u001b[1;33m=\u001b[0m \u001b[0mself\u001b[0m\u001b[1;33m.\u001b[0m\u001b[0mf\u001b[0m\u001b[1;33m(\u001b[0m\u001b[1;33m**\u001b[0m\u001b[0mself\u001b[0m\u001b[1;33m.\u001b[0m\u001b[0mkwargs\u001b[0m\u001b[1;33m)\u001b[0m\u001b[1;33m\u001b[0m\u001b[1;33m\u001b[0m\u001b[0m\n\u001b[0m\u001b[0;32m    257\u001b[0m                 \u001b[0mshow_inline_matplotlib_plots\u001b[0m\u001b[1;33m(\u001b[0m\u001b[1;33m)\u001b[0m\u001b[1;33m\u001b[0m\u001b[1;33m\u001b[0m\u001b[0m\n\u001b[0;32m    258\u001b[0m                 \u001b[1;32mif\u001b[0m \u001b[0mself\u001b[0m\u001b[1;33m.\u001b[0m\u001b[0mauto_display\u001b[0m \u001b[1;32mand\u001b[0m \u001b[0mself\u001b[0m\u001b[1;33m.\u001b[0m\u001b[0mresult\u001b[0m \u001b[1;32mis\u001b[0m \u001b[1;32mnot\u001b[0m \u001b[1;32mNone\u001b[0m\u001b[1;33m:\u001b[0m\u001b[1;33m\u001b[0m\u001b[1;33m\u001b[0m\u001b[0m\n",
          "\u001b[1;32m~\\anaconda3\\lib\\site-packages\\ipywidgets\\widgets\\interaction.py\u001b[0m in \u001b[0;36m<lambda>\u001b[1;34m(*args, **kwargs)\u001b[0m\n\u001b[0;32m    532\u001b[0m             \u001b[1;31m# some things (instancemethods) can't have attributes attached,\u001b[0m\u001b[1;33m\u001b[0m\u001b[1;33m\u001b[0m\u001b[1;33m\u001b[0m\u001b[0m\n\u001b[0;32m    533\u001b[0m             \u001b[1;31m# so wrap in a lambda\u001b[0m\u001b[1;33m\u001b[0m\u001b[1;33m\u001b[0m\u001b[1;33m\u001b[0m\u001b[0m\n\u001b[1;32m--> 534\u001b[1;33m             \u001b[0mf\u001b[0m \u001b[1;33m=\u001b[0m \u001b[1;32mlambda\u001b[0m \u001b[1;33m*\u001b[0m\u001b[0margs\u001b[0m\u001b[1;33m,\u001b[0m \u001b[1;33m**\u001b[0m\u001b[0mkwargs\u001b[0m\u001b[1;33m:\u001b[0m \u001b[0m__interact_f\u001b[0m\u001b[1;33m(\u001b[0m\u001b[1;33m*\u001b[0m\u001b[0margs\u001b[0m\u001b[1;33m,\u001b[0m \u001b[1;33m**\u001b[0m\u001b[0mkwargs\u001b[0m\u001b[1;33m)\u001b[0m\u001b[1;33m\u001b[0m\u001b[1;33m\u001b[0m\u001b[0m\n\u001b[0m\u001b[0;32m    535\u001b[0m             \u001b[0mf\u001b[0m\u001b[1;33m.\u001b[0m\u001b[0mwidget\u001b[0m \u001b[1;33m=\u001b[0m \u001b[0mw\u001b[0m\u001b[1;33m\u001b[0m\u001b[1;33m\u001b[0m\u001b[0m\n\u001b[0;32m    536\u001b[0m         \u001b[0mshow_inline_matplotlib_plots\u001b[0m\u001b[1;33m(\u001b[0m\u001b[1;33m)\u001b[0m\u001b[1;33m\u001b[0m\u001b[1;33m\u001b[0m\u001b[0m\n",
          "\u001b[1;31mTypeError\u001b[0m: 'int' object is not callable"
         ]
        }
       ]
      }
     },
     "9f30a539dce54219aa6e7cf586a0823a": {
      "model_module": "@jupyter-widgets/base",
      "model_module_version": "1.2.0",
      "model_name": "LayoutModel",
      "state": {}
     },
     "a01768e10a0b43babfd03fb236cdcbd1": {
      "model_module": "@jupyter-widgets/base",
      "model_module_version": "1.2.0",
      "model_name": "LayoutModel",
      "state": {}
     },
     "a0c2bea1098e4ab2bb8a120908115993": {
      "model_module": "@jupyter-widgets/base",
      "model_module_version": "1.2.0",
      "model_name": "LayoutModel",
      "state": {}
     },
     "a2fffbdc85724f429c9facf3a78db0aa": {
      "model_module": "@jupyter-widgets/controls",
      "model_module_version": "1.5.0",
      "model_name": "TextModel",
      "state": {
       "description": "x",
       "layout": "IPY_MODEL_745f6421a15b4ff69a89f2620ea02c4d",
       "style": "IPY_MODEL_08d7e2809a6d406ab1c3fe6b7e1ad36a",
       "value": "Hi there!"
      }
     },
     "a4bc872b2fd2485288e13f77535f0bd6": {
      "model_module": "@jupyter-widgets/controls",
      "model_module_version": "1.5.0",
      "model_name": "DescriptionStyleModel",
      "state": {
       "description_width": ""
      }
     },
     "a621248fc6524f648e85bb7e4cb5cef6": {
      "model_module": "@jupyter-widgets/base",
      "model_module_version": "1.2.0",
      "model_name": "LayoutModel",
      "state": {}
     },
     "a83ee0026ff44646a92ebd0b6e470850": {
      "model_module": "@jupyter-widgets/controls",
      "model_module_version": "1.5.0",
      "model_name": "VBoxModel",
      "state": {
       "_dom_classes": [
        "widget-interact"
       ],
       "children": [
        "IPY_MODEL_736aa67ad2d54776b996904ea2f72d20",
        "IPY_MODEL_512717d210464e88a41baa3f1d900c1c"
       ],
       "layout": "IPY_MODEL_195dadf099ac4a99b4984d424cdf187a"
      }
     },
     "a924d30fcc1e417d8fa82c802708f305": {
      "model_module": "@jupyter-widgets/base",
      "model_module_version": "1.2.0",
      "model_name": "LayoutModel",
      "state": {}
     },
     "ac4c6140d2c04caca3a60d312744ecb7": {
      "model_module": "@jupyter-widgets/base",
      "model_module_version": "1.2.0",
      "model_name": "LayoutModel",
      "state": {}
     },
     "ac8dfeb7d37b4e7eb56ea1cc26c276d8": {
      "model_module": "@jupyter-widgets/controls",
      "model_module_version": "1.5.0",
      "model_name": "TextModel",
      "state": {
       "description": "h",
       "layout": "IPY_MODEL_9f30a539dce54219aa6e7cf586a0823a",
       "style": "IPY_MODEL_5086775e28e84eef8443115b41eca44f",
       "value": "0.5"
      }
     },
     "ad55811edc5a4d179d045d29cd9f3216": {
      "model_module": "@jupyter-widgets/controls",
      "model_module_version": "1.5.0",
      "model_name": "DescriptionStyleModel",
      "state": {
       "description_width": ""
      }
     },
     "b1696c1fb8574588b8c25c69b56764d2": {
      "model_module": "@jupyter-widgets/controls",
      "model_module_version": "1.5.0",
      "model_name": "IntSliderModel",
      "state": {
       "description": "x",
       "layout": "IPY_MODEL_2d2ac4ca198d488fafc3a19a0cb41127",
       "max": 30,
       "min": -10,
       "style": "IPY_MODEL_f9003c11964e40faba26c04760f6dc14"
      }
     },
     "b4f4059239b34704b218b32d3dd9b3ae": {
      "model_module": "@jupyter-widgets/base",
      "model_module_version": "1.2.0",
      "model_name": "LayoutModel",
      "state": {}
     },
     "b729f08ee7e04ca1acf5499ba02525d5": {
      "model_module": "@jupyter-widgets/controls",
      "model_module_version": "1.5.0",
      "model_name": "VBoxModel",
      "state": {
       "_dom_classes": [
        "widget-interact"
       ],
       "children": [
        "IPY_MODEL_049971fc9f3e4d648cb8e17f7879b528",
        "IPY_MODEL_305ef56a02e14728bd444f419cda23fc"
       ],
       "layout": "IPY_MODEL_9702eb0cf40e447ab400381f53df3d89"
      }
     },
     "bdcbef091fcf4911acb04c1a3470c974": {
      "model_module": "@jupyter-widgets/controls",
      "model_module_version": "1.5.0",
      "model_name": "IntSliderModel",
      "state": {
       "description": "x",
       "layout": "IPY_MODEL_795e554788d54c9381b949f6802cc818",
       "max": 30,
       "min": -10,
       "style": "IPY_MODEL_3a61da9432af4041bae11a71e0a772cd",
       "value": 17
      }
     },
     "c0322f8565904913b51dc6dc411d8d9d": {
      "model_module": "@jupyter-widgets/controls",
      "model_module_version": "1.5.0",
      "model_name": "SliderStyleModel",
      "state": {
       "description_width": ""
      }
     },
     "c16975a388c9499a9f11d81cc86b29f4": {
      "model_module": "@jupyter-widgets/base",
      "model_module_version": "1.2.0",
      "model_name": "LayoutModel",
      "state": {}
     },
     "c427d5539a494ffb8151a5f994f16af2": {
      "model_module": "@jupyter-widgets/controls",
      "model_module_version": "1.5.0",
      "model_name": "VBoxModel",
      "state": {
       "_dom_classes": [
        "widget-interact"
       ],
       "children": [
        "IPY_MODEL_d6a2cee5cd014208b08ad419cf698e22",
        "IPY_MODEL_10d46f3a065b4bd69956ca5f03eac17d"
       ],
       "layout": "IPY_MODEL_87d35a5fec7a4f39abe8dd9aa1974cb7"
      }
     },
     "cc6a25ba90f14dccb8350ee7dc07ad85": {
      "model_module": "@jupyter-widgets/output",
      "model_module_version": "1.0.0",
      "model_name": "OutputModel",
      "state": {
       "layout": "IPY_MODEL_f74cf7be4a1e404eb6cb896904935300",
       "outputs": [
        {
         "ename": "TypeError",
         "evalue": "'int' object is not callable",
         "output_type": "error",
         "traceback": [
          "\u001b[1;31m---------------------------------------------------------------------------\u001b[0m",
          "\u001b[1;31mTypeError\u001b[0m                                 Traceback (most recent call last)",
          "\u001b[1;32m~\\anaconda3\\lib\\site-packages\\ipywidgets\\widgets\\interaction.py\u001b[0m in \u001b[0;36mupdate\u001b[1;34m(self, *args)\u001b[0m\n\u001b[0;32m    254\u001b[0m                     \u001b[0mvalue\u001b[0m \u001b[1;33m=\u001b[0m \u001b[0mwidget\u001b[0m\u001b[1;33m.\u001b[0m\u001b[0mget_interact_value\u001b[0m\u001b[1;33m(\u001b[0m\u001b[1;33m)\u001b[0m\u001b[1;33m\u001b[0m\u001b[1;33m\u001b[0m\u001b[0m\n\u001b[0;32m    255\u001b[0m                     \u001b[0mself\u001b[0m\u001b[1;33m.\u001b[0m\u001b[0mkwargs\u001b[0m\u001b[1;33m[\u001b[0m\u001b[0mwidget\u001b[0m\u001b[1;33m.\u001b[0m\u001b[0m_kwarg\u001b[0m\u001b[1;33m]\u001b[0m \u001b[1;33m=\u001b[0m \u001b[0mvalue\u001b[0m\u001b[1;33m\u001b[0m\u001b[1;33m\u001b[0m\u001b[0m\n\u001b[1;32m--> 256\u001b[1;33m                 \u001b[0mself\u001b[0m\u001b[1;33m.\u001b[0m\u001b[0mresult\u001b[0m \u001b[1;33m=\u001b[0m \u001b[0mself\u001b[0m\u001b[1;33m.\u001b[0m\u001b[0mf\u001b[0m\u001b[1;33m(\u001b[0m\u001b[1;33m**\u001b[0m\u001b[0mself\u001b[0m\u001b[1;33m.\u001b[0m\u001b[0mkwargs\u001b[0m\u001b[1;33m)\u001b[0m\u001b[1;33m\u001b[0m\u001b[1;33m\u001b[0m\u001b[0m\n\u001b[0m\u001b[0;32m    257\u001b[0m                 \u001b[0mshow_inline_matplotlib_plots\u001b[0m\u001b[1;33m(\u001b[0m\u001b[1;33m)\u001b[0m\u001b[1;33m\u001b[0m\u001b[1;33m\u001b[0m\u001b[0m\n\u001b[0;32m    258\u001b[0m                 \u001b[1;32mif\u001b[0m \u001b[0mself\u001b[0m\u001b[1;33m.\u001b[0m\u001b[0mauto_display\u001b[0m \u001b[1;32mand\u001b[0m \u001b[0mself\u001b[0m\u001b[1;33m.\u001b[0m\u001b[0mresult\u001b[0m \u001b[1;32mis\u001b[0m \u001b[1;32mnot\u001b[0m \u001b[1;32mNone\u001b[0m\u001b[1;33m:\u001b[0m\u001b[1;33m\u001b[0m\u001b[1;33m\u001b[0m\u001b[0m\n",
          "\u001b[1;32m~\\anaconda3\\lib\\site-packages\\ipywidgets\\widgets\\interaction.py\u001b[0m in \u001b[0;36m<lambda>\u001b[1;34m(*args, **kwargs)\u001b[0m\n\u001b[0;32m    532\u001b[0m             \u001b[1;31m# some things (instancemethods) can't have attributes attached,\u001b[0m\u001b[1;33m\u001b[0m\u001b[1;33m\u001b[0m\u001b[1;33m\u001b[0m\u001b[0m\n\u001b[0;32m    533\u001b[0m             \u001b[1;31m# so wrap in a lambda\u001b[0m\u001b[1;33m\u001b[0m\u001b[1;33m\u001b[0m\u001b[1;33m\u001b[0m\u001b[0m\n\u001b[1;32m--> 534\u001b[1;33m             \u001b[0mf\u001b[0m \u001b[1;33m=\u001b[0m \u001b[1;32mlambda\u001b[0m \u001b[1;33m*\u001b[0m\u001b[0margs\u001b[0m\u001b[1;33m,\u001b[0m \u001b[1;33m**\u001b[0m\u001b[0mkwargs\u001b[0m\u001b[1;33m:\u001b[0m \u001b[0m__interact_f\u001b[0m\u001b[1;33m(\u001b[0m\u001b[1;33m*\u001b[0m\u001b[0margs\u001b[0m\u001b[1;33m,\u001b[0m \u001b[1;33m**\u001b[0m\u001b[0mkwargs\u001b[0m\u001b[1;33m)\u001b[0m\u001b[1;33m\u001b[0m\u001b[1;33m\u001b[0m\u001b[0m\n\u001b[0m\u001b[0;32m    535\u001b[0m             \u001b[0mf\u001b[0m\u001b[1;33m.\u001b[0m\u001b[0mwidget\u001b[0m \u001b[1;33m=\u001b[0m \u001b[0mw\u001b[0m\u001b[1;33m\u001b[0m\u001b[1;33m\u001b[0m\u001b[0m\n\u001b[0;32m    536\u001b[0m         \u001b[0mshow_inline_matplotlib_plots\u001b[0m\u001b[1;33m(\u001b[0m\u001b[1;33m)\u001b[0m\u001b[1;33m\u001b[0m\u001b[1;33m\u001b[0m\u001b[0m\n",
          "\u001b[1;31mTypeError\u001b[0m: 'int' object is not callable"
         ]
        }
       ]
      }
     },
     "d6a2cee5cd014208b08ad419cf698e22": {
      "model_module": "@jupyter-widgets/controls",
      "model_module_version": "1.5.0",
      "model_name": "IntSliderModel",
      "state": {
       "description": "x",
       "layout": "IPY_MODEL_3c96982572f248ebb0058831f5cda2a9",
       "max": 30,
       "min": -10,
       "style": "IPY_MODEL_c0322f8565904913b51dc6dc411d8d9d",
       "value": 10
      }
     },
     "d89bb24ef1544b8f9cc9f81217852829": {
      "model_module": "@jupyter-widgets/base",
      "model_module_version": "1.2.0",
      "model_name": "LayoutModel",
      "state": {}
     },
     "e1ca831e4a484b62a57134e31c61cd19": {
      "model_module": "@jupyter-widgets/controls",
      "model_module_version": "1.5.0",
      "model_name": "VBoxModel",
      "state": {
       "_dom_classes": [
        "widget-interact"
       ],
       "children": [
        "IPY_MODEL_a2fffbdc85724f429c9facf3a78db0aa",
        "IPY_MODEL_5cb1808f0fc543d6b341a4f3795654f7"
       ],
       "layout": "IPY_MODEL_2cc3bb9c4acf4119aa6d81c021ee4017"
      }
     },
     "e5a4fcfdbaec44fb8a13f2921f7b5b01": {
      "model_module": "@jupyter-widgets/output",
      "model_module_version": "1.0.0",
      "model_name": "OutputModel",
      "state": {
       "layout": "IPY_MODEL_47598c4204b24460b52610c9e9ebc531",
       "outputs": [
        {
         "ename": "TypeError",
         "evalue": "'int' object is not callable",
         "output_type": "error",
         "traceback": [
          "\u001b[1;31m---------------------------------------------------------------------------\u001b[0m",
          "\u001b[1;31mTypeError\u001b[0m                                 Traceback (most recent call last)",
          "\u001b[1;32m~\\anaconda3\\lib\\site-packages\\ipywidgets\\widgets\\interaction.py\u001b[0m in \u001b[0;36mupdate\u001b[1;34m(self, *args)\u001b[0m\n\u001b[0;32m    254\u001b[0m                     \u001b[0mvalue\u001b[0m \u001b[1;33m=\u001b[0m \u001b[0mwidget\u001b[0m\u001b[1;33m.\u001b[0m\u001b[0mget_interact_value\u001b[0m\u001b[1;33m(\u001b[0m\u001b[1;33m)\u001b[0m\u001b[1;33m\u001b[0m\u001b[1;33m\u001b[0m\u001b[0m\n\u001b[0;32m    255\u001b[0m                     \u001b[0mself\u001b[0m\u001b[1;33m.\u001b[0m\u001b[0mkwargs\u001b[0m\u001b[1;33m[\u001b[0m\u001b[0mwidget\u001b[0m\u001b[1;33m.\u001b[0m\u001b[0m_kwarg\u001b[0m\u001b[1;33m]\u001b[0m \u001b[1;33m=\u001b[0m \u001b[0mvalue\u001b[0m\u001b[1;33m\u001b[0m\u001b[1;33m\u001b[0m\u001b[0m\n\u001b[1;32m--> 256\u001b[1;33m                 \u001b[0mself\u001b[0m\u001b[1;33m.\u001b[0m\u001b[0mresult\u001b[0m \u001b[1;33m=\u001b[0m \u001b[0mself\u001b[0m\u001b[1;33m.\u001b[0m\u001b[0mf\u001b[0m\u001b[1;33m(\u001b[0m\u001b[1;33m**\u001b[0m\u001b[0mself\u001b[0m\u001b[1;33m.\u001b[0m\u001b[0mkwargs\u001b[0m\u001b[1;33m)\u001b[0m\u001b[1;33m\u001b[0m\u001b[1;33m\u001b[0m\u001b[0m\n\u001b[0m\u001b[0;32m    257\u001b[0m                 \u001b[0mshow_inline_matplotlib_plots\u001b[0m\u001b[1;33m(\u001b[0m\u001b[1;33m)\u001b[0m\u001b[1;33m\u001b[0m\u001b[1;33m\u001b[0m\u001b[0m\n\u001b[0;32m    258\u001b[0m                 \u001b[1;32mif\u001b[0m \u001b[0mself\u001b[0m\u001b[1;33m.\u001b[0m\u001b[0mauto_display\u001b[0m \u001b[1;32mand\u001b[0m \u001b[0mself\u001b[0m\u001b[1;33m.\u001b[0m\u001b[0mresult\u001b[0m \u001b[1;32mis\u001b[0m \u001b[1;32mnot\u001b[0m \u001b[1;32mNone\u001b[0m\u001b[1;33m:\u001b[0m\u001b[1;33m\u001b[0m\u001b[1;33m\u001b[0m\u001b[0m\n",
          "\u001b[1;32m~\\anaconda3\\lib\\site-packages\\ipywidgets\\widgets\\interaction.py\u001b[0m in \u001b[0;36m<lambda>\u001b[1;34m(*args, **kwargs)\u001b[0m\n\u001b[0;32m    532\u001b[0m             \u001b[1;31m# some things (instancemethods) can't have attributes attached,\u001b[0m\u001b[1;33m\u001b[0m\u001b[1;33m\u001b[0m\u001b[1;33m\u001b[0m\u001b[0m\n\u001b[0;32m    533\u001b[0m             \u001b[1;31m# so wrap in a lambda\u001b[0m\u001b[1;33m\u001b[0m\u001b[1;33m\u001b[0m\u001b[1;33m\u001b[0m\u001b[0m\n\u001b[1;32m--> 534\u001b[1;33m             \u001b[0mf\u001b[0m \u001b[1;33m=\u001b[0m \u001b[1;32mlambda\u001b[0m \u001b[1;33m*\u001b[0m\u001b[0margs\u001b[0m\u001b[1;33m,\u001b[0m \u001b[1;33m**\u001b[0m\u001b[0mkwargs\u001b[0m\u001b[1;33m:\u001b[0m \u001b[0m__interact_f\u001b[0m\u001b[1;33m(\u001b[0m\u001b[1;33m*\u001b[0m\u001b[0margs\u001b[0m\u001b[1;33m,\u001b[0m \u001b[1;33m**\u001b[0m\u001b[0mkwargs\u001b[0m\u001b[1;33m)\u001b[0m\u001b[1;33m\u001b[0m\u001b[1;33m\u001b[0m\u001b[0m\n\u001b[0m\u001b[0;32m    535\u001b[0m             \u001b[0mf\u001b[0m\u001b[1;33m.\u001b[0m\u001b[0mwidget\u001b[0m \u001b[1;33m=\u001b[0m \u001b[0mw\u001b[0m\u001b[1;33m\u001b[0m\u001b[1;33m\u001b[0m\u001b[0m\n\u001b[0;32m    536\u001b[0m         \u001b[0mshow_inline_matplotlib_plots\u001b[0m\u001b[1;33m(\u001b[0m\u001b[1;33m)\u001b[0m\u001b[1;33m\u001b[0m\u001b[1;33m\u001b[0m\u001b[0m\n",
          "\u001b[1;31mTypeError\u001b[0m: 'int' object is not callable"
         ]
        }
       ]
      }
     },
     "e5ae4d9c2ae64c29872c9322a6ef5c4f": {
      "model_module": "@jupyter-widgets/base",
      "model_module_version": "1.2.0",
      "model_name": "LayoutModel",
      "state": {}
     },
     "e64276df19bd4a86b20636693031c9b1": {
      "model_module": "@jupyter-widgets/controls",
      "model_module_version": "1.5.0",
      "model_name": "VBoxModel",
      "state": {
       "_dom_classes": [
        "widget-interact"
       ],
       "children": [
        "IPY_MODEL_3363f2ed7f64453eae4996e0e0f0d4f8",
        "IPY_MODEL_1d4dd9ffa2f1496b881ad775c9b86173"
       ],
       "layout": "IPY_MODEL_835fcafa174b42479e896e93c9bf67b2"
      }
     },
     "ea2128e2ccc94906b59ae30480ab5d57": {
      "model_module": "@jupyter-widgets/output",
      "model_module_version": "1.0.0",
      "model_name": "OutputModel",
      "state": {
       "layout": "IPY_MODEL_eda99274d7ff4cddae9802b8baf9b124",
       "outputs": [
        {
         "ename": "TypeError",
         "evalue": "'int' object is not callable",
         "output_type": "error",
         "traceback": [
          "\u001b[1;31m---------------------------------------------------------------------------\u001b[0m",
          "\u001b[1;31mTypeError\u001b[0m                                 Traceback (most recent call last)",
          "\u001b[1;32m~\\anaconda3\\lib\\site-packages\\ipywidgets\\widgets\\interaction.py\u001b[0m in \u001b[0;36mupdate\u001b[1;34m(self, *args)\u001b[0m\n\u001b[0;32m    254\u001b[0m                     \u001b[0mvalue\u001b[0m \u001b[1;33m=\u001b[0m \u001b[0mwidget\u001b[0m\u001b[1;33m.\u001b[0m\u001b[0mget_interact_value\u001b[0m\u001b[1;33m(\u001b[0m\u001b[1;33m)\u001b[0m\u001b[1;33m\u001b[0m\u001b[1;33m\u001b[0m\u001b[0m\n\u001b[0;32m    255\u001b[0m                     \u001b[0mself\u001b[0m\u001b[1;33m.\u001b[0m\u001b[0mkwargs\u001b[0m\u001b[1;33m[\u001b[0m\u001b[0mwidget\u001b[0m\u001b[1;33m.\u001b[0m\u001b[0m_kwarg\u001b[0m\u001b[1;33m]\u001b[0m \u001b[1;33m=\u001b[0m \u001b[0mvalue\u001b[0m\u001b[1;33m\u001b[0m\u001b[1;33m\u001b[0m\u001b[0m\n\u001b[1;32m--> 256\u001b[1;33m                 \u001b[0mself\u001b[0m\u001b[1;33m.\u001b[0m\u001b[0mresult\u001b[0m \u001b[1;33m=\u001b[0m \u001b[0mself\u001b[0m\u001b[1;33m.\u001b[0m\u001b[0mf\u001b[0m\u001b[1;33m(\u001b[0m\u001b[1;33m**\u001b[0m\u001b[0mself\u001b[0m\u001b[1;33m.\u001b[0m\u001b[0mkwargs\u001b[0m\u001b[1;33m)\u001b[0m\u001b[1;33m\u001b[0m\u001b[1;33m\u001b[0m\u001b[0m\n\u001b[0m\u001b[0;32m    257\u001b[0m                 \u001b[0mshow_inline_matplotlib_plots\u001b[0m\u001b[1;33m(\u001b[0m\u001b[1;33m)\u001b[0m\u001b[1;33m\u001b[0m\u001b[1;33m\u001b[0m\u001b[0m\n\u001b[0;32m    258\u001b[0m                 \u001b[1;32mif\u001b[0m \u001b[0mself\u001b[0m\u001b[1;33m.\u001b[0m\u001b[0mauto_display\u001b[0m \u001b[1;32mand\u001b[0m \u001b[0mself\u001b[0m\u001b[1;33m.\u001b[0m\u001b[0mresult\u001b[0m \u001b[1;32mis\u001b[0m \u001b[1;32mnot\u001b[0m \u001b[1;32mNone\u001b[0m\u001b[1;33m:\u001b[0m\u001b[1;33m\u001b[0m\u001b[1;33m\u001b[0m\u001b[0m\n",
          "\u001b[1;32m~\\anaconda3\\lib\\site-packages\\ipywidgets\\widgets\\interaction.py\u001b[0m in \u001b[0;36m<lambda>\u001b[1;34m(*args, **kwargs)\u001b[0m\n\u001b[0;32m    532\u001b[0m             \u001b[1;31m# some things (instancemethods) can't have attributes attached,\u001b[0m\u001b[1;33m\u001b[0m\u001b[1;33m\u001b[0m\u001b[1;33m\u001b[0m\u001b[0m\n\u001b[0;32m    533\u001b[0m             \u001b[1;31m# so wrap in a lambda\u001b[0m\u001b[1;33m\u001b[0m\u001b[1;33m\u001b[0m\u001b[1;33m\u001b[0m\u001b[0m\n\u001b[1;32m--> 534\u001b[1;33m             \u001b[0mf\u001b[0m \u001b[1;33m=\u001b[0m \u001b[1;32mlambda\u001b[0m \u001b[1;33m*\u001b[0m\u001b[0margs\u001b[0m\u001b[1;33m,\u001b[0m \u001b[1;33m**\u001b[0m\u001b[0mkwargs\u001b[0m\u001b[1;33m:\u001b[0m \u001b[0m__interact_f\u001b[0m\u001b[1;33m(\u001b[0m\u001b[1;33m*\u001b[0m\u001b[0margs\u001b[0m\u001b[1;33m,\u001b[0m \u001b[1;33m**\u001b[0m\u001b[0mkwargs\u001b[0m\u001b[1;33m)\u001b[0m\u001b[1;33m\u001b[0m\u001b[1;33m\u001b[0m\u001b[0m\n\u001b[0m\u001b[0;32m    535\u001b[0m             \u001b[0mf\u001b[0m\u001b[1;33m.\u001b[0m\u001b[0mwidget\u001b[0m \u001b[1;33m=\u001b[0m \u001b[0mw\u001b[0m\u001b[1;33m\u001b[0m\u001b[1;33m\u001b[0m\u001b[0m\n\u001b[0;32m    536\u001b[0m         \u001b[0mshow_inline_matplotlib_plots\u001b[0m\u001b[1;33m(\u001b[0m\u001b[1;33m)\u001b[0m\u001b[1;33m\u001b[0m\u001b[1;33m\u001b[0m\u001b[0m\n",
          "\u001b[1;31mTypeError\u001b[0m: 'int' object is not callable"
         ]
        }
       ]
      }
     },
     "ec207ab5fd9a4fa0a592e43fa6395675": {
      "model_module": "@jupyter-widgets/base",
      "model_module_version": "1.2.0",
      "model_name": "LayoutModel",
      "state": {}
     },
     "eda99274d7ff4cddae9802b8baf9b124": {
      "model_module": "@jupyter-widgets/base",
      "model_module_version": "1.2.0",
      "model_name": "LayoutModel",
      "state": {}
     },
     "ee56da492fff43a7863cce5918ca239e": {
      "model_module": "@jupyter-widgets/base",
      "model_module_version": "1.2.0",
      "model_name": "LayoutModel",
      "state": {}
     },
     "f1fdcecd63d948be8b9dc9164293d117": {
      "model_module": "@jupyter-widgets/base",
      "model_module_version": "1.2.0",
      "model_name": "LayoutModel",
      "state": {}
     },
     "f6ed9a5519d14d4688c7416bb3d03b62": {
      "model_module": "@jupyter-widgets/output",
      "model_module_version": "1.0.0",
      "model_name": "OutputModel",
      "state": {
       "layout": "IPY_MODEL_8395b8ad5af1432fb5808f7720badee8",
       "outputs": [
        {
         "name": "stdout",
         "output_type": "stream",
         "text": "578.1999999999999 980.0\n"
        }
       ]
      }
     },
     "f74cf7be4a1e404eb6cb896904935300": {
      "model_module": "@jupyter-widgets/base",
      "model_module_version": "1.2.0",
      "model_name": "LayoutModel",
      "state": {}
     },
     "f83b1396552f4cf3940dd7ecaedb5e51": {
      "model_module": "@jupyter-widgets/base",
      "model_module_version": "1.2.0",
      "model_name": "LayoutModel",
      "state": {}
     },
     "f9003c11964e40faba26c04760f6dc14": {
      "model_module": "@jupyter-widgets/controls",
      "model_module_version": "1.5.0",
      "model_name": "SliderStyleModel",
      "state": {
       "description_width": ""
      }
     },
     "fa621d14f1bc427b9b8115edae861720": {
      "model_module": "@jupyter-widgets/controls",
      "model_module_version": "1.5.0",
      "model_name": "DescriptionStyleModel",
      "state": {
       "description_width": ""
      }
     },
     "fa9cd8c07eb54e8eb8feab915a8d9237": {
      "model_module": "@jupyter-widgets/base",
      "model_module_version": "1.2.0",
      "model_name": "LayoutModel",
      "state": {}
     },
     "fd79f3c4de7441f7a604ed1a4d25aadf": {
      "model_module": "@jupyter-widgets/controls",
      "model_module_version": "1.5.0",
      "model_name": "TextModel",
      "state": {
       "description": "PAman",
       "layout": "IPY_MODEL_79a2aba3d4bd4d88abd2d8cf780dd838",
       "style": "IPY_MODEL_17cddd014df04d68bea570cd399a9da9",
       "value": "0.4"
      }
     },
     "ff1c8357103e4ef8aca590dbac81acfc": {
      "model_module": "@jupyter-widgets/base",
      "model_module_version": "1.2.0",
      "model_name": "LayoutModel",
      "state": {}
     }
    },
    "version_major": 2,
    "version_minor": 0
   }
  }
 },
 "nbformat": 4,
 "nbformat_minor": 5
}
