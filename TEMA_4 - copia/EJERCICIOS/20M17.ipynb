{
 "cells": [
  {
   "cell_type": "code",
   "execution_count": 1,
   "id": "2e6ab5fc",
   "metadata": {},
   "outputs": [
    {
     "data": {
      "text/html": [
       "<style>\n",
       "li{\n",
       "    padding:1vh;\n",
       "}\n",
       "\n",
       ".texto{\n",
       "    \n",
       "    text-align: justify;\n",
       "    text-justify: inter-word;\n",
       "    width: 90%;\n",
       "    padding-top: 1vh;\n",
       "    padding-bottom: 1vh; \n",
       "    margin: auto;\n",
       "    \n",
       "}\n",
       ".formulas{\n",
       "    \n",
       "    width: 90%;\n",
       "    padding-top: 1vh;\n",
       "    padding-bottom: 1vh;  \n",
       "    font-size: 20px;\n",
       "    margin: auto;\n",
       "}\n",
       ".resultado{\n",
       "    \n",
       "    width: 90%;\n",
       "    padding-top: 1vh;\n",
       "    padding-bottom: 1vh;  \n",
       "    font-size: 20px;\n",
       "    margin: auto;\n",
       "    border: 4px solid red;\n",
       "    padding:auto;\n",
       "}\n",
       "\n",
       ".antesDe{\n",
       "box-sizing:border-box;\n",
       "border: 2px solid black;\n",
       "background-color: rgba(141, 140, 140, 0.1);\n",
       "font-size:15px;\n",
       "padding:15px;\n",
       "    margin: auto;\n",
       "}\n",
       "\n",
       "ol.enunciado{\n",
       "list-style-type: lower-alpha;\n",
       "}\n",
       "\n",
       ".split{\n",
       "\n",
       "    /* Mostrar la rejilla de la división */\n",
       "    display: grid;\n",
       "\n",
       "    /* Dividir la rejilla en dos columnas y asignar la mitad del espacio \n",
       "    disponible a cada una */\n",
       "    grid-template-columns: 1fr 1fr;\n",
       "\n",
       "    /* Dividir la rejilla en cinco filas y asignar a cada una el espacio \n",
       "    necesario */\n",
       "    grid-template-rows: 1fr;\n",
       "\n",
       "    /* Determinar la posición que tendrá cada celda dentro del contenedor \n",
       "    principal */\n",
       "    grid-template-areas:\"izq    dcha \";\n",
       "\n",
       "    /* Espaciado entre celdas */\n",
       "    grid-gap:0px;   \n",
       "\n",
       "    /* Alinear horizontalmente elementos en las celdas del contenedor */\n",
       "    justify-items:center;\n",
       "\n",
       "    /* Alinear verticalmente elementos en las celdas del contenedor */\n",
       "    align-items: center; \n",
       "    \n",
       "    Width:90%\n",
       "\n",
       "}\n",
       "\n",
       ".split .izq{\n",
       "\n",
       "    /* Atribuir celda(s) a la clase */\n",
       "    grid-area: izq;\n",
       "\n",
       "    /* Centrar temperatura sobre la imagen del display */\n",
       "    position: relative;\n",
       "    \n",
       "    width:100%;\n",
       "}\n",
       ".split .dcha{\n",
       "\n",
       "    /* Atribuir celda(s) a la clase */\n",
       "    grid-area: dcha;\n",
       "\n",
       "    /* Centrar temperatura sobre la imagen del display */\n",
       "    position: relative;\n",
       "    \n",
       "    width:100%;\n",
       "\n",
       "}\n",
       "   \n",
       ".aviso{\n",
       "    display:none;\n",
       "}\n",
       "\n",
       "\n",
       "</style>\n",
       "<script>\n",
       "code_show=true; \n",
       "function code_toggle() {\n",
       " if (code_show){\n",
       " $('div.input').hide();\n",
       " } else {\n",
       " $('div.input').show();\n",
       " }\n",
       " code_show = !code_show\n",
       "} \n",
       "$( document ).ready(code_toggle);\n",
       "</script>\n",
       "<a href=\"javascript:code_toggle()\">Mostrar/ocultar celdas de código</a>."
      ],
      "text/plain": [
       "<IPython.core.display.HTML object>"
      ]
     },
     "execution_count": 1,
     "metadata": {},
     "output_type": "execute_result"
    }
   ],
   "source": [
    "from IPython.display import HTML\n",
    "HTML('''<style>\n",
    "li{\n",
    "    padding:1vh;\n",
    "}\n",
    "\n",
    ".texto{\n",
    "    \n",
    "    text-align: justify;\n",
    "    text-justify: inter-word;\n",
    "    width: 90%;\n",
    "    padding-top: 1vh;\n",
    "    padding-bottom: 1vh; \n",
    "    margin: auto;\n",
    "    \n",
    "}\n",
    ".formulas{\n",
    "    \n",
    "    width: 90%;\n",
    "    padding-top: 1vh;\n",
    "    padding-bottom: 1vh;  \n",
    "    font-size: 20px;\n",
    "    margin: auto;\n",
    "}\n",
    ".resultado{\n",
    "    \n",
    "    width: 90%;\n",
    "    padding-top: 1vh;\n",
    "    padding-bottom: 1vh;  \n",
    "    font-size: 20px;\n",
    "    margin: auto;\n",
    "    border: 4px solid red;\n",
    "    padding:auto;\n",
    "}\n",
    "\n",
    ".antesDe{\n",
    "box-sizing:border-box;\n",
    "border: 2px solid black;\n",
    "background-color: rgba(141, 140, 140, 0.1);\n",
    "font-size:15px;\n",
    "padding:15px;\n",
    "    margin: auto;\n",
    "}\n",
    "\n",
    "ol.enunciado{\n",
    "list-style-type: lower-alpha;\n",
    "}\n",
    "\n",
    ".split{\n",
    "\n",
    "    /* Mostrar la rejilla de la división */\n",
    "    display: grid;\n",
    "\n",
    "    /* Dividir la rejilla en dos columnas y asignar la mitad del espacio \n",
    "    disponible a cada una */\n",
    "    grid-template-columns: 1fr 1fr;\n",
    "\n",
    "    /* Dividir la rejilla en cinco filas y asignar a cada una el espacio \n",
    "    necesario */\n",
    "    grid-template-rows: 1fr;\n",
    "\n",
    "    /* Determinar la posición que tendrá cada celda dentro del contenedor \n",
    "    principal */\n",
    "    grid-template-areas:\"izq    dcha \";\n",
    "\n",
    "    /* Espaciado entre celdas */\n",
    "    grid-gap:0px;   \n",
    "\n",
    "    /* Alinear horizontalmente elementos en las celdas del contenedor */\n",
    "    justify-items:center;\n",
    "\n",
    "    /* Alinear verticalmente elementos en las celdas del contenedor */\n",
    "    align-items: center; \n",
    "    \n",
    "    Width:90%\n",
    "\n",
    "}\n",
    "\n",
    ".split .izq{\n",
    "\n",
    "    /* Atribuir celda(s) a la clase */\n",
    "    grid-area: izq;\n",
    "\n",
    "    /* Centrar temperatura sobre la imagen del display */\n",
    "    position: relative;\n",
    "    \n",
    "    width:100%;\n",
    "}\n",
    ".split .dcha{\n",
    "\n",
    "    /* Atribuir celda(s) a la clase */\n",
    "    grid-area: dcha;\n",
    "\n",
    "    /* Centrar temperatura sobre la imagen del display */\n",
    "    position: relative;\n",
    "    \n",
    "    width:100%;\n",
    "\n",
    "}\n",
    "   \n",
    ".aviso{\n",
    "    display:none;\n",
    "}\n",
    "\n",
    "\n",
    "</style>\n",
    "<script>\n",
    "code_show=true; \n",
    "function code_toggle() {\n",
    " if (code_show){\n",
    " $('div.input').hide();\n",
    " } else {\n",
    " $('div.input').show();\n",
    " }\n",
    " code_show = !code_show\n",
    "} \n",
    "$( document ).ready(code_toggle);\n",
    "</script>\n",
    "<a href=\"javascript:code_toggle()\">Mostrar/ocultar celdas de código</a>.''')"
   ]
  },
  {
   "cell_type": "markdown",
   "id": "625da350",
   "metadata": {},
   "source": [
    "<div class=\"texto\" id='enunciado'>20/03/17 3. El depósito de la figura está construido con una serie de cilindros de diferentes\n",
    "diámetros. El depósito contiene aceite $(s_{_{aceite}} = 0,82)$, agua y glicerina $(s_{_{glicerina}}= 1,26)$. En el fondo\n",
    "se conecta un manómetro en U, cuyo líquido manométrico es mercurio, tal y como muestra la\n",
    "figura. Se pide:\n",
    "</div>\n"
   ]
  },
  {
   "cell_type": "markdown",
   "id": "5495e16e",
   "metadata": {},
   "source": [
    "<div class=\"texto\">\n",
    "    <ol>    \n",
    "        <li> Lectura R en el manómetro en U.</li>\n",
    "        <li> Si se sustituye el manómetro en U del fondo del depósito por otro manómetro en U sin liquido manométrico y se cierra el depósito por la parte superior y se inyecta aire comprimido, cuya presión es $0,05\\ \\frac{kg}{cm^{^2}}$, ¿qué altura alcanzará la glicerina en el manómetro en U respecto del fondo del depósito?</li>\n",
    "        <li> Para el caso 2, si en la parte superior del depósito se coloca un manómetro Bourdon de presiones absolutas ¿qué presión marcara $(mca,\\ bar,\\ atm)$ si la columna de mercurio en el barómetro es $H = 75,5 cm$?</li>\n",
    "     </ol>\n",
    "</div>"
   ]
  },
  {
   "cell_type": "markdown",
   "id": "a461703c",
   "metadata": {},
   "source": [
    "<div class=\"texto\">\n",
    "<p><strong>Nota: la sección del tubo manométrico es despreciable frente a la sección del depósito.</strong></p>\n",
    "<p><strong>Importante: en la resolución deben reflejarse paso a paso los cambios de unidades de presión.</strong></p>\n",
    "</div>"
   ]
  },
  {
   "cell_type": "markdown",
   "id": "63c901dd",
   "metadata": {},
   "source": [
    "<div class=\"dcha\"><img src=\"../MEDIA/20M17.png\" style=\"width:70%\"></div>"
   ]
  },
  {
   "cell_type": "markdown",
   "id": "f607827e",
   "metadata": {},
   "source": [
    "<div class=\"antesDe\">\n",
    "<ul>\n",
    "    <li><strong>CONCEPTOS PREVIOS</strong></li>\n",
    "    <ul>\n",
    "        <li>CONSECUENCIAS DE LA ECUACIÓN FUNDAMENTAL DE LA HIDROSTÁTICA.</li>\n",
    "        <ul>\n",
    "            <li><i>Las superficies de presión constante (superficies isobáricas) son <strong>horizontales.</strong></i></li>\n",
    "            <li><i><strong>La variación de presión en el interior de un líquido en reposo depende de la diferencia de cota</strong>. Al trabajar con líquidos <strong>suele ser conveniente tomar</strong> el origen de coordenadas en <strong>la superficie libre</strong> (nivel de referencia) y <strong>medir las distancias desde la superficie libre hacia abajo</strong>.</i></li>\n",
    "        </ul>\n",
    "        <li>ESCALAS DE PRESIÓN. PRESIÓN ABSOLUTA Y PRESIÓN MANOMÉTRICA.</li>\n",
    "        <ul> \n",
    "            <li><p class=\"formulas\">$P_{_{abs}}= P_{_{atm}}+ P_{_{man}}$<p/></li>\n",
    "            <li><i>La diferencia entre las dos escalas es el origen que se toma como referencia para medir la presión. Para la <strong>presión absoluta</strong> el origen es el <strong>VACÍO</strong>. Para la <strong>presión manométrica</strong> el origen es <strong>la presión de la atmósfera local</strong>.</i></li>\n",
    "            <li><i><strong>NO SE PUEDEN MEZCLAR AMBAS ESCALAS</strong></i></li>\n",
    "         </ul>\n",
    "                <li><p>MANÓMETRO BOURDON DE PRESIONES ABSOLUTAS.</p></li>\n",
    "        <ul> \n",
    "            <li><i>El manómetro Bourdon consiste en tubos curvados en arco de sección oval. A medida que se aplica presión al interior del tubo, éste tiende a enderezarse. <strong>Sirve para medir presiones absolutas</strong>.</i></li>\n",
    "         </ul> \n",
    "    </ul>\n",
    "\n",
    "\n",
    "\n",
    "<div>"
   ]
  },
  {
   "cell_type": "code",
   "execution_count": 2,
   "id": "7814d61d",
   "metadata": {},
   "outputs": [
    {
     "data": {
      "text/html": [
       "\n",
       "<a href=\"javascript:code_toggle()\">Mostrar/ocultar celdas de código</a>."
      ],
      "text/plain": [
       "<IPython.core.display.HTML object>"
      ]
     },
     "execution_count": 2,
     "metadata": {},
     "output_type": "execute_result"
    }
   ],
   "source": [
    "from IPython.display import HTML\n",
    "HTML('''\n",
    "<a href=\"javascript:code_toggle()\">Mostrar/ocultar celdas de código</a>.''')"
   ]
  },
  {
   "cell_type": "markdown",
   "id": "3c8e679a",
   "metadata": {},
   "source": [
    "<h2>1. Lectura R en el manómetro en U.</h2>"
   ]
  },
  {
   "cell_type": "markdown",
   "id": "700f196b",
   "metadata": {},
   "source": [
    "<div class=\"texto\"><p>Para calcular la altura $R$ del manómetro en U basta con calcular la presión hidrostática que ejercen los fluídos en el depósito. Por comodidad, lo más sencillo es realizar el cambio de las presiones individuales de cada fluído, actualmente mostrados en mcl, a mcHg, ya que esta medida de presión sera la que nos muestre directamente la lectura R del manómetro en U. </p> </div>\n",
    "<div><img src=\"../MEDIA/20M17a1.png\"style=\"width:90%;left:0;\"></div>\n",
    "\n",
    "\n"
   ]
  },
  {
   "cell_type": "markdown",
   "id": "5d16f750",
   "metadata": {},
   "source": [
    "<div class=\"texto\"><p>Al estar tanto el deposito como el manómetro en U abiertos a la atmósfera, no hace falta tener en cuenta la lectura del barómetro.</p> </div>\n",
    "<div class=\"split\">\n",
    "    <div class=\"izq\"><img src=\"../MEDIA/20M17a.png\"></div>\n",
    "    <div class=\"dcha\"><div class=\"texto\">Analíticamente:</div>       \n",
    "        <div class=\"formulas\">\n",
    "            $$ \n",
    "            P_{_{M}}+ R - h_{_{Glicerina}} - h_{_{Agua}} - h_{_{Aceite}} = P_{_{D}} \n",
    "            $$\n",
    "        </div>\n",
    "        <div class=\"formulas\">\n",
    "            $$ \n",
    "            P_{_M} = P_{_D} = P_{_{atm}}\n",
    "            $$\n",
    "        </div>        \n",
    "        <div class=\"formulas\">\n",
    "            $$ \n",
    "            R=h_{_{Aceite}} + h_{_{Agua}} + h_{_{Glicerina}}\n",
    "            $$\n",
    "        </div>\n",
    "</div>\n",
    "</div>"
   ]
  },
  {
   "cell_type": "markdown",
   "id": "3a4ae6aa",
   "metadata": {},
   "source": [
    "<div class=\"texto\">Partiendo de:</div>\n",
    "\n",
    "<div class=\"formulas\">\n",
    "    $$ \n",
    "h\\ (mcl)=\\frac{P}{\\gamma}\\rightarrow P=h\\cdot \\gamma_{_{sustancia}}\n",
    "    $$\n",
    "</div>\n",
    "\n",
    "\n",
    "<div class=\"formulas\">\n",
    "    $$ \n",
    "    P_{_{1}}=h_{_{1}}\\cdot \\gamma_{_{1}}\\ \\ ;\\ \\  P_{_{2}}=h_{_{2}}\\cdot \\gamma_{_{2}}\n",
    "    $$\n",
    "</div>\n",
    "\n",
    "<div class=\"texto\">Si:</div>\n",
    "\n",
    "<div class=\"formulas\">\n",
    "    $$ \n",
    "    P_{_{1}}= P_{_{2}}\\rightarrow h_{_{1}}\\cdot \\gamma_{_{1}}=h_{_{2}}\\cdot \\gamma_{_{2}}\\rightarrow\\frac{h_{_{1}}}{h_{_{2}}}=\\frac{\\gamma_{_{2}}}{\\gamma_{_{1}}}\\ (1)\n",
    "    $$\n",
    "</div>\n",
    "<div class=\"texto\">Siendo:</div>\n",
    "\n",
    "<div class=\"formulas\">\n",
    "    $$ \n",
    "    s_{_{sustancia}}=\\frac{\\gamma_{_{sustancia}}}{\\gamma_{_{patron}}}\\rightarrow\\gamma_{_{sustancia}}=s_{_{sustancia}}\\cdot \\gamma_{_{patron}}\n",
    "    $$\n",
    "</div>\n",
    "\n",
    "<div class=\"texto\">De $(1)$:</div>\n",
    "\n",
    "<div class=\"formulas\">\n",
    "    $$ \n",
    "    h_{_{2}}\\cdot \\gamma_{_{2}}\\rightarrow\\frac{h_{_{1}}}{h_{_{2}}}=\\frac{s_{_{2}}\\cdot \\gamma_{_{patron}}}{s_{_{1}}\\cdot \\gamma_{_{patron}}}\\rightarrow h_{_{1}}\\ (mcl_{_{1}})=h_{_{2}}\\ (mcl_{_{2}})\\cdot \\frac{s_{_{2}}}{s_{_{1}}}\n",
    "    $$\n",
    "</div>\n",
    "\n",
    "<div class=\"texto\">Realizamos el cambio de unidades:</div>\n",
    "\n",
    "<div class=\"formulas\">\n",
    "$$ \n",
    "R\\ (mcHg)=h_{_{Aceite}}\\  (mcAceite) + h_{_{Agua}}\\  (mca) + h_{_{Glicerina}}\\  (mcGlicerina)\n",
    "$$\n",
    "</div>\n",
    "\n",
    "<div class=\"formulas\">\n",
    "$$ \n",
    "R\\ (mcHg)=h_{_{Aceite}}\\cdot \\frac{s_{_{Aceite}}}{s_{_{Hg}} }\\ (mcHg) + h_{_{Agua}}\\cdot \\frac{s_{_{Agua}}}{s_{_{Hg}}}\\ (mcHg)   +h_{_{Glicerina}}\\cdot \\frac{s_{_{Glicerina}}}{s_{_{Hg}}}\\ (mcHg)  \n",
    "$$\n",
    "</div>"
   ]
  },
  {
   "cell_type": "code",
   "execution_count": 3,
   "id": "82eb2158",
   "metadata": {},
   "outputs": [
    {
     "data": {
      "text/html": [
       "\n",
       "<style>\n",
       "    .widget-label { width: 20ex !important;text-align:left !important; }    \n",
       "</style>"
      ],
      "text/plain": [
       "<IPython.core.display.HTML object>"
      ]
     },
     "metadata": {},
     "output_type": "display_data"
    },
    {
     "data": {
      "application/vnd.jupyter.widget-view+json": {
       "model_id": "a9015ecffd07446992db866f04f13d3e",
       "version_major": 2,
       "version_minor": 0
      },
      "text/plain": [
       "interactive(children=(Text(value='0.1', description='$h_{_{aceite}}$ (mcAceite)'), Text(value='0.1', descripti…"
      ]
     },
     "metadata": {},
     "output_type": "display_data"
    }
   ],
   "source": [
    "from __future__ import print_function\n",
    "from termcolor import colored\n",
    "from ipywidgets import interact, interactive, fixed, interact_manual\n",
    "from IPython.display import HTML, display\n",
    "import ipywidgets as widgets\n",
    "\n",
    "def f(h_aceite, h_agua, h_glicerina, s_hg, s_aceite, s_agua, s_glicerina):\n",
    "    try:\n",
    "        fh_aceite=float(h_aceite)\n",
    "        fh_agua=float(h_agua)\n",
    "        fh_glicerina=float(h_glicerina)\n",
    "    except:\n",
    "        print(colored(\"Define un valor válido para las variables\",\"red\"))\n",
    "    else:\n",
    "        print(\"Pulsa para actualizar los campos de texto\")\n",
    "        return fh_aceite*s_aceite/s_hg + fh_agua*s_agua/s_hg + fh_glicerina*s_glicerina/s_hg\n",
    "\n",
    "        \n",
    "a = interactive(f, h_aceite=\"0.1\", h_agua=\"0.1\", h_glicerina=\"0.2\",s_hg=fixed(13.6),s_aceite=fixed(0.82), s_agua=fixed(1),s_glicerina=fixed(1.26))\n",
    "a.children[0].description = '$h_{_{aceite}}$ (mcAceite)'\n",
    "a.children[1].description = '$h_{_{agua}}$ (mca)'\n",
    "a.children[2].description = '$h_{_{glicerina}}$ (mcGlicerina)'\n",
    "\n",
    "display(HTML('''\n",
    "<style>\n",
    "    .widget-label { width: 20ex !important;text-align:left !important; }    \n",
    "</style>'''))\n",
    "\n",
    "\n",
    "display(a)\n",
    "\n",
    "\n",
    "\n",
    "\n"
   ]
  },
  {
   "cell_type": "code",
   "execution_count": 4,
   "id": "da979037",
   "metadata": {},
   "outputs": [
    {
     "data": {
      "text/html": [
       "\n",
       "<button onclick=\"ejecutar(13,16)\">Actualizar campos de texto</button>\n",
       "<button onclick=\"ejecutar(11, 12)\">Abrir/reiniciar cuadro de variables</button>\n",
       "<script>function ejecutar(desde, hasta){\n",
       "    for(i = desde; i < hasta; i++)\n",
       "Jupyter.notebook.execute_cells([i])    \n",
       "}</script>"
      ],
      "text/plain": [
       "<IPython.core.display.HTML object>"
      ]
     },
     "execution_count": 4,
     "metadata": {},
     "output_type": "execute_result"
    }
   ],
   "source": [
    "from IPython.display import HTML\n",
    "HTML('''\n",
    "<button onclick=\"ejecutar(13,16)\">Actualizar campos de texto</button>\n",
    "<button onclick=\"ejecutar(11, 12)\">Abrir/reiniciar cuadro de variables</button>\n",
    "<script>function ejecutar(desde, hasta){\n",
    "    for(i = desde; i < hasta; i++)\n",
    "Jupyter.notebook.execute_cells([i])    \n",
    "}</script>''')"
   ]
  },
  {
   "cell_type": "code",
   "execution_count": 25,
   "id": "cd2bb0f5",
   "metadata": {},
   "outputs": [
    {
     "name": "stdout",
     "output_type": "stream",
     "text": [
      "\u001b[31mDefine un valor válido para las variables para continuar\u001b[0m\n"
     ]
    }
   ],
   "source": [
    "from IPython.display import Markdown as md\n",
    "s_hg=13.6\n",
    "s_aceite=0.82\n",
    "s_agua=1\n",
    "s_glicerina=1.26\n",
    "try:\n",
    "    h_aceite=float(a.children[0].value)\n",
    "    h_agua=float(a.children[1].value)\n",
    "    h_glicerina=float(a.children[2].value)\n",
    "except:\n",
    "    print(colored(\"Define un valor válido para las variables para continuar\",\"red\"))\n",
    "else:\n",
    "    R=a.result\n",
    "    exp=0\n",
    "    unidad=\"(m)\"\n",
    "    RExp=R\n",
    "\n",
    "    if (RExp<1):\n",
    "        caracter1=\"\\cdot 10^{-\"\n",
    "        caracter2=\"}\"\n",
    "        while(RExp<1):          \n",
    "                exp+=1\n",
    "                RExp=RExp*10\n",
    "        if (exp>=3):\n",
    "            exp-=3\n",
    "            unidad=\"(mm)\"\n",
    "            if (exp==0):\n",
    "                caracter1=\"\"\n",
    "                caracter2=\"\"\n",
    "\n",
    "\n",
    "    else: \n",
    "        caracter1=\"\"\n",
    "        caracter2=\"\"\n",
    "    RRed=round(RExp,3)"
   ]
  },
  {
   "cell_type": "markdown",
   "id": "92fe2189",
   "metadata": {},
   "source": [
    "<div class=\"formulas\">\n",
    "$$ \n",
    "R\\ =\\left(h_{_{Aceite}}\\cdot \\frac{s_{_{Aceite}}}{s_{_{Hg}} } + h_{_{Agua}}\\cdot \\frac{s_{_{Agua}}}{s_{_{Hg}}}  +h_{_{Glicerina}}\\cdot \\frac{s_{_{Glicerina}}}{s_{_{Hg}}}\\right)\\ (mcHg)  \n",
    "$$\n",
    "</div>"
   ]
  },
  {
   "cell_type": "code",
   "execution_count": 22,
   "id": "9379f4fd",
   "metadata": {},
   "outputs": [
    {
     "data": {
      "text/markdown": [
       "$$ R=0.10\\cdot (0.82/13.60) + 0.10\\cdot (1.00/13.60) + 0.10\\cdot (1.26/13.60)=0.03191(m)$$  $$R \\cong 3.19 \\cdot 10^{-2}\\ (m) $$"
      ],
      "text/plain": [
       "<IPython.core.display.Markdown object>"
      ]
     },
     "execution_count": 22,
     "metadata": {},
     "output_type": "execute_result"
    }
   ],
   "source": [
    "from IPython.display import Markdown as md\n",
    "md('$$ R=%.2f\\cdot (%.2f/%.2f) + %.2f\\cdot (%.2f/%.2f) + %.2f\\cdot (%.2f/%.2f)=%.5f(m)$$  $$R \\cong %.2f %s%s%s\\ %s $$'%\n",
    "   (h_aceite,s_aceite,s_hg, h_agua,s_agua,s_hg, h_glicerina,s_glicerina,s_hg,R,RRed,caracter1,exp,caracter2,unidad))"
   ]
  },
  {
   "cell_type": "code",
   "execution_count": 7,
   "id": "2d1bd856",
   "metadata": {},
   "outputs": [
    {
     "data": {
      "text/html": [
       "\n",
       "<a href=\"javascript:code_toggle()\">Mostrar/ocultar celdas de código</a>."
      ],
      "text/plain": [
       "<IPython.core.display.HTML object>"
      ]
     },
     "execution_count": 7,
     "metadata": {},
     "output_type": "execute_result"
    }
   ],
   "source": [
    "from IPython.display import HTML\n",
    "HTML('''\n",
    "<a href=\"javascript:code_toggle()\">Mostrar/ocultar celdas de código</a>.''')"
   ]
  },
  {
   "cell_type": "markdown",
   "id": "12f0e4cd",
   "metadata": {},
   "source": [
    "<h2>2. Si se sustituye el manómetro en U del fondo del depósito por otro manómetro en U sin liquido manométrico y se cierra el depósito por la parte superior y se inyecta aire comprimido, cuya presión es $0,05\\ \\frac{kg}{cm^{^2}}$, ¿qué altura alcanzará la glicerina en el manómetro en U respecto del fondo del depósito?</h2>"
   ]
  },
  {
   "cell_type": "markdown",
   "id": "4ba7f53a",
   "metadata": {},
   "source": [
    "<div class=\"antesDe\">\n",
    "<ul>\n",
    "    <li><strong>FALLO TÍPICO $\\rightarrow$ NO CONSIDERAR QUE LA SECCIÓN DEL TUBO MANÓMETRICO ES DESPRECIABLE FRENTE A LA SECCIÓN DEL DEPÓSITO.</strong></li>\n",
    "        <ul>\n",
    "        <li>Esta aclaración la realiza el enunciado. Implica que al ser la sección del depósito mucho mayor que la del tubo manométrico, las cotas del depósito no varían.</li>\n",
    "        </ul>\n",
    "</ul>\n",
    "<div>\n",
    "\n"
   ]
  },
  {
   "cell_type": "markdown",
   "id": "c1e9d442",
   "metadata": {},
   "source": [
    "<div class=\"texto\"><p>Representamos el ejercicio con los cambios referidos en el apartado 2. </p> \n",
    "<p><strong>Nótese que la lectura del manómetro se realiza desde el fondo del depósito.</strong> </p> </div>\n",
    "<div>\n",
    "    <img src=\"../MEDIA/20M17b.png\"style=\"width:60%;\">\n",
    "</div>"
   ]
  },
  {
   "cell_type": "markdown",
   "id": "eb178744",
   "metadata": {},
   "source": [
    "<div class=\"texto\"><p>Por hidrostática podemos decir que:</p> </div>\n",
    "<div class=\"formulas\">\n",
    "    $$ \n",
    "    P_{_{M_{_{abs}}}}+ R - h_{_{Glicerina}} - h_{_{Agua}} - h_{_{Aceite}} = P_{_{D_{_{abs}}}} \n",
    "    $$\n",
    "</div>\n",
    "<div class=\"texto\"><p>Por el enunciado sabemos que:</p> </div>\n",
    "<div class=\"formulas\">\n",
    "    $$ \n",
    "    P_{_{D_{_{abs}}}} = P_{_{Aire\\ c.}}+P_{_{atm}}\n",
    "    $$\n",
    "</div>\n",
    "<div class=\"formulas\">\n",
    "    $$ \n",
    "    P_{_{M_{_{abs}}}} =P_{_{atm}}\n",
    "    $$\n",
    "</div>\n",
    "<div class=\"texto\"><p>Sustituimos en la ecuación de la hidrostática:</p> </div>\n",
    "<div class=\"formulas\">\n",
    "    $$ \n",
    "    P_{_{atm}}+ R - h_{_{Glicerina}} - h_{_{Agua}} - h_{_{Aceite}} = P_{_{Aire\\ c.}}+P_{_{atm}}\n",
    "    $$\n",
    "</div>\n",
    "<div class=\"formulas\">\n",
    "    $$ \n",
    "    R=h_{_{Aceite}} + h_{_{Agua}} + h_{_{Glicerina}}+P_{_{Aire\\ c.}}\n",
    "    $$\n",
    "</div>"
   ]
  },
  {
   "cell_type": "markdown",
   "id": "40d42d46",
   "metadata": {},
   "source": [
    "<div class=\"texto\">\n",
    "    <p>En este apartado se trabajará en metros de columna de glicerina, ya que será la unidad en la que se muestre la lectura R.</p>  \n",
    "    <p>Primero pasamos a metros columna de agua la presión del aire comprimido, para ello requiere una conversión previa a Pascales:</p> </div>\n",
    "<div>"
   ]
  },
  {
   "cell_type": "markdown",
   "id": "38e8c3d9",
   "metadata": {},
   "source": [
    "<div class=\"formulas\">\n",
    "    $$ \n",
    "P_{_{Aire\\ c.}}\\ (Pa)= \\left[P_{_{Aire\\ c._{kg/cm^{^2}}}}\\ \\frac{kg}{cm^{^2}}\\cdot\\frac{9,8\\ N}{1\\ kg}\\cdot\\frac{10^{^4} cm^{^2}}{1\\ m^{^2}}\\right]= P_{_{Aire\\ c._{kg/cm^{^2}}}}\\ \\cdot9,8\\cdot10^{^4} \\left(\\frac{N}{m^{^2}}=Pa\\right)\n",
    "    $$\n",
    "</div>\n",
    "<div class=\"texto\">De Pascales a metros columna de líquido:</div>\n",
    "<div class=\"formulas\">\n",
    "    $$ \n",
    "h\\ (mcl)=\\frac{P\\ (Pa)}{\\gamma_{_{liquido}}}=\\frac{P\\ (Pa)}{\\rho_{_{liquido}}\\cdot g}\n",
    "    $$                    \n",
    "</div>\n",
    "<div class=\"texto\">Siendo metro columna de agua:</div>\n",
    "<div class=\"formulas\">\n",
    "    $$ \n",
    "P_{_{Aire\\ c.}}(mca)=\\frac{P_{_{Aire\\ c.}} (Pa)}{\\rho_{_{agua}}\\cdot g} =\\left[ \\frac{P_{_{Aire\\ c._{kg/cm^{^2}} }}\\ (Pa) \\cdot9,8\\cdot10^{^4}\\ \\frac{N}{m^{^2}} }{1000 \\frac{kg}{m^{^3}}\\cdot 9,8\\frac{m}{s^{^2}}}\\right]  =\\left[ \\frac{P_{_{Aire\\ c._{kg/cm^{^2}} }}\\ (Pa) \\cdot10\\ \\frac{N}{m^{^2}} }{1\\ \\frac{kg\\cdot m}{ s^{^2}}\\cdot \\frac{1}{m^{^3}}}\\right]  =\\left[ \\frac{P_{_{Aire\\ c._{kg/cm^{^2}} }}\\ \\cdot10\\ \\frac{N}{m^{^2}} }{1\\ \\frac{N}{ m^{^3}}}\\right]  =10\\ P_{_{Aire\\ c._{kg/cm^{^2}}}}\\  \\ mca\n",
    "    $$\n",
    "</div>"
   ]
  },
  {
   "cell_type": "markdown",
   "id": "88a5c48f",
   "metadata": {},
   "source": [
    "<div class=\"texto\">Sustituimos en la ecuación de la hidrostática y realizamos el cambio a metros columna de glicerina:</div>\n",
    "<div class=\"formulas\">\n",
    "    $$ \n",
    "    R\\ =\\left[h_{_{Aceite}}\\cdot \\frac{s_{_{Aceite}}}{s_{_{glicerina}} } + \\left(h_{_{Agua}}+P_{_{Aire\\ c._{_{mca}}}}\\right)\\cdot \\frac{s_{_{Agua}}}{s_{_{glicerina}} }+ h_{_{Glicerina}}\\right]\n",
    "    $$\n",
    "</div>"
   ]
  },
  {
   "cell_type": "markdown",
   "id": "785e8f51",
   "metadata": {},
   "source": [
    "<div class=\"texto\">Sustituimos:</div>\n",
    "<div class=\"formulas\">\n",
    "    $$ \n",
    "    R\\ =\\left[h_{_{Aceite}}\\cdot \\frac{s_{_{Aceite}}}{s_{_{glicerina}} } + \\left(h_{_{Agua}}+10\\ P_{_{Aire\\ c._{kg/cm^{^2}}}}\\ \\right)\\cdot \\frac{s_{_{Agua}}}{s_{_{glicerina}} }+ h_{_{Glicerina}}\\right](mc_{_{glicerina}}) \n",
    "    $$\n",
    "</div>"
   ]
  },
  {
   "cell_type": "code",
   "execution_count": 27,
   "id": "9a3ad7dd",
   "metadata": {
    "scrolled": false
   },
   "outputs": [
    {
     "data": {
      "application/vnd.jupyter.widget-view+json": {
       "model_id": "8d60f058ef9d458aa09802230f855647",
       "version_major": 2,
       "version_minor": 0
      },
      "text/plain": [
       "interactive(children=(Text(value='0.1', description='h_aceite'), Text(value='0.1', description='h_agua'), Text…"
      ]
     },
     "metadata": {},
     "output_type": "display_data"
    }
   ],
   "source": [
    "from __future__ import print_function\n",
    "from ipywidgets import interact, interactive, fixed, interact_manual\n",
    "import ipywidgets as widgets\n",
    "from IPython.display import display\n",
    "\n",
    "def fb(h_aceite, h_agua, h_glicerina,P_aire, s_hg, s_aceite, s_agua, s_glicerina):\n",
    "    try:\n",
    "        bh_aceite=float(h_aceite)\n",
    "        bh_agua=float(h_agua)\n",
    "        bh_glicerina=float(h_glicerina)\n",
    "        bP_aire=float(P_aire)\n",
    "    except:\n",
    "        print(colored(\"Define un valor válido para las variables\",\"red\"))\n",
    "    else:\n",
    "        print(\"Pulsa para actualizar los campos de texto\")\n",
    "        return bh_aceite*s_aceite/s_glicerina + (bh_agua+10*bP_aire)*s_agua/s_glicerina + bh_glicerina\n",
    "    \n",
    "b = interactive(fb, h_aceite=\"0.1\", h_agua=\"0.1\", h_glicerina=\"0.1\",P_aire=\"0.05\",s_hg=fixed(13.6),s_aceite=fixed(0.82), s_agua=fixed(1),s_glicerina=fixed(1.26))\n",
    "\n",
    "display(b)\n",
    "b.children[0].description = '$h_{_{aceite}}$ (mcAceite)'\n",
    "b.children[1].description = '$h_{_{agua}}$ (mca)'\n",
    "b.children[2].description = '$h_{_{glicerina}}$ (mcGlicerina)'\n",
    "b.children[3].description = '$h_{_{glicerina}}$ ($kg/cm^{^2}$)'\n",
    "\n"
   ]
  },
  {
   "cell_type": "code",
   "execution_count": 26,
   "id": "9c306988",
   "metadata": {},
   "outputs": [
    {
     "data": {
      "text/html": [
       "\n",
       "<button onclick=\"ejecutar(27,30)\">Actualizar campos de texto</button>\n",
       "<button onclick=\"ejecutar(25,26)\">Abrir/reiniciar cuadro de variables</button>\n",
       "<script>function ejecutar(desde, hasta){\n",
       "    for(i = desde; i < hasta; i++)\n",
       "Jupyter.notebook.execute_cells([i])\n",
       "}</script>"
      ],
      "text/plain": [
       "<IPython.core.display.HTML object>"
      ]
     },
     "execution_count": 26,
     "metadata": {},
     "output_type": "execute_result"
    }
   ],
   "source": [
    "from IPython.display import HTML\n",
    "HTML('''\n",
    "<button onclick=\"ejecutar(27,30)\">Actualizar campos de texto</button>\n",
    "<button onclick=\"ejecutar(25,26)\">Abrir/reiniciar cuadro de variables</button>\n",
    "<script>function ejecutar(desde, hasta){\n",
    "    for(i = desde; i < hasta; i++)\n",
    "Jupyter.notebook.execute_cells([i])\n",
    "}</script>''')"
   ]
  },
  {
   "cell_type": "code",
   "execution_count": 23,
   "id": "64cc8e5c",
   "metadata": {},
   "outputs": [
    {
     "name": "stdout",
     "output_type": "stream",
     "text": [
      "\u001b[31mDefine un valor válido para las variables para continuar\u001b[0m\n"
     ]
    }
   ],
   "source": [
    "from IPython.display import Markdown as md\n",
    "s_hg=13.6\n",
    "s_aceite=0.82\n",
    "s_agua=1\n",
    "s_glicerina=1.26\n",
    "\n",
    "try:\n",
    "    h_aceite=float(b.children[0].value)\n",
    "    h_agua=float(b.children[1].value)\n",
    "    h_glicerina=float(b.children[2].value)\n",
    "    P_aire=float(b.children[3].value)\n",
    "except:\n",
    "    print(colored(\"Define un valor válido para las variables para continuar\",\"red\"))\n",
    "else:\n",
    "    bR=b.result\n",
    "    bexp=0\n",
    "    bunidad=\"(m)\"\n",
    "    bRExp=bR\n",
    "\n",
    "    if (bRExp<0.1):\n",
    "        bcaracter1=\"\\cdot 10^{-\"\n",
    "        bcaracter2=\"}\"\n",
    "        while(bRExp<0.1):          \n",
    "                bexp+=1\n",
    "                bRExp=bRExp*10\n",
    "        if (bexp>=3):\n",
    "            bexp-=3\n",
    "            bunidad=\"(mm)\"\n",
    "            if (bexp==0):\n",
    "                bcaracter1=\"\"\n",
    "                bcaracter2=\"\"\n",
    "\n",
    "\n",
    "    else: \n",
    "        bcaracter1=\"\"\n",
    "        bcaracter2=\"\"\n",
    "    bRRed=round(bR,3)"
   ]
  },
  {
   "cell_type": "markdown",
   "id": "13530187",
   "metadata": {},
   "source": [
    "<div class=\"texto\">Introducimos datos:</div>\n",
    "<div class=\"formulas\">\n",
    "    $$ \n",
    "    R\\ =\\left[h_{_{Aceite}}\\cdot \\frac{s_{_{Aceite}}}{s_{_{glicerina}} } + \\left(h_{_{Agua}}+10\\ P_{_{Aire\\ c._{kg/cm^{^2}}}}\\ \\right)\\cdot \\frac{s_{_{Agua}}}{s_{_{glicerina}} }+ h_{_{Glicerina}}\\right]\n",
    "    $$\n",
    "</div>"
   ]
  },
  {
   "cell_type": "code",
   "execution_count": 24,
   "id": "05885227",
   "metadata": {},
   "outputs": [
    {
     "data": {
      "text/markdown": [
       "$$ R=(0.10\\cdot (0.82/1.26) + (0.10+10\\cdot 0.05) \\cdot(1.00/1.26) + 0.10=0.64127(m)$$  $$R \\cong 0.641 0\\ (m) $$"
      ],
      "text/plain": [
       "<IPython.core.display.Markdown object>"
      ]
     },
     "execution_count": 24,
     "metadata": {},
     "output_type": "execute_result"
    }
   ],
   "source": [
    "from IPython.display import Markdown as md\n",
    "md('$$ R=(%.2f\\cdot (%.2f/%.2f) + (%.2f+10\\cdot %.2f) \\cdot(%.2f/%.2f) + %.2f=%.5f(m)$$  $$R \\cong %s %s%s%s\\ %s $$'%\n",
    "   (h_aceite,s_aceite,s_glicerina, h_agua,P_aire,s_agua, s_glicerina, h_glicerina,bR,bRRed,bcaracter1,bexp,bcaracter2,bunidad))"
   ]
  },
  {
   "cell_type": "code",
   "execution_count": 12,
   "id": "110ec135",
   "metadata": {},
   "outputs": [
    {
     "data": {
      "text/html": [
       "\n",
       "<a href=\"javascript:code_toggle()\">Mostrar/ocultar celdas de código</a>."
      ],
      "text/plain": [
       "<IPython.core.display.HTML object>"
      ]
     },
     "execution_count": 12,
     "metadata": {},
     "output_type": "execute_result"
    }
   ],
   "source": [
    "from IPython.display import HTML\n",
    "HTML('''\n",
    "<a href=\"javascript:code_toggle()\">Mostrar/ocultar celdas de código</a>.''')"
   ]
  },
  {
   "cell_type": "markdown",
   "id": "741ba176",
   "metadata": {},
   "source": [
    "<h2>3. Para el caso 2, si en la parte superior del depósito se coloca un manómetro Bourdon de presiones absolutas ¿qué presión marcará $(mca,\\ bar,\\ atm)$ si la columna de mercurio en el barómetro es $H = 75,5 cm$?</h2>"
   ]
  },
  {
   "cell_type": "markdown",
   "id": "7b4d2d25",
   "metadata": {},
   "source": [
    "<div class=\"texto\">\n",
    "    <p>Para resolver este apartado se puede proceder de dos maneras, la primera formulando la ecuación hidrostática desde $P_{_M}$ hasta $P_{_D}$ con el dato $R$ obtenido en el apartado anterior, y la segunda con las escalas de presión.</p></div>\n",
    "<div class=\"formulas\">$$P_{_{abs}}= P_{_{atm}}+ P_{_{man}}$$</div>\n",
    "<div class=\"texto\">\n",
    "    <p>Se realizará por el segundo camino ya que son menos las operaciones a realizar, pero ambos caminos deben de resultar lo mismo debido a que el valor de $R$ es consecuencia directa de la presión en el depósito $P_{_D}$.</p>\n",
    "    <p><strong>Nota: Además de ser más sencillo, siempre es más seguro calcular resultados con datos del enunciado, que con resultados obtenidos anteriormente.</strong></p> \n",
    "</div>\n"
   ]
  },
  {
   "cell_type": "markdown",
   "id": "5f422306",
   "metadata": {},
   "source": [
    "<div class=\"texto\"><p>Representamos el ejercicio con los cambios referidos en el apartado 3. </p> \n",
    " </div>\n",
    "<div>\n",
    "    <img src=\"../MEDIA/20M17c.png\"style=\"width:60%;\">\n",
    "</div>"
   ]
  },
  {
   "cell_type": "markdown",
   "id": "f585e81a",
   "metadata": {},
   "source": [
    "<div class=\"texto\"><p>Representamos las presiones: </p>  </div>\n",
    "\n",
    "<div>\n",
    "<img src=\"../MEDIA/20M17cP.png\" style=\"width:60%\">\n",
    "</div>\n",
    "\n",
    "<div class=\"texto\"><p>Por tanto: </p> \n",
    "<div class=\"formulas\">\n",
    "    $$ \n",
    "P_{_{D_{_{abs}}}}= P_{_{D_{_{rel}}}}+ P_{_{atm}}\n",
    "    $$\n",
    "</div>\n",
    "\n",
    "\n"
   ]
  },
  {
   "cell_type": "markdown",
   "id": "f8a7d019",
   "metadata": {},
   "source": [
    "\n",
    "<div class=\"texto\"><p>Por otro lado, del barómetro, por hidrostática: </p> \n",
    "<div class=\"formulas\">\n",
    "    $$ \n",
    "H= P_{_{atm}}\n",
    "    $$\n",
    "</div>\n",
    "\n",
    "\n",
    "\n"
   ]
  },
  {
   "cell_type": "markdown",
   "id": "6b68a188",
   "metadata": {},
   "source": [
    "<div class=\"texto\"><p>Sustitimos en la ecuación anterior: </p> \n",
    "<div class=\"formulas\" >\n",
    "    $$ \n",
    "P_{_{D_{_{abs}}}}= P_{_{D_{_{rel}}}}+ H\n",
    "    $$\n",
    "</div>\n"
   ]
  },
  {
   "cell_type": "code",
   "execution_count": 13,
   "id": "2c7b4861",
   "metadata": {
    "scrolled": true
   },
   "outputs": [
    {
     "data": {
      "application/vnd.jupyter.widget-view+json": {
       "model_id": "a7ba0675f17847459ae1ee720547572a",
       "version_major": 2,
       "version_minor": 0
      },
      "text/plain": [
       "interactive(children=(Text(value='0.755', description='$H$ (cmcHg)'), Output()), _dom_classes=('widget-interac…"
      ]
     },
     "metadata": {},
     "output_type": "display_data"
    }
   ],
   "source": [
    "from __future__ import print_function\n",
    "from ipywidgets import interact, interactive, fixed, interact_manual\n",
    "import ipywidgets as widgets\n",
    "\n",
    "def fc(H):\n",
    "    try:\n",
    "        cH=float(H)\n",
    "    except:\n",
    "        print(colored(\"Define un valor válido para las variables\",\"red\"))\n",
    "    else:\n",
    "        print(\"Pulsa calcular para actualizar los campos de texto\")\n",
    "        return cH\n",
    "\n",
    "c = interactive(fc,H=\"0.755\")\n",
    "c.children[0].description = '$H$ (cmcHg)'\n",
    "display(c)"
   ]
  },
  {
   "cell_type": "code",
   "execution_count": 14,
   "id": "33d35b4c",
   "metadata": {},
   "outputs": [
    {
     "data": {
      "text/html": [
       "\n",
       "<button onclick=\"ejecutar(39,47)\">Actualizar campos de texto</button>\n",
       "<button onclick=\"ejecutar(37,38)\">Abrir/reiniciar cuadro de variables</button>\n",
       "<script>function ejecutar(desde, hasta){\n",
       "    for(i = desde; i < hasta; i++)\n",
       "Jupyter.notebook.execute_cells([i])\n",
       "}</script>"
      ],
      "text/plain": [
       "<IPython.core.display.HTML object>"
      ]
     },
     "execution_count": 14,
     "metadata": {},
     "output_type": "execute_result"
    }
   ],
   "source": [
    "from IPython.display import HTML\n",
    "HTML('''\n",
    "<button onclick=\"ejecutar(39,47)\">Actualizar campos de texto</button>\n",
    "<button onclick=\"ejecutar(37,38)\">Abrir/reiniciar cuadro de variables</button>\n",
    "<script>function ejecutar(desde, hasta){\n",
    "    for(i = desde; i < hasta; i++)\n",
    "Jupyter.notebook.execute_cells([i])\n",
    "}</script>''')"
   ]
  },
  {
   "cell_type": "code",
   "execution_count": 15,
   "id": "b8e53dbe",
   "metadata": {},
   "outputs": [],
   "source": [
    "from IPython.display import Markdown as md\n",
    "try:\n",
    "    H=c.result\n",
    "    P_D_abs_mca=10*P_aire+H*s_hg\n",
    "    P_D_abs_bar=0.98*P_aire+0.098*H*s_hg\n",
    "    P_D_abs_atm=10*P_aire/( 0.76*s_hg)+H/0.76    \n",
    "except:\n",
    "    print(colored(\"Define un valor válido para las variables para continuar\",\"red\"))"
   ]
  },
  {
   "cell_type": "markdown",
   "id": "be3386ac",
   "metadata": {},
   "source": [
    "<div class=\"texto\"><p>Para el cálculo en mca: </p> \n",
    "<div class=\"formulas\" >\n",
    "    $$ \n",
    "P_{_{D_{_{abs}}}}= P_{_{D_{_{rel}}}}\\ \\frac{kg}{cm^{^2}}\\cdot\\frac{9,8\\ N}{1\\ kg}\\cdot\\frac{10^{^4} cm^{^2}}{1\\ m^{^2}}+ H\\ mcHg\\cdot \\frac{s_{_{Hg}}}{s_{_{agua}} }=\n",
    "    $$\n",
    "</div>\n",
    "<div class=\"formulas\" >\n",
    "    $$\n",
    "= \\ \\frac{P_{_{D_{_{rel}}}}\\cdot 9,8\\cdot10^{^4}\\ Pa}{\\gamma_{_{agua}}}+ H\\cdot s_{_{Hg}}\\ mca\n",
    "    $$\n",
    "</div>\n",
    "<div class=\"texto\"><p>Calculamos la $\\gamma$ del agua  </p></div>\n",
    "    <div class=\"formulas\" >\n",
    "    $$\n",
    "\\gamma_{_{agua}}=\\rho_{_{agua}}\\cdot g=1000 \\frac{kg}{m^{^3}}\\cdot 9,8\\frac{m}{s^{^2}}=9800\\ \\frac{kg\\cdot m}{ s^{^2}}\\cdot \\frac{1}{m^{^3}}=9800\\ \\frac{N}{m^{^3}}=9800\\ \\frac{Pa}{m}\n",
    "    $$\n",
    "</div>"
   ]
  },
  {
   "cell_type": "markdown",
   "id": "28c60738",
   "metadata": {},
   "source": [
    "<div class=\"texto\"><p>Sustituimos:</p> \n",
    "<div class=\"formulas\" >\n",
    "    $$\n",
    "P_{_{D_{_{abs}}}}= \\ \\frac{P_{_{D_{_{rel}}}}\\cdot 9,8\\cdot10^{^4}\\ Pa}{9800\\ \\frac{Pa}{m}}+ H\\cdot s_{_{Hg}}\\ mca=\\left(10\\cdot P_{_{D_{_{rel}}}}+ H\\cdot s_{_{Hg}}\\right) mca \n",
    "    $$\n",
    "</div>"
   ]
  },
  {
   "cell_type": "code",
   "execution_count": 16,
   "id": "de950db9",
   "metadata": {},
   "outputs": [
    {
     "data": {
      "text/markdown": [
       "$$ P_{_{D_{_{abs}}}}=10\\cdot 0.05+ 0.755 \\cdot 13.6=10.768 \\ mca $$  "
      ],
      "text/plain": [
       "<IPython.core.display.Markdown object>"
      ]
     },
     "execution_count": 16,
     "metadata": {},
     "output_type": "execute_result"
    }
   ],
   "source": [
    "from IPython.display import Markdown as md\n",
    "md('$$ P_{_{D_{_{abs}}}}=10\\cdot %s+ %s \\cdot %s=%.3f \\ mca $$  '%\n",
    "   ( P_aire, H , s_hg,P_D_abs_mca ))"
   ]
  },
  {
   "cell_type": "markdown",
   "id": "1b61cc8d",
   "metadata": {},
   "source": [
    "<div class=\"texto\"><p>Para calcular en bares pasamos a pascales y después a bares</p> \n",
    "<div class=\"formulas\" >\n",
    "    $$\n",
    "P_{_{D_{_{abs}}}}=\\left(10\\cdot P_{_{D_{_{rel}}}}+ H\\cdot s_{_{Hg}}\\right) mca\\cdot\\gamma_{_{agua}}\\frac{Pa}{m}\\cdot 10^{^{-5}}\\ \\frac{bar}{Pa}\n",
    "    $$\n",
    "</div>\n",
    "    <div class=\"formulas\" >\n",
    "    $$\n",
    "=\\left[\\left(10\\cdot P_{_{D_{_{rel}}}}+ H\\cdot s_{_{Hg}}\\right) \\cdot9800\\cdot 10^{^{-5}}\\right]\\ bar=\\left(0.98\\cdot P_{_{D_{_{rel}}}}+ 0.098\\cdot  s_{_{Hg}}\\cdot H \\right)\\ bar\n",
    "    $$\n",
    "</div>"
   ]
  },
  {
   "cell_type": "code",
   "execution_count": 17,
   "id": "133f00e5",
   "metadata": {},
   "outputs": [
    {
     "data": {
      "text/markdown": [
       "$$ P_{_{D_{_{abs}}}}=0.98\\cdot 0.05+ 0.098\\cdot 13.6 \\cdot 0.755=1.055 \\ bar $$  "
      ],
      "text/plain": [
       "<IPython.core.display.Markdown object>"
      ]
     },
     "execution_count": 17,
     "metadata": {},
     "output_type": "execute_result"
    }
   ],
   "source": [
    "from IPython.display import Markdown as md\n",
    "md('$$ P_{_{D_{_{abs}}}}=0.98\\cdot %s+ 0.098\\cdot %s \\cdot %s=%.3f \\ bar $$  '%\n",
    "   ( P_aire, s_hg, H ,P_D_abs_bar ))"
   ]
  },
  {
   "cell_type": "markdown",
   "id": "26fb3dd1",
   "metadata": {},
   "source": [
    "<div class=\"texto\"><p>Para calcular en atmosferas pasamos a mcHg y despues a bares</p> \n",
    "<div class=\"formulas\" >\n",
    "    $$\n",
    "P_{_{D_{_{abs}}}}=10\\cdot P_{_{D_{_{rel}}}}\\ mca\\cdot \\frac{s_{_{Agua}}}{s_{_{Hg}}}\\frac{mcHg}{mca}  + H\\ mcHg \n",
    "    $$\n",
    "</div>\n",
    "<div class=\"formulas\" >\n",
    "    $$\n",
    "P_{_{D_{_{abs}}}}=\\left(\\frac{10}{s_{_{Hg}}}\\cdot P_{_{D_{_{rel}}}}  + H\\right)\\ mcHg\\cdot  \\frac{atm}{0,76\\ mcHg} \n",
    "    $$\n",
    "</div>\n",
    "<div class=\"formulas\" >\n",
    "    $$\n",
    "P_{_{D_{_{abs}}}}=\\left(\\frac{10}{0.76\\cdot s_{_{Hg}}}\\cdot P_{_{D_{_{rel}}}}  +  \\frac{H}{0.76 } \\right)\\ atm\n",
    "    $$\n",
    "</div>"
   ]
  },
  {
   "cell_type": "code",
   "execution_count": 18,
   "id": "9acb83a0",
   "metadata": {
    "scrolled": true
   },
   "outputs": [
    {
     "data": {
      "text/markdown": [
       "$$ P_{_{D_{_{abs}}}}=10/(0.76\\cdot 13.6)\\cdot 0.05+ 0.755/0.76=1.042 \\ bar $$  "
      ],
      "text/plain": [
       "<IPython.core.display.Markdown object>"
      ]
     },
     "execution_count": 18,
     "metadata": {},
     "output_type": "execute_result"
    }
   ],
   "source": [
    "from IPython.display import Markdown as md\n",
    "md('$$ P_{_{D_{_{abs}}}}=10/(0.76\\cdot %s)\\cdot %s+ %s/0.76=%.3f \\ bar $$  '%\n",
    "   ( s_hg, P_aire,H ,P_D_abs_atm ))"
   ]
  },
  {
   "cell_type": "code",
   "execution_count": 19,
   "id": "5d4dcd96",
   "metadata": {},
   "outputs": [
    {
     "data": {
      "text/html": [
       "\n",
       "<a href=\"javascript:code_toggle()\">Mostrar/ocultar celdas de código</a>."
      ],
      "text/plain": [
       "<IPython.core.display.HTML object>"
      ]
     },
     "execution_count": 19,
     "metadata": {},
     "output_type": "execute_result"
    }
   ],
   "source": [
    "from IPython.display import HTML\n",
    "HTML('''\n",
    "<a href=\"javascript:code_toggle()\">Mostrar/ocultar celdas de código</a>.''')"
   ]
  },
  {
   "cell_type": "markdown",
   "id": "1ad546a9",
   "metadata": {},
   "source": [
    "[Volver al enunciado.](#enunciado)\n"
   ]
  },
  {
   "cell_type": "code",
   "execution_count": 20,
   "id": "9501fc21",
   "metadata": {},
   "outputs": [
    {
     "data": {
      "text/html": [
       "\n",
       "<script>\n",
       "window.location=\"20M17.ipynb#enunciado\";\n",
       "</script>"
      ],
      "text/plain": [
       "<IPython.core.display.HTML object>"
      ]
     },
     "execution_count": 20,
     "metadata": {},
     "output_type": "execute_result"
    }
   ],
   "source": [
    "from IPython.display import HTML\n",
    "HTML('''\n",
    "<script>\n",
    "window.location=\"20M17.ipynb#enunciado\";\n",
    "</script>''')"
   ]
  }
 ],
 "metadata": {
  "kernelspec": {
   "display_name": "Python 3",
   "language": "python",
   "name": "python3"
  },
  "language_info": {
   "codemirror_mode": {
    "name": "ipython",
    "version": 3
   },
   "file_extension": ".py",
   "mimetype": "text/x-python",
   "name": "python",
   "nbconvert_exporter": "python",
   "pygments_lexer": "ipython3",
   "version": "3.8.8"
  },
  "widgets": {
   "application/vnd.jupyter.widget-state+json": {
    "state": {
     "001d62b012c64709a5cd96e943eb814f": {
      "model_module": "@jupyter-widgets/base",
      "model_module_version": "1.2.0",
      "model_name": "LayoutModel",
      "state": {}
     },
     "016dd722a2b04c249f0c5f252dabd113": {
      "model_module": "@jupyter-widgets/base",
      "model_module_version": "1.2.0",
      "model_name": "LayoutModel",
      "state": {}
     },
     "01cefc3719904315a063bea20cd4539b": {
      "model_module": "@jupyter-widgets/controls",
      "model_module_version": "1.5.0",
      "model_name": "TextModel",
      "state": {
       "description": "h_{_{agua}} (mca)",
       "layout": "IPY_MODEL_bfa6236495114ed6a81c508497e03060",
       "style": "IPY_MODEL_094da59c9104404b81d3fed474f87541",
       "value": "0.1"
      }
     },
     "025b08409d17457188d3e3b25fb50cbd": {
      "model_module": "@jupyter-widgets/base",
      "model_module_version": "1.2.0",
      "model_name": "LayoutModel",
      "state": {}
     },
     "02b4822899cc4b7585771c431afdf587": {
      "model_module": "@jupyter-widgets/controls",
      "model_module_version": "1.5.0",
      "model_name": "VBoxModel",
      "state": {
       "_dom_classes": [
        "widget-interact"
       ],
       "children": [
        "IPY_MODEL_2772b6559e81464e865700607b9f5ff4",
        "IPY_MODEL_add62e887cfc442299899f829b033c9c",
        "IPY_MODEL_c7a3c4acaf044dd6871ccf8006155b92",
        "IPY_MODEL_0f5086de3ce6471fa8f8f0e407517607"
       ],
       "layout": "IPY_MODEL_b26413a55662493dbe49cce77e12187e"
      }
     },
     "034a11552a3e43d4889d96e0e124abff": {
      "model_module": "@jupyter-widgets/controls",
      "model_module_version": "1.5.0",
      "model_name": "VBoxModel",
      "state": {
       "_dom_classes": [
        "widget-interact"
       ],
       "children": [
        "IPY_MODEL_1048f6208e1445be965174c30317c2f4",
        "IPY_MODEL_4933a77f82a7463f9fdb05c1495dd650",
        "IPY_MODEL_5f624efadf01499b9947a69fb6e995d7",
        "IPY_MODEL_2efa0e8b59ea463fb8f81faa234e8ebd"
       ],
       "layout": "IPY_MODEL_b0713c81ddb54cdfaa8fc1f7ea078cae"
      }
     },
     "042a5505bf07450893de2e657de6b27d": {
      "model_module": "@jupyter-widgets/base",
      "model_module_version": "1.2.0",
      "model_name": "LayoutModel",
      "state": {}
     },
     "04b55b09d5574bbba3254a2cc80e147c": {
      "model_module": "@jupyter-widgets/base",
      "model_module_version": "1.2.0",
      "model_name": "LayoutModel",
      "state": {}
     },
     "060f2f971a0a47479612ebdc0168862b": {
      "model_module": "@jupyter-widgets/controls",
      "model_module_version": "1.5.0",
      "model_name": "TextModel",
      "state": {
       "description": "$h_{_{aceite}}$ (mcAceite)",
       "layout": "IPY_MODEL_0a8c38d46c334422a57bedafab0656d4",
       "style": "IPY_MODEL_f02e0f6439c14792b750558ecf9fc2ad",
       "value": "0.1"
      }
     },
     "0863711f06104afc8ef14c70a9184726": {
      "model_module": "@jupyter-widgets/base",
      "model_module_version": "1.2.0",
      "model_name": "LayoutModel",
      "state": {}
     },
     "0917d27256c144bbbb42a7ff76910508": {
      "model_module": "@jupyter-widgets/controls",
      "model_module_version": "1.5.0",
      "model_name": "TextModel",
      "state": {
       "description": "$h_{_{glicerina}}$ (mcGlicerina)",
       "layout": "IPY_MODEL_0863711f06104afc8ef14c70a9184726",
       "style": "IPY_MODEL_294d1aec0bd74179af6c0f08eb41b9a6",
       "value": "0.2"
      }
     },
     "094da59c9104404b81d3fed474f87541": {
      "model_module": "@jupyter-widgets/controls",
      "model_module_version": "1.5.0",
      "model_name": "DescriptionStyleModel",
      "state": {
       "description_width": ""
      }
     },
     "0989f5a9bf3042e88ddc7ef52af10231": {
      "model_module": "@jupyter-widgets/controls",
      "model_module_version": "1.5.0",
      "model_name": "VBoxModel",
      "state": {
       "_dom_classes": [
        "widget-interact"
       ],
       "children": [
        "IPY_MODEL_d3226c7b1dcd4c3791c033191fb80345",
        "IPY_MODEL_510ab54188fe453cbfdf1221c0b3a641",
        "IPY_MODEL_5c75053bbfea4c6f83fd36c3ca444d33",
        "IPY_MODEL_9c628d1390e14bfa92bca4cb02b428a8"
       ],
       "layout": "IPY_MODEL_bcd1e6d418a048a19cfced86cac5044a"
      }
     },
     "09a90353efb34e8192601098de31d2c0": {
      "model_module": "@jupyter-widgets/base",
      "model_module_version": "1.2.0",
      "model_name": "LayoutModel",
      "state": {}
     },
     "0a8c38d46c334422a57bedafab0656d4": {
      "model_module": "@jupyter-widgets/base",
      "model_module_version": "1.2.0",
      "model_name": "LayoutModel",
      "state": {}
     },
     "0ab715c136204b018494e8416acbe373": {
      "model_module": "@jupyter-widgets/base",
      "model_module_version": "1.2.0",
      "model_name": "LayoutModel",
      "state": {}
     },
     "0b127a697048410fa93c623f2fc0753f": {
      "model_module": "@jupyter-widgets/controls",
      "model_module_version": "1.5.0",
      "model_name": "TextModel",
      "state": {
       "description": "h_aceite",
       "layout": "IPY_MODEL_8428ebed1f4c4de3b1a892a35ad49d0f",
       "style": "IPY_MODEL_92b4f10f78064b428620f2c1eb372dbe",
       "value": "0.1"
      }
     },
     "0b7d435f03f044759e5551eeb99153bb": {
      "model_module": "@jupyter-widgets/base",
      "model_module_version": "1.2.0",
      "model_name": "LayoutModel",
      "state": {}
     },
     "0c4370bce420438fa6d46959cf1c9037": {
      "model_module": "@jupyter-widgets/base",
      "model_module_version": "1.2.0",
      "model_name": "LayoutModel",
      "state": {}
     },
     "0c5be6ea696b4c56b80f74481ee38ef6": {
      "model_module": "@jupyter-widgets/output",
      "model_module_version": "1.0.0",
      "model_name": "OutputModel",
      "state": {
       "layout": "IPY_MODEL_eb461ed3c20b44fe981f0db291b1d757",
       "outputs": [
        {
         "name": "stdout",
         "output_type": "stream",
         "text": "Pulsa para actualizar los campos de texto\n"
        }
       ]
      }
     },
     "0c9bd48da25a46b8a0733b77446a2307": {
      "model_module": "@jupyter-widgets/controls",
      "model_module_version": "1.5.0",
      "model_name": "VBoxModel",
      "state": {
       "_dom_classes": [
        "widget-interact"
       ],
       "children": [
        "IPY_MODEL_7dad95aa79e049c595ba3e9dd4ae90b8",
        "IPY_MODEL_6c27f15cc3724c00ba51cd310be64e41",
        "IPY_MODEL_b4b8d97cd45543e8a656501c6dfaddd1",
        "IPY_MODEL_cb8d72ab98274ce18dd9efd84e792a4d"
       ],
       "layout": "IPY_MODEL_4d8644b42e1a448da4505b435e68d610"
      }
     },
     "0d059d32052f4c3595177bc11819ed1f": {
      "model_module": "@jupyter-widgets/base",
      "model_module_version": "1.2.0",
      "model_name": "LayoutModel",
      "state": {}
     },
     "0d0915f085674a28847c0618c688bdb7": {
      "model_module": "@jupyter-widgets/controls",
      "model_module_version": "1.5.0",
      "model_name": "TextModel",
      "state": {
       "description": "$h_{_{agua}}$ (mca)",
       "layout": "IPY_MODEL_0c4370bce420438fa6d46959cf1c9037",
       "style": "IPY_MODEL_8e03cee831b647119fa300da6cb090a8",
       "value": "0.1"
      }
     },
     "0d81c08a9603405393034dd1d19cf969": {
      "model_module": "@jupyter-widgets/controls",
      "model_module_version": "1.5.0",
      "model_name": "TextModel",
      "state": {
       "description": "$h_{_{agua}}$ (mca)",
       "layout": "IPY_MODEL_88347dd2cfaf464597bb6cf531080ab8",
       "style": "IPY_MODEL_dbe394503e86453f8ee784d3681fc7d3",
       "value": "0.1"
      }
     },
     "0e32f7716870431782d11a0f82514f1f": {
      "model_module": "@jupyter-widgets/output",
      "model_module_version": "1.0.0",
      "model_name": "OutputModel",
      "state": {
       "layout": "IPY_MODEL_6c65bd39cb98473c9d09cbcc779b9342",
       "outputs": [
        {
         "name": "stdout",
         "output_type": "stream",
         "text": "Pulsa para actualizar los campos de texto\n"
        }
       ]
      }
     },
     "0eacfbc1e55042acb20997ff5b1681f1": {
      "model_module": "@jupyter-widgets/controls",
      "model_module_version": "1.5.0",
      "model_name": "DescriptionStyleModel",
      "state": {
       "description_width": ""
      }
     },
     "0f5086de3ce6471fa8f8f0e407517607": {
      "model_module": "@jupyter-widgets/output",
      "model_module_version": "1.0.0",
      "model_name": "OutputModel",
      "state": {
       "layout": "IPY_MODEL_f88433a07db241fa9437ea2371646801",
       "outputs": [
        {
         "name": "stdout",
         "output_type": "stream",
         "text": "Pulsa para actualizar los campos de texto\n"
        }
       ]
      }
     },
     "102e809e0d5a4610be2f5a07ec1f2b0a": {
      "model_module": "@jupyter-widgets/controls",
      "model_module_version": "1.5.0",
      "model_name": "VBoxModel",
      "state": {
       "_dom_classes": [
        "widget-interact"
       ],
       "children": [
        "IPY_MODEL_8a4aa1bd4e4f4474a07afce4eaefb755",
        "IPY_MODEL_15ac546d50c940a3a48d76b7c60cffe9",
        "IPY_MODEL_66052b5b3ee54bf199cbb394fef8636f",
        "IPY_MODEL_0c5be6ea696b4c56b80f74481ee38ef6"
       ],
       "layout": "IPY_MODEL_3616f42cf2b94e2f8b3a1aeedbb1010f"
      }
     },
     "1048f6208e1445be965174c30317c2f4": {
      "model_module": "@jupyter-widgets/controls",
      "model_module_version": "1.5.0",
      "model_name": "TextModel",
      "state": {
       "description": "$h_{_{aceite}}$ (mcAceite)",
       "layout": "IPY_MODEL_83b0b55e08a64e07bb447954243fc8a5",
       "style": "IPY_MODEL_1286f30b74204ee68dcc1fa2db8c0891",
       "value": "0.1"
      }
     },
     "116cc0ea227b4a0b92091665c4a2be6c": {
      "model_module": "@jupyter-widgets/base",
      "model_module_version": "1.2.0",
      "model_name": "LayoutModel",
      "state": {}
     },
     "1286f30b74204ee68dcc1fa2db8c0891": {
      "model_module": "@jupyter-widgets/controls",
      "model_module_version": "1.5.0",
      "model_name": "DescriptionStyleModel",
      "state": {
       "description_width": ""
      }
     },
     "128808eaca1d4daa88c9ad6e477add66": {
      "model_module": "@jupyter-widgets/controls",
      "model_module_version": "1.5.0",
      "model_name": "TextModel",
      "state": {
       "description": "$h_{_{agua}}$ (mca)",
       "layout": "IPY_MODEL_d53846d4bc1945f8b0d2dddd43e234ab",
       "style": "IPY_MODEL_765312d178f24728b47d854b49751a5c",
       "value": "0.1"
      }
     },
     "135dc9ca63cb4427820aca59049b4334": {
      "model_module": "@jupyter-widgets/controls",
      "model_module_version": "1.5.0",
      "model_name": "DescriptionStyleModel",
      "state": {
       "description_width": ""
      }
     },
     "14e585384e7c43ca88f6ea7aba30d28b": {
      "model_module": "@jupyter-widgets/controls",
      "model_module_version": "1.5.0",
      "model_name": "DescriptionStyleModel",
      "state": {
       "description_width": ""
      }
     },
     "15155657aff2448abbfdd28b56710edd": {
      "model_module": "@jupyter-widgets/base",
      "model_module_version": "1.2.0",
      "model_name": "LayoutModel",
      "state": {}
     },
     "15238c3aa116481bbb765e46b825ac93": {
      "model_module": "@jupyter-widgets/controls",
      "model_module_version": "1.5.0",
      "model_name": "TextModel",
      "state": {
       "description": "$h_{_{aceite}}$ (mcAceite)",
       "layout": "IPY_MODEL_db75d196cd5a4c9a8ece8a03749f80b4",
       "style": "IPY_MODEL_365ce2ee3c29411fa97116e3e1ba97ef",
       "value": "0.1"
      }
     },
     "15ac546d50c940a3a48d76b7c60cffe9": {
      "model_module": "@jupyter-widgets/controls",
      "model_module_version": "1.5.0",
      "model_name": "TextModel",
      "state": {
       "description": "$h_{_{agua}}$ (mca)",
       "layout": "IPY_MODEL_04b55b09d5574bbba3254a2cc80e147c",
       "style": "IPY_MODEL_d3b54001ea06411683f0c57140c91b52",
       "value": "0.1"
      }
     },
     "17e56fc0ef204c4ca8c0f5604af880e6": {
      "model_module": "@jupyter-widgets/base",
      "model_module_version": "1.2.0",
      "model_name": "LayoutModel",
      "state": {}
     },
     "19e9ecef17d1496280843653ee1c94ec": {
      "model_module": "@jupyter-widgets/base",
      "model_module_version": "1.2.0",
      "model_name": "LayoutModel",
      "state": {}
     },
     "1ab10e6446614398a7a6e0c32a821dc6": {
      "model_module": "@jupyter-widgets/controls",
      "model_module_version": "1.5.0",
      "model_name": "TextModel",
      "state": {
       "description": "$h_{_{aceite}}$ (mcAceite)",
       "layout": "IPY_MODEL_cd7a118609b345a8b886f1457442c4fe",
       "style": "IPY_MODEL_c77b86db9314476b83d58de35326b5cd",
       "value": "0.1"
      }
     },
     "1b4986c531644663a70db86dcd6a2d56": {
      "model_module": "@jupyter-widgets/controls",
      "model_module_version": "1.5.0",
      "model_name": "DescriptionStyleModel",
      "state": {
       "description_width": ""
      }
     },
     "1c65d49daa9c419bab7d2b7d3edcab57": {
      "model_module": "@jupyter-widgets/controls",
      "model_module_version": "1.5.0",
      "model_name": "VBoxModel",
      "state": {
       "_dom_classes": [
        "widget-interact"
       ],
       "children": [
        "IPY_MODEL_5f17a7a01a554fb5a59417fa5fdad782",
        "IPY_MODEL_d1d85a084139489898f70f9c8e8129cb",
        "IPY_MODEL_e3b7f89def75431e9ad06ab542f5c218",
        "IPY_MODEL_2e20754dc9124961a46fa538cda1e81e"
       ],
       "layout": "IPY_MODEL_2c36afa93bbf42af9b7af28e5862f0ed"
      }
     },
     "1d60f388d8894e738a2002f586588d77": {
      "model_module": "@jupyter-widgets/controls",
      "model_module_version": "1.5.0",
      "model_name": "TextModel",
      "state": {
       "description": "$h_{_{glicerina}}$ (mcGlicerina)",
       "layout": "IPY_MODEL_293cff0bb0eb41b4a038df0224734e06",
       "style": "IPY_MODEL_6538061e5c6d4b47854614d6295de9c0",
       "value": "0.2"
      }
     },
     "1dbb0e4c247f42778d0b84e8b11100c9": {
      "model_module": "@jupyter-widgets/controls",
      "model_module_version": "1.5.0",
      "model_name": "VBoxModel",
      "state": {
       "_dom_classes": [
        "widget-interact"
       ],
       "children": [
        "IPY_MODEL_ff10a9c04d4a49b39e2691f6d2c43736",
        "IPY_MODEL_b7db4eae9840425c9eb47b4ecac4a3a7",
        "IPY_MODEL_f4945792573649e98d2f8ab341e4dee3",
        "IPY_MODEL_e1f451093ec64c0d9416fb11c93342ba"
       ],
       "layout": "IPY_MODEL_33d42c44758c40e8b16bc6ac2a56a9b7"
      }
     },
     "1dff589d2dce4804ba09acf807ef9cf5": {
      "model_module": "@jupyter-widgets/base",
      "model_module_version": "1.2.0",
      "model_name": "LayoutModel",
      "state": {}
     },
     "1e542b40d68f4933acc1b782c408e792": {
      "model_module": "@jupyter-widgets/controls",
      "model_module_version": "1.5.0",
      "model_name": "VBoxModel",
      "state": {
       "_dom_classes": [
        "widget-interact"
       ],
       "children": [
        "IPY_MODEL_ec5b4a74f07e4623a6948474d445e8fe",
        "IPY_MODEL_f54dc48d561f4ab7a74751c325235161"
       ],
       "layout": "IPY_MODEL_9b0849be46ed47468a2ddd64663dccee"
      }
     },
     "1e6e42de7efe488a8e7fdb8e80f5ea33": {
      "model_module": "@jupyter-widgets/base",
      "model_module_version": "1.2.0",
      "model_name": "LayoutModel",
      "state": {}
     },
     "1f0d085b23184561bfef552f8c246b4c": {
      "model_module": "@jupyter-widgets/base",
      "model_module_version": "1.2.0",
      "model_name": "LayoutModel",
      "state": {}
     },
     "1f475fed8c1441f59d879be816a13f82": {
      "model_module": "@jupyter-widgets/controls",
      "model_module_version": "1.5.0",
      "model_name": "DescriptionStyleModel",
      "state": {
       "description_width": ""
      }
     },
     "1fcefc6382564cc2b95865e11a79a31e": {
      "model_module": "@jupyter-widgets/controls",
      "model_module_version": "1.5.0",
      "model_name": "TextModel",
      "state": {
       "description": "$h_{_{glicerina}}$ (mcGlicerina)",
       "layout": "IPY_MODEL_ea53bb9754c242689f9e475925f67534",
       "style": "IPY_MODEL_d5666f1f63ef4794b0afa28c605ce698",
       "value": "0.2"
      }
     },
     "1ffedc40453b44ff90b4eed06c4da5c6": {
      "model_module": "@jupyter-widgets/controls",
      "model_module_version": "1.5.0",
      "model_name": "DescriptionStyleModel",
      "state": {
       "description_width": ""
      }
     },
     "20cddbb5c0ad4d1abb902dab3ea24080": {
      "model_module": "@jupyter-widgets/base",
      "model_module_version": "1.2.0",
      "model_name": "LayoutModel",
      "state": {}
     },
     "229034aad6c84365942e3b695196d349": {
      "model_module": "@jupyter-widgets/base",
      "model_module_version": "1.2.0",
      "model_name": "LayoutModel",
      "state": {}
     },
     "22f3ef5b1ea14d41a2709fd5c11e6e17": {
      "model_module": "@jupyter-widgets/base",
      "model_module_version": "1.2.0",
      "model_name": "LayoutModel",
      "state": {}
     },
     "24b1cf1b842f48c280d30a00c3c1723d": {
      "model_module": "@jupyter-widgets/controls",
      "model_module_version": "1.5.0",
      "model_name": "DescriptionStyleModel",
      "state": {
       "description_width": ""
      }
     },
     "24ceee50db8d4bf78be01f288a82f042": {
      "model_module": "@jupyter-widgets/base",
      "model_module_version": "1.2.0",
      "model_name": "LayoutModel",
      "state": {}
     },
     "250222ab4cdc4867bbef9f337d090244": {
      "model_module": "@jupyter-widgets/controls",
      "model_module_version": "1.5.0",
      "model_name": "DescriptionStyleModel",
      "state": {
       "description_width": ""
      }
     },
     "25370bf6b1f549018605f11de42fbb2b": {
      "model_module": "@jupyter-widgets/base",
      "model_module_version": "1.2.0",
      "model_name": "LayoutModel",
      "state": {}
     },
     "25c2941ae48f43afa97d4bfe3de894c8": {
      "model_module": "@jupyter-widgets/base",
      "model_module_version": "1.2.0",
      "model_name": "LayoutModel",
      "state": {}
     },
     "25fd528a229d44e5ac3e391677c53c7e": {
      "model_module": "@jupyter-widgets/controls",
      "model_module_version": "1.5.0",
      "model_name": "VBoxModel",
      "state": {
       "_dom_classes": [
        "widget-interact"
       ],
       "children": [
        "IPY_MODEL_d5af10bfef2a43709ef1829245ba0e9f",
        "IPY_MODEL_128808eaca1d4daa88c9ad6e477add66",
        "IPY_MODEL_7dbdd25ca0014caebfeb59a8336c55b7",
        "IPY_MODEL_b58b6dd3a4c74693bd44d7069d4d28dd"
       ],
       "layout": "IPY_MODEL_86613c431212413eac379330aff4309d"
      }
     },
     "25fec0af9ea44befa8062a252279b076": {
      "model_module": "@jupyter-widgets/base",
      "model_module_version": "1.2.0",
      "model_name": "LayoutModel",
      "state": {}
     },
     "262010428adb45659d210dc28a353eed": {
      "model_module": "@jupyter-widgets/controls",
      "model_module_version": "1.5.0",
      "model_name": "DescriptionStyleModel",
      "state": {
       "description_width": ""
      }
     },
     "2772b6559e81464e865700607b9f5ff4": {
      "model_module": "@jupyter-widgets/controls",
      "model_module_version": "1.5.0",
      "model_name": "TextModel",
      "state": {
       "description": "$h_{_{aceite}}$ (mcAceite)",
       "layout": "IPY_MODEL_a83379f1101b48108c41174ca5408b90",
       "style": "IPY_MODEL_b98bcfc0b665498da1b91c514621cd0e",
       "value": "0.1"
      }
     },
     "293cff0bb0eb41b4a038df0224734e06": {
      "model_module": "@jupyter-widgets/base",
      "model_module_version": "1.2.0",
      "model_name": "LayoutModel",
      "state": {}
     },
     "294d1aec0bd74179af6c0f08eb41b9a6": {
      "model_module": "@jupyter-widgets/controls",
      "model_module_version": "1.5.0",
      "model_name": "DescriptionStyleModel",
      "state": {
       "description_width": ""
      }
     },
     "29a1b98205b9412f9bb70b162d171ecb": {
      "model_module": "@jupyter-widgets/controls",
      "model_module_version": "1.5.0",
      "model_name": "DescriptionStyleModel",
      "state": {
       "description_width": ""
      }
     },
     "2a0fd5ce2b7f4259b01a79d931cafa95": {
      "model_module": "@jupyter-widgets/controls",
      "model_module_version": "1.5.0",
      "model_name": "VBoxModel",
      "state": {
       "_dom_classes": [
        "widget-interact"
       ],
       "children": [
        "IPY_MODEL_e5c6fb7b9f7a43a59874db36180e54d3",
        "IPY_MODEL_d017562672a94616b8cbf27a15407d24",
        "IPY_MODEL_1fcefc6382564cc2b95865e11a79a31e",
        "IPY_MODEL_3616828913c247239372ae6b13311e81"
       ],
       "layout": "IPY_MODEL_24ceee50db8d4bf78be01f288a82f042"
      }
     },
     "2c36afa93bbf42af9b7af28e5862f0ed": {
      "model_module": "@jupyter-widgets/base",
      "model_module_version": "1.2.0",
      "model_name": "LayoutModel",
      "state": {}
     },
     "2ca5c8a40ce543e3b491537f5b5dec7f": {
      "model_module": "@jupyter-widgets/controls",
      "model_module_version": "1.5.0",
      "model_name": "VBoxModel",
      "state": {
       "_dom_classes": [
        "widget-interact"
       ],
       "children": [
        "IPY_MODEL_79cdfd6648314b8f91d784ca15753904",
        "IPY_MODEL_b981b80636f64ebdb52031c02d56bb2b",
        "IPY_MODEL_a20cc7e5e58c4a169e19165d44cec918",
        "IPY_MODEL_472204de852c4f4587427e1b01a80e84"
       ],
       "layout": "IPY_MODEL_6ea7ceb4eb54451e9d2478dceecbbc51"
      }
     },
     "2cd7305b31944ddfb9a5100087c80618": {
      "model_module": "@jupyter-widgets/controls",
      "model_module_version": "1.5.0",
      "model_name": "TextModel",
      "state": {
       "description": "$_{_{glicerina}} (mcGlicerina)",
       "layout": "IPY_MODEL_71348173a0854028add505f573f7a390",
       "style": "IPY_MODEL_8ace17f9abd94b5184718b4497c9da23",
       "value": "0.2"
      }
     },
     "2e20754dc9124961a46fa538cda1e81e": {
      "model_module": "@jupyter-widgets/output",
      "model_module_version": "1.0.0",
      "model_name": "OutputModel",
      "state": {
       "layout": "IPY_MODEL_b2c698c197524c1f92dfd242ef405758",
       "outputs": [
        {
         "name": "stdout",
         "output_type": "stream",
         "text": "Pulsa para actualizar los campos de texto\n"
        }
       ]
      }
     },
     "2ed40156969b4cceaa24374bcb1bb8bb": {
      "model_module": "@jupyter-widgets/controls",
      "model_module_version": "1.5.0",
      "model_name": "VBoxModel",
      "state": {
       "_dom_classes": [
        "widget-interact"
       ],
       "children": [
        "IPY_MODEL_30cb5bcab48a4292bb9d6071f76c0ecd",
        "IPY_MODEL_4db4118888f846609cc65b29f04c4c3e",
        "IPY_MODEL_1d60f388d8894e738a2002f586588d77",
        "IPY_MODEL_b57f8cd50da543a1946f769313c9a318"
       ],
       "layout": "IPY_MODEL_8785d3e75111481189bb4de02c1d9d53"
      }
     },
     "2efa0e8b59ea463fb8f81faa234e8ebd": {
      "model_module": "@jupyter-widgets/output",
      "model_module_version": "1.0.0",
      "model_name": "OutputModel",
      "state": {
       "layout": "IPY_MODEL_8e8328b5d44e43e29f680f4bae55c77c",
       "outputs": [
        {
         "name": "stdout",
         "output_type": "stream",
         "text": "Pulsa para actualizar los campos de texto\n"
        }
       ]
      }
     },
     "3044f243b9cd493e82440ec76e4ab80e": {
      "model_module": "@jupyter-widgets/controls",
      "model_module_version": "1.5.0",
      "model_name": "DescriptionStyleModel",
      "state": {
       "description_width": ""
      }
     },
     "30cb5bcab48a4292bb9d6071f76c0ecd": {
      "model_module": "@jupyter-widgets/controls",
      "model_module_version": "1.5.0",
      "model_name": "TextModel",
      "state": {
       "description": "$h_{_{aceite}}$ (mcAceite)",
       "layout": "IPY_MODEL_4ddd11e943964cc7ad9cf16f79c8d05a",
       "style": "IPY_MODEL_55bb8c1fff634a409451651c64a53755",
       "value": "0.1"
      }
     },
     "31a4d4d2fba7467eacbc7a96d23c5e1f": {
      "model_module": "@jupyter-widgets/base",
      "model_module_version": "1.2.0",
      "model_name": "LayoutModel",
      "state": {}
     },
     "3295ecb7cd7546f294578b6d4a5e2fa7": {
      "model_module": "@jupyter-widgets/controls",
      "model_module_version": "1.5.0",
      "model_name": "TextModel",
      "state": {
       "description": "h_agua",
       "layout": "IPY_MODEL_31a4d4d2fba7467eacbc7a96d23c5e1f",
       "style": "IPY_MODEL_95d6a037b94445f192b2ffc56e01dc54",
       "value": "0.1"
      }
     },
     "33d42c44758c40e8b16bc6ac2a56a9b7": {
      "model_module": "@jupyter-widgets/base",
      "model_module_version": "1.2.0",
      "model_name": "LayoutModel",
      "state": {}
     },
     "342feadee769441ba011b3511c6cb9e0": {
      "model_module": "@jupyter-widgets/controls",
      "model_module_version": "1.5.0",
      "model_name": "TextModel",
      "state": {
       "description": "$h_{_{glicerina}}$ (mcGlicerina)",
       "layout": "IPY_MODEL_0d059d32052f4c3595177bc11819ed1f",
       "style": "IPY_MODEL_a78b6e7dde694827972c68eab264ab49",
       "value": "0.2"
      }
     },
     "344c1ff6105045bb927abba658dddc3a": {
      "model_module": "@jupyter-widgets/controls",
      "model_module_version": "1.5.0",
      "model_name": "DescriptionStyleModel",
      "state": {
       "description_width": ""
      }
     },
     "3616828913c247239372ae6b13311e81": {
      "model_module": "@jupyter-widgets/output",
      "model_module_version": "1.0.0",
      "model_name": "OutputModel",
      "state": {
       "layout": "IPY_MODEL_c764cd1d24b0420d85565b8b7f34066f",
       "outputs": [
        {
         "name": "stdout",
         "output_type": "stream",
         "text": "Pulsa para actualizar los campos de texto\n"
        }
       ]
      }
     },
     "3616f42cf2b94e2f8b3a1aeedbb1010f": {
      "model_module": "@jupyter-widgets/base",
      "model_module_version": "1.2.0",
      "model_name": "LayoutModel",
      "state": {}
     },
     "365ce2ee3c29411fa97116e3e1ba97ef": {
      "model_module": "@jupyter-widgets/controls",
      "model_module_version": "1.5.0",
      "model_name": "DescriptionStyleModel",
      "state": {
       "description_width": ""
      }
     },
     "36e8d57b22154707a107423e651a2bb3": {
      "model_module": "@jupyter-widgets/base",
      "model_module_version": "1.2.0",
      "model_name": "LayoutModel",
      "state": {}
     },
     "37b7c2f5ea66469c87b7ea0507cfb758": {
      "model_module": "@jupyter-widgets/base",
      "model_module_version": "1.2.0",
      "model_name": "LayoutModel",
      "state": {}
     },
     "37c21a1be6474e2889b52b5eb4626271": {
      "model_module": "@jupyter-widgets/base",
      "model_module_version": "1.2.0",
      "model_name": "LayoutModel",
      "state": {}
     },
     "3a21e7c6334645fd891a9af7dd2e0f65": {
      "model_module": "@jupyter-widgets/base",
      "model_module_version": "1.2.0",
      "model_name": "LayoutModel",
      "state": {}
     },
     "3acec1ec20e24afeb5b6c2d6ab77399e": {
      "model_module": "@jupyter-widgets/base",
      "model_module_version": "1.2.0",
      "model_name": "LayoutModel",
      "state": {}
     },
     "3b40c86a1a6c432892cdfc6cbe7071b7": {
      "model_module": "@jupyter-widgets/controls",
      "model_module_version": "1.5.0",
      "model_name": "TextModel",
      "state": {
       "description": "$h_{_{agua}}$ (mca)",
       "layout": "IPY_MODEL_72ff09f82242463eb97c27ec0dab1f08",
       "style": "IPY_MODEL_3044f243b9cd493e82440ec76e4ab80e",
       "value": "0.1"
      }
     },
     "3b6bc281b3b84f2c98b7a356350c1e49": {
      "model_module": "@jupyter-widgets/controls",
      "model_module_version": "1.5.0",
      "model_name": "DescriptionStyleModel",
      "state": {
       "description_width": ""
      }
     },
     "3c18cf2f0ccc4a3695d657b459a71bf9": {
      "model_module": "@jupyter-widgets/controls",
      "model_module_version": "1.5.0",
      "model_name": "VBoxModel",
      "state": {
       "_dom_classes": [
        "widget-interact"
       ],
       "children": [
        "IPY_MODEL_67c22802c04a403bbbd13d10e4ebb82b",
        "IPY_MODEL_ceab8b554c964ec2a069fb33fe3ab1c4",
        "IPY_MODEL_d8040035b94842d4a64b3a7fc66b56df",
        "IPY_MODEL_465491dfdc464649a6d567d53ede3ae6"
       ],
       "layout": "IPY_MODEL_fd3050690018417ab94a4f63cf57d561"
      }
     },
     "3d089c7290dd48739828006bcfdf926d": {
      "model_module": "@jupyter-widgets/controls",
      "model_module_version": "1.5.0",
      "model_name": "DescriptionStyleModel",
      "state": {
       "description_width": ""
      }
     },
     "3e7d1a8f47cb44ff9cf9e66b969d24a6": {
      "model_module": "@jupyter-widgets/controls",
      "model_module_version": "1.5.0",
      "model_name": "TextModel",
      "state": {
       "description": "$h_{_{aceite}}$ (mcAceite)",
       "layout": "IPY_MODEL_09a90353efb34e8192601098de31d2c0",
       "style": "IPY_MODEL_135dc9ca63cb4427820aca59049b4334",
       "value": "0.1"
      }
     },
     "3eb8dff30acf42e18b5ec2e64712176a": {
      "model_module": "@jupyter-widgets/controls",
      "model_module_version": "1.5.0",
      "model_name": "TextModel",
      "state": {
       "description": "$h_{_{glicerina}}$ (mcGlicerina)",
       "layout": "IPY_MODEL_36e8d57b22154707a107423e651a2bb3",
       "style": "IPY_MODEL_f6638108d4c946f5856f7764e98476e3",
       "value": "0.2"
      }
     },
     "407b1c2eb8254d4e98985e3d5d15b9a7": {
      "model_module": "@jupyter-widgets/controls",
      "model_module_version": "1.5.0",
      "model_name": "TextModel",
      "state": {
       "description": "$h_{_{aceite}}$ (mcAceite)",
       "layout": "IPY_MODEL_1dff589d2dce4804ba09acf807ef9cf5",
       "style": "IPY_MODEL_546b8bef1e554dd7ba74ea0018513d80",
       "value": "0.1"
      }
     },
     "410c55dc190a4cad9a29e30d6d9b7db0": {
      "model_module": "@jupyter-widgets/controls",
      "model_module_version": "1.5.0",
      "model_name": "DescriptionStyleModel",
      "state": {
       "description_width": ""
      }
     },
     "4154db80a75c4c3e8ab636072c15b2d9": {
      "model_module": "@jupyter-widgets/base",
      "model_module_version": "1.2.0",
      "model_name": "LayoutModel",
      "state": {}
     },
     "42565e48d524420f88326599856ed2ba": {
      "model_module": "@jupyter-widgets/controls",
      "model_module_version": "1.5.0",
      "model_name": "TextModel",
      "state": {
       "description": "$h_{_{glicerina}}$ (mcGlicerina)",
       "layout": "IPY_MODEL_bf03fac4177f4909be482823530f65e4",
       "style": "IPY_MODEL_1ffedc40453b44ff90b4eed06c4da5c6",
       "value": "0.1"
      }
     },
     "42b4dbd7ef5749bfa2f7cf7d420034a1": {
      "model_module": "@jupyter-widgets/base",
      "model_module_version": "1.2.0",
      "model_name": "LayoutModel",
      "state": {}
     },
     "43c0a10df2fb48fc80f748e51e9b50ab": {
      "model_module": "@jupyter-widgets/base",
      "model_module_version": "1.2.0",
      "model_name": "LayoutModel",
      "state": {}
     },
     "4400a0113cc14664acc2661de2bf9949": {
      "model_module": "@jupyter-widgets/base",
      "model_module_version": "1.2.0",
      "model_name": "LayoutModel",
      "state": {}
     },
     "44f8653c460e4cfa8aee7990e2b0843a": {
      "model_module": "@jupyter-widgets/controls",
      "model_module_version": "1.5.0",
      "model_name": "DescriptionStyleModel",
      "state": {
       "description_width": ""
      }
     },
     "44f8a09085c44e42abfc788c10b3a8c2": {
      "model_module": "@jupyter-widgets/base",
      "model_module_version": "1.2.0",
      "model_name": "LayoutModel",
      "state": {}
     },
     "459ce0d81abe4447bc2df29dacddd7f9": {
      "model_module": "@jupyter-widgets/controls",
      "model_module_version": "1.5.0",
      "model_name": "DescriptionStyleModel",
      "state": {
       "description_width": ""
      }
     },
     "460f5524ad434ec1b2c600e6d343cfd9": {
      "model_module": "@jupyter-widgets/controls",
      "model_module_version": "1.5.0",
      "model_name": "TextModel",
      "state": {
       "description": "$h_{_{glicerina}}$ (mcGlicerina)",
       "layout": "IPY_MODEL_7fd443be5a4342ab8b2ade487bb4278f",
       "style": "IPY_MODEL_9867040adaaa4d2ea7cf24d09905a12c",
       "value": "0.2"
      }
     },
     "465491dfdc464649a6d567d53ede3ae6": {
      "model_module": "@jupyter-widgets/output",
      "model_module_version": "1.0.0",
      "model_name": "OutputModel",
      "state": {
       "layout": "IPY_MODEL_6b93da89c1e74c6b9250386062ddca80",
       "outputs": [
        {
         "name": "stdout",
         "output_type": "stream",
         "text": "Pulsa para actualizar los campos de texto\n"
        }
       ]
      }
     },
     "472204de852c4f4587427e1b01a80e84": {
      "model_module": "@jupyter-widgets/output",
      "model_module_version": "1.0.0",
      "model_name": "OutputModel",
      "state": {
       "layout": "IPY_MODEL_7ce32e2412d74cc297b7c5329ed9d79c",
       "outputs": [
        {
         "name": "stdout",
         "output_type": "stream",
         "text": "Pulsa para actualizar los campos de texto\n"
        }
       ]
      }
     },
     "488122d8763142c982d157b8c3f4466a": {
      "model_module": "@jupyter-widgets/controls",
      "model_module_version": "1.5.0",
      "model_name": "DescriptionStyleModel",
      "state": {
       "description_width": ""
      }
     },
     "4893d9090a4c45daacbc2eacd784a7e5": {
      "model_module": "@jupyter-widgets/base",
      "model_module_version": "1.2.0",
      "model_name": "LayoutModel",
      "state": {}
     },
     "48f1807f9ed74f7495cef53c967d7bb0": {
      "model_module": "@jupyter-widgets/base",
      "model_module_version": "1.2.0",
      "model_name": "LayoutModel",
      "state": {}
     },
     "4933a77f82a7463f9fdb05c1495dd650": {
      "model_module": "@jupyter-widgets/controls",
      "model_module_version": "1.5.0",
      "model_name": "TextModel",
      "state": {
       "description": "$h_{_{agua}}$ (mca)",
       "layout": "IPY_MODEL_a3296611d6f4460bbf86dfd08a615169",
       "style": "IPY_MODEL_fb8ea6f08bed4d63b49b1078fe41381f",
       "value": "0.1"
      }
     },
     "4c1a3242ca23447ca012df19f546ffe6": {
      "model_module": "@jupyter-widgets/output",
      "model_module_version": "1.0.0",
      "model_name": "OutputModel",
      "state": {
       "layout": "IPY_MODEL_bb73dfc282cf4df49bad07bb5e72d577",
       "outputs": [
        {
         "name": "stdout",
         "output_type": "stream",
         "text": "Pulsa para actualizar los campos de texto\n"
        }
       ]
      }
     },
     "4c357f76811c4132b59337ca786f1611": {
      "model_module": "@jupyter-widgets/base",
      "model_module_version": "1.2.0",
      "model_name": "LayoutModel",
      "state": {}
     },
     "4d8644b42e1a448da4505b435e68d610": {
      "model_module": "@jupyter-widgets/base",
      "model_module_version": "1.2.0",
      "model_name": "LayoutModel",
      "state": {}
     },
     "4db4118888f846609cc65b29f04c4c3e": {
      "model_module": "@jupyter-widgets/controls",
      "model_module_version": "1.5.0",
      "model_name": "TextModel",
      "state": {
       "description": "$h_{_{agua}}$ (mca)",
       "layout": "IPY_MODEL_d04aee2904db4587bc4bb33dd85b0d7c",
       "style": "IPY_MODEL_44f8653c460e4cfa8aee7990e2b0843a",
       "value": "0.1"
      }
     },
     "4db44c018dae494e9bdd4c612cb93875": {
      "model_module": "@jupyter-widgets/controls",
      "model_module_version": "1.5.0",
      "model_name": "DescriptionStyleModel",
      "state": {
       "description_width": ""
      }
     },
     "4ddd11e943964cc7ad9cf16f79c8d05a": {
      "model_module": "@jupyter-widgets/base",
      "model_module_version": "1.2.0",
      "model_name": "LayoutModel",
      "state": {}
     },
     "4faeb3497c54437ba60df2e84362bd0d": {
      "model_module": "@jupyter-widgets/controls",
      "model_module_version": "1.5.0",
      "model_name": "DescriptionStyleModel",
      "state": {
       "description_width": ""
      }
     },
     "5058a993efc64db0b8f7e11e9bdac585": {
      "model_module": "@jupyter-widgets/controls",
      "model_module_version": "1.5.0",
      "model_name": "VBoxModel",
      "state": {
       "_dom_classes": [
        "widget-interact"
       ],
       "children": [
        "IPY_MODEL_81bc128f75a3431b94ef9b844709f7e3",
        "IPY_MODEL_b3f28ee94c7f4bf1a1f3b3984c0a5404",
        "IPY_MODEL_460f5524ad434ec1b2c600e6d343cfd9",
        "IPY_MODEL_d5b535e4af314bbaab86d5389fd7d023"
       ],
       "layout": "IPY_MODEL_25370bf6b1f549018605f11de42fbb2b"
      }
     },
     "510ab54188fe453cbfdf1221c0b3a641": {
      "model_module": "@jupyter-widgets/controls",
      "model_module_version": "1.5.0",
      "model_name": "TextModel",
      "state": {
       "description": "$h_{_{agua}}$ (mca)",
       "layout": "IPY_MODEL_c6b290301b814502b430ea514099b287",
       "style": "IPY_MODEL_262010428adb45659d210dc28a353eed",
       "value": "0.1"
      }
     },
     "5167af0f75f941b28a74ca8668a770de": {
      "model_module": "@jupyter-widgets/controls",
      "model_module_version": "1.5.0",
      "model_name": "TextModel",
      "state": {
       "description": "$h_{_{aceite}}$ (mcAceite)",
       "layout": "IPY_MODEL_25fec0af9ea44befa8062a252279b076",
       "style": "IPY_MODEL_f3364fb6455e4f64a1ad6987514b80ae",
       "value": "0.1"
      }
     },
     "518f216d947c4e41b0955d150a2a9e45": {
      "model_module": "@jupyter-widgets/output",
      "model_module_version": "1.0.0",
      "model_name": "OutputModel",
      "state": {
       "layout": "IPY_MODEL_70d8726eb1c14296833353cf08470848",
       "outputs": [
        {
         "name": "stdout",
         "output_type": "stream",
         "text": "Pulsa para actualizar los campos de texto\n"
        }
       ]
      }
     },
     "52c2434a09a9445bb32846b39c80f5af": {
      "model_module": "@jupyter-widgets/base",
      "model_module_version": "1.2.0",
      "model_name": "LayoutModel",
      "state": {}
     },
     "5325acd0e1f9467b99bca9348fbb52ed": {
      "model_module": "@jupyter-widgets/base",
      "model_module_version": "1.2.0",
      "model_name": "LayoutModel",
      "state": {}
     },
     "540debdee55147dd859fa799ce618f82": {
      "model_module": "@jupyter-widgets/controls",
      "model_module_version": "1.5.0",
      "model_name": "TextModel",
      "state": {
       "description": "$h_{_{agua}}$ (mca)",
       "layout": "IPY_MODEL_84cc45382108409287b64b4eac953472",
       "style": "IPY_MODEL_e3090b71de3a4eddb8f58e7fad9e70de",
       "value": "0.1"
      }
     },
     "546b8bef1e554dd7ba74ea0018513d80": {
      "model_module": "@jupyter-widgets/controls",
      "model_module_version": "1.5.0",
      "model_name": "DescriptionStyleModel",
      "state": {
       "description_width": ""
      }
     },
     "556d5d59d0ff4bee92ffbdbdcd92a060": {
      "model_module": "@jupyter-widgets/output",
      "model_module_version": "1.0.0",
      "model_name": "OutputModel",
      "state": {
       "layout": "IPY_MODEL_fefbbcfb5f6147e3bb5e2c90fe8d2b8f",
       "outputs": [
        {
         "name": "stdout",
         "output_type": "stream",
         "text": "Pulsa para actualizar los campos de texto\n"
        }
       ]
      }
     },
     "55bb8c1fff634a409451651c64a53755": {
      "model_module": "@jupyter-widgets/controls",
      "model_module_version": "1.5.0",
      "model_name": "DescriptionStyleModel",
      "state": {
       "description_width": ""
      }
     },
     "56ff706d519146169e6ae3c966141236": {
      "model_module": "@jupyter-widgets/output",
      "model_module_version": "1.0.0",
      "model_name": "OutputModel",
      "state": {
       "layout": "IPY_MODEL_a0071942529d432db32e8ed74cab6517",
       "outputs": [
        {
         "name": "stdout",
         "output_type": "stream",
         "text": "Pulsa para actualizar los campos de texto\n"
        }
       ]
      }
     },
     "57efdb28c0d740578a0adb8b57b19006": {
      "model_module": "@jupyter-widgets/controls",
      "model_module_version": "1.5.0",
      "model_name": "DescriptionStyleModel",
      "state": {
       "description_width": ""
      }
     },
     "5876fcb0a0ed4662bc39c7b9f6312ca1": {
      "model_module": "@jupyter-widgets/controls",
      "model_module_version": "1.5.0",
      "model_name": "DescriptionStyleModel",
      "state": {
       "description_width": ""
      }
     },
     "5c75053bbfea4c6f83fd36c3ca444d33": {
      "model_module": "@jupyter-widgets/controls",
      "model_module_version": "1.5.0",
      "model_name": "TextModel",
      "state": {
       "description": "$h_{_{glicerina}}$ (mcGlicerina)",
       "layout": "IPY_MODEL_66ffc9dda9e849d39e9bb222fa84074d",
       "style": "IPY_MODEL_c8650a7b29924b01aa227ee469b42564",
       "value": "0.2"
      }
     },
     "5cc216f214d8431db5364026849dce35": {
      "model_module": "@jupyter-widgets/controls",
      "model_module_version": "1.5.0",
      "model_name": "DescriptionStyleModel",
      "state": {
       "description_width": ""
      }
     },
     "5e723e57e6744017af349130a43a3b22": {
      "model_module": "@jupyter-widgets/controls",
      "model_module_version": "1.5.0",
      "model_name": "DescriptionStyleModel",
      "state": {
       "description_width": ""
      }
     },
     "5f17a7a01a554fb5a59417fa5fdad782": {
      "model_module": "@jupyter-widgets/controls",
      "model_module_version": "1.5.0",
      "model_name": "TextModel",
      "state": {
       "description": "$h_{_{aceite}}$ (mcAceite)",
       "layout": "IPY_MODEL_e9fbb11b070a4cf4a4cd740066cba6c2",
       "style": "IPY_MODEL_24b1cf1b842f48c280d30a00c3c1723d",
       "value": "0.1"
      }
     },
     "5f624efadf01499b9947a69fb6e995d7": {
      "model_module": "@jupyter-widgets/controls",
      "model_module_version": "1.5.0",
      "model_name": "TextModel",
      "state": {
       "description": "$h_{_{glicerina}}$ (mcGlicerina)",
       "layout": "IPY_MODEL_016dd722a2b04c249f0c5f252dabd113",
       "style": "IPY_MODEL_bafdc9f23c17481caca40193da6eb709",
       "value": "0.2"
      }
     },
     "5f890a6e0c194f1290cfc81135b51906": {
      "model_module": "@jupyter-widgets/base",
      "model_module_version": "1.2.0",
      "model_name": "LayoutModel",
      "state": {}
     },
     "60307f87465c4f1f865a2060fdbfe037": {
      "model_module": "@jupyter-widgets/controls",
      "model_module_version": "1.5.0",
      "model_name": "TextModel",
      "state": {
       "description": "$h_{_{agua}}$ (mca)",
       "layout": "IPY_MODEL_c520dcd81d1f431897bce48e3d4fd43b",
       "style": "IPY_MODEL_ac3a69ce8d7d4b8e9314edf864ef586b",
       "value": "0.1"
      }
     },
     "61e66f475fde46449d496610f70e5410": {
      "model_module": "@jupyter-widgets/output",
      "model_module_version": "1.0.0",
      "model_name": "OutputModel",
      "state": {
       "layout": "IPY_MODEL_83a45e7752ec49b3bc2f07c2f71072c4",
       "outputs": [
        {
         "name": "stdout",
         "output_type": "stream",
         "text": "Pulsa para actualizar los campos de texto\n"
        }
       ]
      }
     },
     "62056bd27e9f4707b8556c894302328f": {
      "model_module": "@jupyter-widgets/controls",
      "model_module_version": "1.5.0",
      "model_name": "TextModel",
      "state": {
       "description": "$h_{_{glicerina}}$ (mcGlicerina)",
       "layout": "IPY_MODEL_96739cf14e12432fbe3bdb11dfe66ef9",
       "style": "IPY_MODEL_0eacfbc1e55042acb20997ff5b1681f1",
       "value": "0.2"
      }
     },
     "6538061e5c6d4b47854614d6295de9c0": {
      "model_module": "@jupyter-widgets/controls",
      "model_module_version": "1.5.0",
      "model_name": "DescriptionStyleModel",
      "state": {
       "description_width": ""
      }
     },
     "65fb440c005a4cbeb8884f71c1c9c548": {
      "model_module": "@jupyter-widgets/base",
      "model_module_version": "1.2.0",
      "model_name": "LayoutModel",
      "state": {}
     },
     "66052b5b3ee54bf199cbb394fef8636f": {
      "model_module": "@jupyter-widgets/controls",
      "model_module_version": "1.5.0",
      "model_name": "TextModel",
      "state": {
       "description": "$h_{_{glicerina}}$ (mcGlicerina)",
       "layout": "IPY_MODEL_d5c2b4ba9ac94947a5e3ab1b1056ca55",
       "style": "IPY_MODEL_29a1b98205b9412f9bb70b162d171ecb",
       "value": "0.2"
      }
     },
     "66ffc9dda9e849d39e9bb222fa84074d": {
      "model_module": "@jupyter-widgets/base",
      "model_module_version": "1.2.0",
      "model_name": "LayoutModel",
      "state": {}
     },
     "67654a80781e403d87ecac2ece34806d": {
      "model_module": "@jupyter-widgets/base",
      "model_module_version": "1.2.0",
      "model_name": "LayoutModel",
      "state": {}
     },
     "67c22802c04a403bbbd13d10e4ebb82b": {
      "model_module": "@jupyter-widgets/controls",
      "model_module_version": "1.5.0",
      "model_name": "TextModel",
      "state": {
       "description": "h_aceite",
       "layout": "IPY_MODEL_89514fbb332743a7857cd2cf153e669a",
       "style": "IPY_MODEL_a8db789a36a14b17b110ae56d2c28c46",
       "value": "0.1"
      }
     },
     "6807c8c947794f3ea7fc222a2f5f77d9": {
      "model_module": "@jupyter-widgets/controls",
      "model_module_version": "1.5.0",
      "model_name": "DescriptionStyleModel",
      "state": {
       "description_width": ""
      }
     },
     "680a2a08d92c4ed3b3c071b69fd7d2db": {
      "model_module": "@jupyter-widgets/controls",
      "model_module_version": "1.5.0",
      "model_name": "DescriptionStyleModel",
      "state": {
       "description_width": ""
      }
     },
     "68baa5852dce4c5ea3c81ccd07a70c63": {
      "model_module": "@jupyter-widgets/controls",
      "model_module_version": "1.5.0",
      "model_name": "VBoxModel",
      "state": {
       "_dom_classes": [
        "widget-interact"
       ],
       "children": [
        "IPY_MODEL_ab3e7538eb064b07a1419ce751f12be5",
        "IPY_MODEL_01cefc3719904315a063bea20cd4539b",
        "IPY_MODEL_e71a4c6d15f64bf8a082f048b3e0fbf3",
        "IPY_MODEL_cd9c8165019646cdb63e6b34a30d335e"
       ],
       "layout": "IPY_MODEL_f7b1d5504f8d48aba070af588188e2d2"
      }
     },
     "68fecf2b1db04bf290c9051e312c592f": {
      "model_module": "@jupyter-widgets/base",
      "model_module_version": "1.2.0",
      "model_name": "LayoutModel",
      "state": {}
     },
     "699b5d4b1f354849bbc89e52749d7df9": {
      "model_module": "@jupyter-widgets/controls",
      "model_module_version": "1.5.0",
      "model_name": "TextModel",
      "state": {
       "description": "$h_{_{glicerina}}$ (mcGlicerina)",
       "layout": "IPY_MODEL_3acec1ec20e24afeb5b6c2d6ab77399e",
       "style": "IPY_MODEL_1f475fed8c1441f59d879be816a13f82",
       "value": "0.2"
      }
     },
     "6ab6c33c47e242de99713eb02f247b73": {
      "model_module": "@jupyter-widgets/controls",
      "model_module_version": "1.5.0",
      "model_name": "TextModel",
      "state": {
       "description": "$h_{_{aceite}}$ (mcAceite)",
       "layout": "IPY_MODEL_fa37a8f3f2024e49965916dff5f3c565",
       "style": "IPY_MODEL_3d089c7290dd48739828006bcfdf926d",
       "value": "0.1"
      }
     },
     "6b14b8309d7848e1a81fa402018f286a": {
      "model_module": "@jupyter-widgets/controls",
      "model_module_version": "1.5.0",
      "model_name": "DescriptionStyleModel",
      "state": {
       "description_width": ""
      }
     },
     "6b80151ee0b747adac61832d65989091": {
      "model_module": "@jupyter-widgets/base",
      "model_module_version": "1.2.0",
      "model_name": "LayoutModel",
      "state": {}
     },
     "6b93da89c1e74c6b9250386062ddca80": {
      "model_module": "@jupyter-widgets/base",
      "model_module_version": "1.2.0",
      "model_name": "LayoutModel",
      "state": {}
     },
     "6c27f15cc3724c00ba51cd310be64e41": {
      "model_module": "@jupyter-widgets/controls",
      "model_module_version": "1.5.0",
      "model_name": "TextModel",
      "state": {
       "description": "$h_{_{agua}}$ (mca)",
       "layout": "IPY_MODEL_4893d9090a4c45daacbc2eacd784a7e5",
       "style": "IPY_MODEL_4db44c018dae494e9bdd4c612cb93875",
       "value": "0.1"
      }
     },
     "6c65bd39cb98473c9d09cbcc779b9342": {
      "model_module": "@jupyter-widgets/base",
      "model_module_version": "1.2.0",
      "model_name": "LayoutModel",
      "state": {}
     },
     "6c986deef8ff48f6a9bd91f481facc5d": {
      "model_module": "@jupyter-widgets/controls",
      "model_module_version": "1.5.0",
      "model_name": "DescriptionStyleModel",
      "state": {
       "description_width": ""
      }
     },
     "6d494b349f934fe7b47b37f6ebc2c6b4": {
      "model_module": "@jupyter-widgets/base",
      "model_module_version": "1.2.0",
      "model_name": "LayoutModel",
      "state": {}
     },
     "6ea7ceb4eb54451e9d2478dceecbbc51": {
      "model_module": "@jupyter-widgets/base",
      "model_module_version": "1.2.0",
      "model_name": "LayoutModel",
      "state": {}
     },
     "6eb54342662b4679b68a064a3b589128": {
      "model_module": "@jupyter-widgets/controls",
      "model_module_version": "1.5.0",
      "model_name": "TextModel",
      "state": {
       "description": "$h_{_{agua}}$ (mca)",
       "layout": "IPY_MODEL_ca4f9a05fc624a6ebf1bec4e0ce8d0dc",
       "style": "IPY_MODEL_bae1af70d2ef4ac1a07d0b3a5404568b",
       "value": "0.1"
      }
     },
     "6ec45818044048aa87b24eac4b7fb92f": {
      "model_module": "@jupyter-widgets/base",
      "model_module_version": "1.2.0",
      "model_name": "LayoutModel",
      "state": {}
     },
     "70b5d122488a49168b5da698e87ae943": {
      "model_module": "@jupyter-widgets/base",
      "model_module_version": "1.2.0",
      "model_name": "LayoutModel",
      "state": {}
     },
     "70d8726eb1c14296833353cf08470848": {
      "model_module": "@jupyter-widgets/base",
      "model_module_version": "1.2.0",
      "model_name": "LayoutModel",
      "state": {}
     },
     "71348173a0854028add505f573f7a390": {
      "model_module": "@jupyter-widgets/base",
      "model_module_version": "1.2.0",
      "model_name": "LayoutModel",
      "state": {}
     },
     "72ff09f82242463eb97c27ec0dab1f08": {
      "model_module": "@jupyter-widgets/base",
      "model_module_version": "1.2.0",
      "model_name": "LayoutModel",
      "state": {}
     },
     "7320475354464e5a94bfbf0e8b6d5643": {
      "model_module": "@jupyter-widgets/base",
      "model_module_version": "1.2.0",
      "model_name": "LayoutModel",
      "state": {}
     },
     "762557d09bbb4efb87a031e41a202515": {
      "model_module": "@jupyter-widgets/base",
      "model_module_version": "1.2.0",
      "model_name": "LayoutModel",
      "state": {}
     },
     "765312d178f24728b47d854b49751a5c": {
      "model_module": "@jupyter-widgets/controls",
      "model_module_version": "1.5.0",
      "model_name": "DescriptionStyleModel",
      "state": {
       "description_width": ""
      }
     },
     "7803865afa504cea9dd9ff8f0bb741df": {
      "model_module": "@jupyter-widgets/base",
      "model_module_version": "1.2.0",
      "model_name": "LayoutModel",
      "state": {}
     },
     "78dbc253a0464f24b58d65973e03134c": {
      "model_module": "@jupyter-widgets/controls",
      "model_module_version": "1.5.0",
      "model_name": "DescriptionStyleModel",
      "state": {
       "description_width": ""
      }
     },
     "79cdfd6648314b8f91d784ca15753904": {
      "model_module": "@jupyter-widgets/controls",
      "model_module_version": "1.5.0",
      "model_name": "TextModel",
      "state": {
       "description": "$h_{_{aceite}}$ (mcAceite)",
       "layout": "IPY_MODEL_15155657aff2448abbfdd28b56710edd",
       "style": "IPY_MODEL_6c986deef8ff48f6a9bd91f481facc5d",
       "value": "0.1"
      }
     },
     "7ce32e2412d74cc297b7c5329ed9d79c": {
      "model_module": "@jupyter-widgets/base",
      "model_module_version": "1.2.0",
      "model_name": "LayoutModel",
      "state": {}
     },
     "7d8c0122da46476fb2be1a15afb8683b": {
      "model_module": "@jupyter-widgets/base",
      "model_module_version": "1.2.0",
      "model_name": "LayoutModel",
      "state": {}
     },
     "7dad95aa79e049c595ba3e9dd4ae90b8": {
      "model_module": "@jupyter-widgets/controls",
      "model_module_version": "1.5.0",
      "model_name": "TextModel",
      "state": {
       "description": "$h_{_{aceite}}$ (mcAceite)",
       "layout": "IPY_MODEL_44f8a09085c44e42abfc788c10b3a8c2",
       "style": "IPY_MODEL_a14f215868454e8a9d3671f0ce0bcdbc",
       "value": "0.1"
      }
     },
     "7dbdd25ca0014caebfeb59a8336c55b7": {
      "model_module": "@jupyter-widgets/controls",
      "model_module_version": "1.5.0",
      "model_name": "TextModel",
      "state": {
       "description": "$h_{_{glicerina}}$ (mcGlicerina)",
       "layout": "IPY_MODEL_7803865afa504cea9dd9ff8f0bb741df",
       "style": "IPY_MODEL_57efdb28c0d740578a0adb8b57b19006",
       "value": "0.2"
      }
     },
     "7e04f4d61d6b4288a6fd6e68c7af2d87": {
      "model_module": "@jupyter-widgets/controls",
      "model_module_version": "1.5.0",
      "model_name": "DescriptionStyleModel",
      "state": {
       "description_width": ""
      }
     },
     "7e91b65a4eba430cba39d2d35ac887cc": {
      "model_module": "@jupyter-widgets/base",
      "model_module_version": "1.2.0",
      "model_name": "LayoutModel",
      "state": {}
     },
     "7eb66d5493c947109ba95e0500b0014c": {
      "model_module": "@jupyter-widgets/base",
      "model_module_version": "1.2.0",
      "model_name": "LayoutModel",
      "state": {}
     },
     "7fd443be5a4342ab8b2ade487bb4278f": {
      "model_module": "@jupyter-widgets/base",
      "model_module_version": "1.2.0",
      "model_name": "LayoutModel",
      "state": {}
     },
     "81bc128f75a3431b94ef9b844709f7e3": {
      "model_module": "@jupyter-widgets/controls",
      "model_module_version": "1.5.0",
      "model_name": "TextModel",
      "state": {
       "description": "$h_{_{aceite}}$ (mcAceite)",
       "layout": "IPY_MODEL_a57b41e4bccf44abb47fb2af97e1d73a",
       "style": "IPY_MODEL_822152bf25cd4ba29fec9818342af0a7",
       "value": "0.1"
      }
     },
     "822152bf25cd4ba29fec9818342af0a7": {
      "model_module": "@jupyter-widgets/controls",
      "model_module_version": "1.5.0",
      "model_name": "DescriptionStyleModel",
      "state": {
       "description_width": ""
      }
     },
     "8328a406e53845a38fc9a413bf879286": {
      "model_module": "@jupyter-widgets/controls",
      "model_module_version": "1.5.0",
      "model_name": "DescriptionStyleModel",
      "state": {
       "description_width": ""
      }
     },
     "83a45e7752ec49b3bc2f07c2f71072c4": {
      "model_module": "@jupyter-widgets/base",
      "model_module_version": "1.2.0",
      "model_name": "LayoutModel",
      "state": {}
     },
     "83b0b55e08a64e07bb447954243fc8a5": {
      "model_module": "@jupyter-widgets/base",
      "model_module_version": "1.2.0",
      "model_name": "LayoutModel",
      "state": {}
     },
     "8428ebed1f4c4de3b1a892a35ad49d0f": {
      "model_module": "@jupyter-widgets/base",
      "model_module_version": "1.2.0",
      "model_name": "LayoutModel",
      "state": {}
     },
     "84cc45382108409287b64b4eac953472": {
      "model_module": "@jupyter-widgets/base",
      "model_module_version": "1.2.0",
      "model_name": "LayoutModel",
      "state": {}
     },
     "8515d01c13754407baff73c274634d7a": {
      "model_module": "@jupyter-widgets/controls",
      "model_module_version": "1.5.0",
      "model_name": "TextModel",
      "state": {
       "description": "$h_{_{agua}}$ (mca)",
       "layout": "IPY_MODEL_0b7d435f03f044759e5551eeb99153bb",
       "style": "IPY_MODEL_459ce0d81abe4447bc2df29dacddd7f9",
       "value": "0.1"
      }
     },
     "86613c431212413eac379330aff4309d": {
      "model_module": "@jupyter-widgets/base",
      "model_module_version": "1.2.0",
      "model_name": "LayoutModel",
      "state": {}
     },
     "8785d3e75111481189bb4de02c1d9d53": {
      "model_module": "@jupyter-widgets/base",
      "model_module_version": "1.2.0",
      "model_name": "LayoutModel",
      "state": {}
     },
     "88347dd2cfaf464597bb6cf531080ab8": {
      "model_module": "@jupyter-widgets/base",
      "model_module_version": "1.2.0",
      "model_name": "LayoutModel",
      "state": {}
     },
     "888a2524520e4af2bf635cf68a94fdea": {
      "model_module": "@jupyter-widgets/controls",
      "model_module_version": "1.5.0",
      "model_name": "VBoxModel",
      "state": {
       "_dom_classes": [
        "widget-interact"
       ],
       "children": [
        "IPY_MODEL_5167af0f75f941b28a74ca8668a770de",
        "IPY_MODEL_540debdee55147dd859fa799ce618f82",
        "IPY_MODEL_342feadee769441ba011b3511c6cb9e0",
        "IPY_MODEL_61e66f475fde46449d496610f70e5410"
       ],
       "layout": "IPY_MODEL_d947c221c0a041fea1cac3c9857a9d4e"
      }
     },
     "89293753b09746ff98240bad7af8725f": {
      "model_module": "@jupyter-widgets/controls",
      "model_module_version": "1.5.0",
      "model_name": "VBoxModel",
      "state": {
       "_dom_classes": [
        "widget-interact"
       ],
       "children": [
        "IPY_MODEL_407b1c2eb8254d4e98985e3d5d15b9a7",
        "IPY_MODEL_6eb54342662b4679b68a064a3b589128",
        "IPY_MODEL_d5828541c9664f36a7f70720f976ce5b",
        "IPY_MODEL_8cf296a635b04b5db4c18979d7f3a258"
       ],
       "layout": "IPY_MODEL_d65acc50d9b94fbda25d721e88702535"
      }
     },
     "8946052a3e53486babbbd630aea18d4b": {
      "model_module": "@jupyter-widgets/base",
      "model_module_version": "1.2.0",
      "model_name": "LayoutModel",
      "state": {}
     },
     "89514fbb332743a7857cd2cf153e669a": {
      "model_module": "@jupyter-widgets/base",
      "model_module_version": "1.2.0",
      "model_name": "LayoutModel",
      "state": {}
     },
     "8a4aa1bd4e4f4474a07afce4eaefb755": {
      "model_module": "@jupyter-widgets/controls",
      "model_module_version": "1.5.0",
      "model_name": "TextModel",
      "state": {
       "description": "$h_{_{aceite}}$ (mcAceite)",
       "layout": "IPY_MODEL_025b08409d17457188d3e3b25fb50cbd",
       "style": "IPY_MODEL_344c1ff6105045bb927abba658dddc3a",
       "value": "0.1"
      }
     },
     "8ace17f9abd94b5184718b4497c9da23": {
      "model_module": "@jupyter-widgets/controls",
      "model_module_version": "1.5.0",
      "model_name": "DescriptionStyleModel",
      "state": {
       "description_width": ""
      }
     },
     "8c9f5fde0830449b8613f3875c3a1563": {
      "model_module": "@jupyter-widgets/controls",
      "model_module_version": "1.5.0",
      "model_name": "DescriptionStyleModel",
      "state": {
       "description_width": ""
      }
     },
     "8cf296a635b04b5db4c18979d7f3a258": {
      "model_module": "@jupyter-widgets/output",
      "model_module_version": "1.0.0",
      "model_name": "OutputModel",
      "state": {
       "layout": "IPY_MODEL_1e6e42de7efe488a8e7fdb8e80f5ea33",
       "outputs": [
        {
         "name": "stdout",
         "output_type": "stream",
         "text": "Pulsa para actualizar los campos de texto\n"
        }
       ]
      }
     },
     "8d348cf71a5c420fad3805d3680fa804": {
      "model_module": "@jupyter-widgets/base",
      "model_module_version": "1.2.0",
      "model_name": "LayoutModel",
      "state": {}
     },
     "8d87cde98b97440991c482546dd0e0a8": {
      "model_module": "@jupyter-widgets/controls",
      "model_module_version": "1.5.0",
      "model_name": "DescriptionStyleModel",
      "state": {
       "description_width": ""
      }
     },
     "8e03cee831b647119fa300da6cb090a8": {
      "model_module": "@jupyter-widgets/controls",
      "model_module_version": "1.5.0",
      "model_name": "DescriptionStyleModel",
      "state": {
       "description_width": ""
      }
     },
     "8e8328b5d44e43e29f680f4bae55c77c": {
      "model_module": "@jupyter-widgets/base",
      "model_module_version": "1.2.0",
      "model_name": "LayoutModel",
      "state": {}
     },
     "922829e536174b7d87ba406d853fec83": {
      "model_module": "@jupyter-widgets/controls",
      "model_module_version": "1.5.0",
      "model_name": "DescriptionStyleModel",
      "state": {
       "description_width": ""
      }
     },
     "92b4f10f78064b428620f2c1eb372dbe": {
      "model_module": "@jupyter-widgets/controls",
      "model_module_version": "1.5.0",
      "model_name": "DescriptionStyleModel",
      "state": {
       "description_width": ""
      }
     },
     "950d13a4cc614bc9beb5baba86a50e59": {
      "model_module": "@jupyter-widgets/controls",
      "model_module_version": "1.5.0",
      "model_name": "VBoxModel",
      "state": {
       "_dom_classes": [
        "widget-interact"
       ],
       "children": [
        "IPY_MODEL_3e7d1a8f47cb44ff9cf9e66b969d24a6",
        "IPY_MODEL_0d81c08a9603405393034dd1d19cf969",
        "IPY_MODEL_62056bd27e9f4707b8556c894302328f",
        "IPY_MODEL_ceb9808599204840b478732d2ad8d559"
       ],
       "layout": "IPY_MODEL_68fecf2b1db04bf290c9051e312c592f"
      }
     },
     "95d6a037b94445f192b2ffc56e01dc54": {
      "model_module": "@jupyter-widgets/controls",
      "model_module_version": "1.5.0",
      "model_name": "DescriptionStyleModel",
      "state": {
       "description_width": ""
      }
     },
     "96199aec35d64583ac4f221bb46c3c1e": {
      "model_module": "@jupyter-widgets/base",
      "model_module_version": "1.2.0",
      "model_name": "LayoutModel",
      "state": {}
     },
     "96739cf14e12432fbe3bdb11dfe66ef9": {
      "model_module": "@jupyter-widgets/base",
      "model_module_version": "1.2.0",
      "model_name": "LayoutModel",
      "state": {}
     },
     "9724dfc48ca84a6ea0a7e24c75ebdc88": {
      "model_module": "@jupyter-widgets/output",
      "model_module_version": "1.0.0",
      "model_name": "OutputModel",
      "state": {
       "layout": "IPY_MODEL_aa9a263b30194cd1bfb8f1669a96b729",
       "outputs": [
        {
         "name": "stdout",
         "output_type": "stream",
         "text": "Pulsa para actualizar los campos de texto\n"
        }
       ]
      }
     },
     "9854f601de9e4182bc1f0c5e55952d53": {
      "model_module": "@jupyter-widgets/controls",
      "model_module_version": "1.5.0",
      "model_name": "TextModel",
      "state": {
       "description": "$h_{_{agua}}$ (mca)",
       "layout": "IPY_MODEL_df644978220e45aca5fad7010876eea1",
       "style": "IPY_MODEL_ffd4889e8f9d47d29ab1628e565b7687",
       "value": "0.1"
      }
     },
     "9867040adaaa4d2ea7cf24d09905a12c": {
      "model_module": "@jupyter-widgets/controls",
      "model_module_version": "1.5.0",
      "model_name": "DescriptionStyleModel",
      "state": {
       "description_width": ""
      }
     },
     "9915c623e18d417597fb18f71730798a": {
      "model_module": "@jupyter-widgets/base",
      "model_module_version": "1.2.0",
      "model_name": "LayoutModel",
      "state": {}
     },
     "9b0849be46ed47468a2ddd64663dccee": {
      "model_module": "@jupyter-widgets/base",
      "model_module_version": "1.2.0",
      "model_name": "LayoutModel",
      "state": {}
     },
     "9c0f751f389849368bde6f256a3c7833": {
      "model_module": "@jupyter-widgets/controls",
      "model_module_version": "1.5.0",
      "model_name": "TextModel",
      "state": {
       "description": "$h_{_{aceite}}$ (mcAceite)",
       "layout": "IPY_MODEL_fd31c50e515b4524813143266f88b2a1",
       "style": "IPY_MODEL_5cc216f214d8431db5364026849dce35",
       "value": "0.1"
      }
     },
     "9c628d1390e14bfa92bca4cb02b428a8": {
      "model_module": "@jupyter-widgets/output",
      "model_module_version": "1.0.0",
      "model_name": "OutputModel",
      "state": {
       "layout": "IPY_MODEL_ed28639a173b473381c925d67e8699f9",
       "outputs": [
        {
         "name": "stdout",
         "output_type": "stream",
         "text": "Pulsa para actualizar los campos de texto\n"
        }
       ]
      }
     },
     "9d12c2dd563b4cf4ac7ba68d9cb774d7": {
      "model_module": "@jupyter-widgets/controls",
      "model_module_version": "1.5.0",
      "model_name": "VBoxModel",
      "state": {
       "_dom_classes": [
        "widget-interact"
       ],
       "children": [
        "IPY_MODEL_0b127a697048410fa93c623f2fc0753f",
        "IPY_MODEL_3295ecb7cd7546f294578b6d4a5e2fa7",
        "IPY_MODEL_d7aa06163006402b9dc2b95cb4368ef7",
        "IPY_MODEL_56ff706d519146169e6ae3c966141236"
       ],
       "layout": "IPY_MODEL_a394094e23c24351a5c4aaec342c5b6c"
      }
     },
     "9d206c709e8d479180a524a52c863234": {
      "model_module": "@jupyter-widgets/base",
      "model_module_version": "1.2.0",
      "model_name": "LayoutModel",
      "state": {}
     },
     "a0071942529d432db32e8ed74cab6517": {
      "model_module": "@jupyter-widgets/base",
      "model_module_version": "1.2.0",
      "model_name": "LayoutModel",
      "state": {}
     },
     "a06184171ab6477e88d486267b5e9547": {
      "model_module": "@jupyter-widgets/controls",
      "model_module_version": "1.5.0",
      "model_name": "VBoxModel",
      "state": {
       "_dom_classes": [
        "widget-interact"
       ],
       "children": [
        "IPY_MODEL_f7e552e5e7634cabb6b37bc8e710a860",
        "IPY_MODEL_3b40c86a1a6c432892cdfc6cbe7071b7",
        "IPY_MODEL_d72cdbe206124fbd964c9461f445007d",
        "IPY_MODEL_518f216d947c4e41b0955d150a2a9e45"
       ],
       "layout": "IPY_MODEL_b66d524748234a94a0d7889b14abf3c9"
      }
     },
     "a14f215868454e8a9d3671f0ce0bcdbc": {
      "model_module": "@jupyter-widgets/controls",
      "model_module_version": "1.5.0",
      "model_name": "DescriptionStyleModel",
      "state": {
       "description_width": ""
      }
     },
     "a178a64a4d364917a0cda2fe3461bf72": {
      "model_module": "@jupyter-widgets/controls",
      "model_module_version": "1.5.0",
      "model_name": "VBoxModel",
      "state": {
       "_dom_classes": [
        "widget-interact"
       ],
       "children": [
        "IPY_MODEL_060f2f971a0a47479612ebdc0168862b",
        "IPY_MODEL_fc5d56d84cf442eb933eb2286bd80e64",
        "IPY_MODEL_3eb8dff30acf42e18b5ec2e64712176a",
        "IPY_MODEL_556d5d59d0ff4bee92ffbdbdcd92a060"
       ],
       "layout": "IPY_MODEL_a785c2e34b2842ae996797f47930c0f1"
      }
     },
     "a20cc7e5e58c4a169e19165d44cec918": {
      "model_module": "@jupyter-widgets/controls",
      "model_module_version": "1.5.0",
      "model_name": "TextModel",
      "state": {
       "description": "$h_{_{glicerina}}$ (mcGlicerina)",
       "layout": "IPY_MODEL_9915c623e18d417597fb18f71730798a",
       "style": "IPY_MODEL_8c9f5fde0830449b8613f3875c3a1563",
       "value": "0.2"
      }
     },
     "a3296611d6f4460bbf86dfd08a615169": {
      "model_module": "@jupyter-widgets/base",
      "model_module_version": "1.2.0",
      "model_name": "LayoutModel",
      "state": {}
     },
     "a394094e23c24351a5c4aaec342c5b6c": {
      "model_module": "@jupyter-widgets/base",
      "model_module_version": "1.2.0",
      "model_name": "LayoutModel",
      "state": {}
     },
     "a57b41e4bccf44abb47fb2af97e1d73a": {
      "model_module": "@jupyter-widgets/base",
      "model_module_version": "1.2.0",
      "model_name": "LayoutModel",
      "state": {}
     },
     "a6910d4a29ea4ea9b1f5610f257e2e4c": {
      "model_module": "@jupyter-widgets/controls",
      "model_module_version": "1.5.0",
      "model_name": "DescriptionStyleModel",
      "state": {
       "description_width": ""
      }
     },
     "a785c2e34b2842ae996797f47930c0f1": {
      "model_module": "@jupyter-widgets/base",
      "model_module_version": "1.2.0",
      "model_name": "LayoutModel",
      "state": {}
     },
     "a78b6e7dde694827972c68eab264ab49": {
      "model_module": "@jupyter-widgets/controls",
      "model_module_version": "1.5.0",
      "model_name": "DescriptionStyleModel",
      "state": {
       "description_width": ""
      }
     },
     "a7b75515425e4f80a9eb9e537b98747f": {
      "model_module": "@jupyter-widgets/controls",
      "model_module_version": "1.5.0",
      "model_name": "TextModel",
      "state": {
       "description": "$h_{_{glicerina}}$ ($kg/cm^{^2}$)",
       "layout": "IPY_MODEL_43c0a10df2fb48fc80f748e51e9b50ab",
       "style": "IPY_MODEL_acd910d1f7834bc8bbaff2365d6b8db6",
       "value": "0.05"
      }
     },
     "a7ed463f81614095a55665cd8e0a3fdc": {
      "model_module": "@jupyter-widgets/controls",
      "model_module_version": "1.5.0",
      "model_name": "DescriptionStyleModel",
      "state": {
       "description_width": ""
      }
     },
     "a83379f1101b48108c41174ca5408b90": {
      "model_module": "@jupyter-widgets/base",
      "model_module_version": "1.2.0",
      "model_name": "LayoutModel",
      "state": {}
     },
     "a8ca4e37bf9c438ca7f85812db7d53c0": {
      "model_module": "@jupyter-widgets/controls",
      "model_module_version": "1.5.0",
      "model_name": "VBoxModel",
      "state": {
       "_dom_classes": [
        "widget-interact"
       ],
       "children": [
        "IPY_MODEL_f27e44eeab46489a9d0e0f551bf149ce",
        "IPY_MODEL_fc300164043e4f419832859cccc7078a",
        "IPY_MODEL_42565e48d524420f88326599856ed2ba",
        "IPY_MODEL_a7b75515425e4f80a9eb9e537b98747f",
        "IPY_MODEL_cee2943c02c54d51a26fdaa1b2a95328"
       ],
       "layout": "IPY_MODEL_20cddbb5c0ad4d1abb902dab3ea24080"
      }
     },
     "a8db789a36a14b17b110ae56d2c28c46": {
      "model_module": "@jupyter-widgets/controls",
      "model_module_version": "1.5.0",
      "model_name": "DescriptionStyleModel",
      "state": {
       "description_width": ""
      }
     },
     "a96e77d9d3e04af8823fa80405455d13": {
      "model_module": "@jupyter-widgets/controls",
      "model_module_version": "1.5.0",
      "model_name": "VBoxModel",
      "state": {
       "_dom_classes": [
        "widget-interact"
       ],
       "children": [
        "IPY_MODEL_e022393f5bb84ec589dba83ab1a2dfdd",
        "IPY_MODEL_8515d01c13754407baff73c274634d7a",
        "IPY_MODEL_ebb2685fcbaf42cd9e4dee72845ad2fc",
        "IPY_MODEL_fc4641ea8a184c5fb080c780d08c4371"
       ],
       "layout": "IPY_MODEL_52c2434a09a9445bb32846b39c80f5af"
      }
     },
     "aa9a263b30194cd1bfb8f1669a96b729": {
      "model_module": "@jupyter-widgets/base",
      "model_module_version": "1.2.0",
      "model_name": "LayoutModel",
      "state": {}
     },
     "aacfc1a2f652438e90f1103a6f002961": {
      "model_module": "@jupyter-widgets/base",
      "model_module_version": "1.2.0",
      "model_name": "LayoutModel",
      "state": {}
     },
     "ab3e7538eb064b07a1419ce751f12be5": {
      "model_module": "@jupyter-widgets/controls",
      "model_module_version": "1.5.0",
      "model_name": "TextModel",
      "state": {
       "description": "h_{_{aceite}} (mcAceite)",
       "layout": "IPY_MODEL_bbda77f4f7bc4210bfe5db544695dff2",
       "style": "IPY_MODEL_da241ef712284b8bb297d7acd3eef409",
       "value": "0.1"
      }
     },
     "ac3a69ce8d7d4b8e9314edf864ef586b": {
      "model_module": "@jupyter-widgets/controls",
      "model_module_version": "1.5.0",
      "model_name": "DescriptionStyleModel",
      "state": {
       "description_width": ""
      }
     },
     "acd910d1f7834bc8bbaff2365d6b8db6": {
      "model_module": "@jupyter-widgets/controls",
      "model_module_version": "1.5.0",
      "model_name": "DescriptionStyleModel",
      "state": {
       "description_width": ""
      }
     },
     "add62e887cfc442299899f829b033c9c": {
      "model_module": "@jupyter-widgets/controls",
      "model_module_version": "1.5.0",
      "model_name": "TextModel",
      "state": {
       "description": "$h_{_{agua}}$ (mca)",
       "layout": "IPY_MODEL_dd8639f4c7e94fa3a4f599691502c5de",
       "style": "IPY_MODEL_6b14b8309d7848e1a81fa402018f286a",
       "value": "0.1"
      }
     },
     "af9491af1d5648cbb4e12b132fe5154c": {
      "model_module": "@jupyter-widgets/controls",
      "model_module_version": "1.5.0",
      "model_name": "VBoxModel",
      "state": {
       "_dom_classes": [
        "widget-interact"
       ],
       "children": [
        "IPY_MODEL_1ab10e6446614398a7a6e0c32a821dc6",
        "IPY_MODEL_0d0915f085674a28847c0618c688bdb7",
        "IPY_MODEL_699b5d4b1f354849bbc89e52749d7df9",
        "IPY_MODEL_9724dfc48ca84a6ea0a7e24c75ebdc88"
       ],
       "layout": "IPY_MODEL_22f3ef5b1ea14d41a2709fd5c11e6e17"
      }
     },
     "b0713c81ddb54cdfaa8fc1f7ea078cae": {
      "model_module": "@jupyter-widgets/base",
      "model_module_version": "1.2.0",
      "model_name": "LayoutModel",
      "state": {}
     },
     "b26413a55662493dbe49cce77e12187e": {
      "model_module": "@jupyter-widgets/base",
      "model_module_version": "1.2.0",
      "model_name": "LayoutModel",
      "state": {}
     },
     "b2c698c197524c1f92dfd242ef405758": {
      "model_module": "@jupyter-widgets/base",
      "model_module_version": "1.2.0",
      "model_name": "LayoutModel",
      "state": {}
     },
     "b3d54ac519024edbab4a74a4b59622ce": {
      "model_module": "@jupyter-widgets/controls",
      "model_module_version": "1.5.0",
      "model_name": "DescriptionStyleModel",
      "state": {
       "description_width": ""
      }
     },
     "b3e2c7507bc348e6ae84920f3e79e8a8": {
      "model_module": "@jupyter-widgets/controls",
      "model_module_version": "1.5.0",
      "model_name": "DescriptionStyleModel",
      "state": {
       "description_width": ""
      }
     },
     "b3f28ee94c7f4bf1a1f3b3984c0a5404": {
      "model_module": "@jupyter-widgets/controls",
      "model_module_version": "1.5.0",
      "model_name": "TextModel",
      "state": {
       "description": "$h_{_{agua}}$ (mca)",
       "layout": "IPY_MODEL_65fb440c005a4cbeb8884f71c1c9c548",
       "style": "IPY_MODEL_c6009c06bc6e4249a1354d32bbd3f94c",
       "value": "0.1"
      }
     },
     "b4b8d97cd45543e8a656501c6dfaddd1": {
      "model_module": "@jupyter-widgets/controls",
      "model_module_version": "1.5.0",
      "model_name": "TextModel",
      "state": {
       "description": "$h_{_{glicerina}}$ (mcGlicerina)",
       "layout": "IPY_MODEL_4154db80a75c4c3e8ab636072c15b2d9",
       "style": "IPY_MODEL_b3d54ac519024edbab4a74a4b59622ce",
       "value": "0.2"
      }
     },
     "b57f8cd50da543a1946f769313c9a318": {
      "model_module": "@jupyter-widgets/output",
      "model_module_version": "1.0.0",
      "model_name": "OutputModel",
      "state": {
       "layout": "IPY_MODEL_ddcf1faff89f4fcab5c32bf87f4126ec",
       "outputs": [
        {
         "name": "stdout",
         "output_type": "stream",
         "text": "Pulsa para actualizar los campos de texto\n"
        }
       ]
      }
     },
     "b58b6dd3a4c74693bd44d7069d4d28dd": {
      "model_module": "@jupyter-widgets/output",
      "model_module_version": "1.0.0",
      "model_name": "OutputModel",
      "state": {
       "layout": "IPY_MODEL_fa7c92341aaf4cc2ab0d984c0ba96f87",
       "outputs": [
        {
         "name": "stdout",
         "output_type": "stream",
         "text": "Pulsa para actualizar los campos de texto\n"
        }
       ]
      }
     },
     "b66d524748234a94a0d7889b14abf3c9": {
      "model_module": "@jupyter-widgets/base",
      "model_module_version": "1.2.0",
      "model_name": "LayoutModel",
      "state": {}
     },
     "b7db4eae9840425c9eb47b4ecac4a3a7": {
      "model_module": "@jupyter-widgets/controls",
      "model_module_version": "1.5.0",
      "model_name": "TextModel",
      "state": {
       "description": "$h_{_{agua}}$ (mca)",
       "layout": "IPY_MODEL_116cc0ea227b4a0b92091665c4a2be6c",
       "style": "IPY_MODEL_e40fda86fbf74d6786415dcd27781fcd",
       "value": "0.1"
      }
     },
     "b981b80636f64ebdb52031c02d56bb2b": {
      "model_module": "@jupyter-widgets/controls",
      "model_module_version": "1.5.0",
      "model_name": "TextModel",
      "state": {
       "description": "$h_{_{agua}}$ (mca)",
       "layout": "IPY_MODEL_df0112d3b87241588ab245b8b30d9b5c",
       "style": "IPY_MODEL_5876fcb0a0ed4662bc39c7b9f6312ca1",
       "value": "0.1"
      }
     },
     "b98bcfc0b665498da1b91c514621cd0e": {
      "model_module": "@jupyter-widgets/controls",
      "model_module_version": "1.5.0",
      "model_name": "DescriptionStyleModel",
      "state": {
       "description_width": ""
      }
     },
     "bae1af70d2ef4ac1a07d0b3a5404568b": {
      "model_module": "@jupyter-widgets/controls",
      "model_module_version": "1.5.0",
      "model_name": "DescriptionStyleModel",
      "state": {
       "description_width": ""
      }
     },
     "bafdc9f23c17481caca40193da6eb709": {
      "model_module": "@jupyter-widgets/controls",
      "model_module_version": "1.5.0",
      "model_name": "DescriptionStyleModel",
      "state": {
       "description_width": ""
      }
     },
     "bb73dfc282cf4df49bad07bb5e72d577": {
      "model_module": "@jupyter-widgets/base",
      "model_module_version": "1.2.0",
      "model_name": "LayoutModel",
      "state": {}
     },
     "bbda77f4f7bc4210bfe5db544695dff2": {
      "model_module": "@jupyter-widgets/base",
      "model_module_version": "1.2.0",
      "model_name": "LayoutModel",
      "state": {}
     },
     "bcd1e6d418a048a19cfced86cac5044a": {
      "model_module": "@jupyter-widgets/base",
      "model_module_version": "1.2.0",
      "model_name": "LayoutModel",
      "state": {}
     },
     "bf03fac4177f4909be482823530f65e4": {
      "model_module": "@jupyter-widgets/base",
      "model_module_version": "1.2.0",
      "model_name": "LayoutModel",
      "state": {}
     },
     "bfa6236495114ed6a81c508497e03060": {
      "model_module": "@jupyter-widgets/base",
      "model_module_version": "1.2.0",
      "model_name": "LayoutModel",
      "state": {}
     },
     "c2e6d5e5e9b144cfbd9c95ad67e61027": {
      "model_module": "@jupyter-widgets/controls",
      "model_module_version": "1.5.0",
      "model_name": "DescriptionStyleModel",
      "state": {
       "description_width": ""
      }
     },
     "c3fe6205c9ed4acfb55878f2355eb6cd": {
      "model_module": "@jupyter-widgets/controls",
      "model_module_version": "1.5.0",
      "model_name": "TextModel",
      "state": {
       "description": "$h_{_{agua}}$ (mca)",
       "layout": "IPY_MODEL_042a5505bf07450893de2e657de6b27d",
       "style": "IPY_MODEL_3b6bc281b3b84f2c98b7a356350c1e49",
       "value": "0.1"
      }
     },
     "c520dcd81d1f431897bce48e3d4fd43b": {
      "model_module": "@jupyter-widgets/base",
      "model_module_version": "1.2.0",
      "model_name": "LayoutModel",
      "state": {}
     },
     "c6009c06bc6e4249a1354d32bbd3f94c": {
      "model_module": "@jupyter-widgets/controls",
      "model_module_version": "1.5.0",
      "model_name": "DescriptionStyleModel",
      "state": {
       "description_width": ""
      }
     },
     "c6b290301b814502b430ea514099b287": {
      "model_module": "@jupyter-widgets/base",
      "model_module_version": "1.2.0",
      "model_name": "LayoutModel",
      "state": {}
     },
     "c764cd1d24b0420d85565b8b7f34066f": {
      "model_module": "@jupyter-widgets/base",
      "model_module_version": "1.2.0",
      "model_name": "LayoutModel",
      "state": {}
     },
     "c77b86db9314476b83d58de35326b5cd": {
      "model_module": "@jupyter-widgets/controls",
      "model_module_version": "1.5.0",
      "model_name": "DescriptionStyleModel",
      "state": {
       "description_width": ""
      }
     },
     "c7a3c4acaf044dd6871ccf8006155b92": {
      "model_module": "@jupyter-widgets/controls",
      "model_module_version": "1.5.0",
      "model_name": "TextModel",
      "state": {
       "description": "$h_{_{glicerina}}$ (mcGlicerina)",
       "layout": "IPY_MODEL_3a21e7c6334645fd891a9af7dd2e0f65",
       "style": "IPY_MODEL_8d87cde98b97440991c482546dd0e0a8",
       "value": "0.2"
      }
     },
     "c8650a7b29924b01aa227ee469b42564": {
      "model_module": "@jupyter-widgets/controls",
      "model_module_version": "1.5.0",
      "model_name": "DescriptionStyleModel",
      "state": {
       "description_width": ""
      }
     },
     "ca4f9a05fc624a6ebf1bec4e0ce8d0dc": {
      "model_module": "@jupyter-widgets/base",
      "model_module_version": "1.2.0",
      "model_name": "LayoutModel",
      "state": {}
     },
     "cb8d72ab98274ce18dd9efd84e792a4d": {
      "model_module": "@jupyter-widgets/output",
      "model_module_version": "1.0.0",
      "model_name": "OutputModel",
      "state": {
       "layout": "IPY_MODEL_aacfc1a2f652438e90f1103a6f002961",
       "outputs": [
        {
         "name": "stdout",
         "output_type": "stream",
         "text": "Pulsa para actualizar los campos de texto\n"
        }
       ]
      }
     },
     "cb91bf1bd8a048749e3ac5b9518a8268": {
      "model_module": "@jupyter-widgets/base",
      "model_module_version": "1.2.0",
      "model_name": "LayoutModel",
      "state": {}
     },
     "cd7a118609b345a8b886f1457442c4fe": {
      "model_module": "@jupyter-widgets/base",
      "model_module_version": "1.2.0",
      "model_name": "LayoutModel",
      "state": {}
     },
     "cd9c8165019646cdb63e6b34a30d335e": {
      "model_module": "@jupyter-widgets/output",
      "model_module_version": "1.0.0",
      "model_name": "OutputModel",
      "state": {
       "layout": "IPY_MODEL_7320475354464e5a94bfbf0e8b6d5643",
       "outputs": [
        {
         "name": "stdout",
         "output_type": "stream",
         "text": "Pulsa para actualizar los campos de texto\n"
        }
       ]
      }
     },
     "ce99f17e3c5c489c961f3cf7de00ba15": {
      "model_module": "@jupyter-widgets/controls",
      "model_module_version": "1.5.0",
      "model_name": "TextModel",
      "state": {
       "description": "$h_{_{glicerina}}$ (mcGlicerina)",
       "layout": "IPY_MODEL_d2ffa1756254413dbedd7f426a2c3a94",
       "style": "IPY_MODEL_4faeb3497c54437ba60df2e84362bd0d",
       "value": "0.2"
      }
     },
     "ceab8b554c964ec2a069fb33fe3ab1c4": {
      "model_module": "@jupyter-widgets/controls",
      "model_module_version": "1.5.0",
      "model_name": "TextModel",
      "state": {
       "description": "h_agua",
       "layout": "IPY_MODEL_7d8c0122da46476fb2be1a15afb8683b",
       "style": "IPY_MODEL_250222ab4cdc4867bbef9f337d090244",
       "value": "0.1"
      }
     },
     "ceb9808599204840b478732d2ad8d559": {
      "model_module": "@jupyter-widgets/output",
      "model_module_version": "1.0.0",
      "model_name": "OutputModel",
      "state": {
       "layout": "IPY_MODEL_9d206c709e8d479180a524a52c863234",
       "outputs": [
        {
         "name": "stdout",
         "output_type": "stream",
         "text": "Pulsa para actualizar los campos de texto\n"
        }
       ]
      }
     },
     "cee2943c02c54d51a26fdaa1b2a95328": {
      "model_module": "@jupyter-widgets/output",
      "model_module_version": "1.0.0",
      "model_name": "OutputModel",
      "state": {
       "layout": "IPY_MODEL_fe8db5ee05df49bda64e6b8bfd762c3d",
       "outputs": [
        {
         "name": "stdout",
         "output_type": "stream",
         "text": "Pulsa para actualizar los campos de texto\n"
        }
       ]
      }
     },
     "d017562672a94616b8cbf27a15407d24": {
      "model_module": "@jupyter-widgets/controls",
      "model_module_version": "1.5.0",
      "model_name": "TextModel",
      "state": {
       "description": "$h_{_{agua}}$ (mca)",
       "layout": "IPY_MODEL_37b7c2f5ea66469c87b7ea0507cfb758",
       "style": "IPY_MODEL_da052fa65ad14fd2befc93f9d6596c2b",
       "value": "0.1"
      }
     },
     "d036af61e74b4595adbf2e91cb68e6fd": {
      "model_module": "@jupyter-widgets/controls",
      "model_module_version": "1.5.0",
      "model_name": "VBoxModel",
      "state": {
       "_dom_classes": [
        "widget-interact"
       ],
       "children": [
        "IPY_MODEL_e4582e46c32b41ec86768722e0f33eef",
        "IPY_MODEL_e8c336aa7405476f98abcfc886a2ace7",
        "IPY_MODEL_2cd7305b31944ddfb9a5100087c80618",
        "IPY_MODEL_df2faddb723d4c66907168272d3a3be7"
       ],
       "layout": "IPY_MODEL_0ab715c136204b018494e8416acbe373"
      }
     },
     "d04aee2904db4587bc4bb33dd85b0d7c": {
      "model_module": "@jupyter-widgets/base",
      "model_module_version": "1.2.0",
      "model_name": "LayoutModel",
      "state": {}
     },
     "d128dd77c875488eb1800d0e8569d4fa": {
      "model_module": "@jupyter-widgets/base",
      "model_module_version": "1.2.0",
      "model_name": "LayoutModel",
      "state": {}
     },
     "d1d85a084139489898f70f9c8e8129cb": {
      "model_module": "@jupyter-widgets/controls",
      "model_module_version": "1.5.0",
      "model_name": "TextModel",
      "state": {
       "description": "$h_{_{agua}}$ (mca)",
       "layout": "IPY_MODEL_229034aad6c84365942e3b695196d349",
       "style": "IPY_MODEL_6807c8c947794f3ea7fc222a2f5f77d9",
       "value": "0.1"
      }
     },
     "d2ffa1756254413dbedd7f426a2c3a94": {
      "model_module": "@jupyter-widgets/base",
      "model_module_version": "1.2.0",
      "model_name": "LayoutModel",
      "state": {}
     },
     "d3226c7b1dcd4c3791c033191fb80345": {
      "model_module": "@jupyter-widgets/controls",
      "model_module_version": "1.5.0",
      "model_name": "TextModel",
      "state": {
       "description": "$h_{_{aceite}}$ (mcAceite)",
       "layout": "IPY_MODEL_cb91bf1bd8a048749e3ac5b9518a8268",
       "style": "IPY_MODEL_488122d8763142c982d157b8c3f4466a",
       "value": "0.1"
      }
     },
     "d3b54001ea06411683f0c57140c91b52": {
      "model_module": "@jupyter-widgets/controls",
      "model_module_version": "1.5.0",
      "model_name": "DescriptionStyleModel",
      "state": {
       "description_width": ""
      }
     },
     "d43abdb4ee25469eb6fdf3e33a2fd5e5": {
      "model_module": "@jupyter-widgets/output",
      "model_module_version": "1.0.0",
      "model_name": "OutputModel",
      "state": {
       "layout": "IPY_MODEL_6ec45818044048aa87b24eac4b7fb92f",
       "outputs": [
        {
         "name": "stdout",
         "output_type": "stream",
         "text": "Pulsa para actualizar los campos de texto\n"
        }
       ]
      }
     },
     "d467b1304f6f4c3eab27178c46ab28b2": {
      "model_module": "@jupyter-widgets/controls",
      "model_module_version": "1.5.0",
      "model_name": "DescriptionStyleModel",
      "state": {
       "description_width": ""
      }
     },
     "d53846d4bc1945f8b0d2dddd43e234ab": {
      "model_module": "@jupyter-widgets/base",
      "model_module_version": "1.2.0",
      "model_name": "LayoutModel",
      "state": {}
     },
     "d5666f1f63ef4794b0afa28c605ce698": {
      "model_module": "@jupyter-widgets/controls",
      "model_module_version": "1.5.0",
      "model_name": "DescriptionStyleModel",
      "state": {
       "description_width": ""
      }
     },
     "d5828541c9664f36a7f70720f976ce5b": {
      "model_module": "@jupyter-widgets/controls",
      "model_module_version": "1.5.0",
      "model_name": "TextModel",
      "state": {
       "description": "$h_{_{glicerina}}$ (mcGlicerina)",
       "layout": "IPY_MODEL_19e9ecef17d1496280843653ee1c94ec",
       "style": "IPY_MODEL_f1b707b89eeb4cfe9713c5f61e922538",
       "value": "0.2"
      }
     },
     "d5a7c52f5ad1401cb47d47ad657f22de": {
      "model_module": "@jupyter-widgets/base",
      "model_module_version": "1.2.0",
      "model_name": "LayoutModel",
      "state": {}
     },
     "d5af10bfef2a43709ef1829245ba0e9f": {
      "model_module": "@jupyter-widgets/controls",
      "model_module_version": "1.5.0",
      "model_name": "TextModel",
      "state": {
       "description": "$h_{_{aceite}}$ (mcAceite)",
       "layout": "IPY_MODEL_25c2941ae48f43afa97d4bfe3de894c8",
       "style": "IPY_MODEL_f0806d019c734c75ad7698f5493d8192",
       "value": "0.1"
      }
     },
     "d5b535e4af314bbaab86d5389fd7d023": {
      "model_module": "@jupyter-widgets/output",
      "model_module_version": "1.0.0",
      "model_name": "OutputModel",
      "state": {
       "layout": "IPY_MODEL_70b5d122488a49168b5da698e87ae943",
       "outputs": [
        {
         "name": "stdout",
         "output_type": "stream",
         "text": "Pulsa para actualizar los campos de texto\n"
        }
       ]
      }
     },
     "d5c2b4ba9ac94947a5e3ab1b1056ca55": {
      "model_module": "@jupyter-widgets/base",
      "model_module_version": "1.2.0",
      "model_name": "LayoutModel",
      "state": {}
     },
     "d65acc50d9b94fbda25d721e88702535": {
      "model_module": "@jupyter-widgets/base",
      "model_module_version": "1.2.0",
      "model_name": "LayoutModel",
      "state": {}
     },
     "d72cdbe206124fbd964c9461f445007d": {
      "model_module": "@jupyter-widgets/controls",
      "model_module_version": "1.5.0",
      "model_name": "TextModel",
      "state": {
       "description": "$h_{_{glicerina}}$ (mcGlicerina)",
       "layout": "IPY_MODEL_96199aec35d64583ac4f221bb46c3c1e",
       "style": "IPY_MODEL_1b4986c531644663a70db86dcd6a2d56",
       "value": "0.2"
      }
     },
     "d7aa06163006402b9dc2b95cb4368ef7": {
      "model_module": "@jupyter-widgets/controls",
      "model_module_version": "1.5.0",
      "model_name": "TextModel",
      "state": {
       "description": "h_glicerina",
       "layout": "IPY_MODEL_8d348cf71a5c420fad3805d3680fa804",
       "style": "IPY_MODEL_14e585384e7c43ca88f6ea7aba30d28b",
       "value": "0.2"
      }
     },
     "d8040035b94842d4a64b3a7fc66b56df": {
      "model_module": "@jupyter-widgets/controls",
      "model_module_version": "1.5.0",
      "model_name": "TextModel",
      "state": {
       "description": "h_glicerina",
       "layout": "IPY_MODEL_6d494b349f934fe7b47b37f6ebc2c6b4",
       "style": "IPY_MODEL_c2e6d5e5e9b144cfbd9c95ad67e61027",
       "value": "0.2"
      }
     },
     "d947c221c0a041fea1cac3c9857a9d4e": {
      "model_module": "@jupyter-widgets/base",
      "model_module_version": "1.2.0",
      "model_name": "LayoutModel",
      "state": {}
     },
     "da052fa65ad14fd2befc93f9d6596c2b": {
      "model_module": "@jupyter-widgets/controls",
      "model_module_version": "1.5.0",
      "model_name": "DescriptionStyleModel",
      "state": {
       "description_width": ""
      }
     },
     "da241ef712284b8bb297d7acd3eef409": {
      "model_module": "@jupyter-widgets/controls",
      "model_module_version": "1.5.0",
      "model_name": "DescriptionStyleModel",
      "state": {
       "description_width": ""
      }
     },
     "db75d196cd5a4c9a8ece8a03749f80b4": {
      "model_module": "@jupyter-widgets/base",
      "model_module_version": "1.2.0",
      "model_name": "LayoutModel",
      "state": {}
     },
     "db9e1a973b344816b59198baaf41eb5f": {
      "model_module": "@jupyter-widgets/controls",
      "model_module_version": "1.5.0",
      "model_name": "DescriptionStyleModel",
      "state": {
       "description_width": ""
      }
     },
     "db9f4bd4ce2a465db0164d0f5c247a82": {
      "model_module": "@jupyter-widgets/base",
      "model_module_version": "1.2.0",
      "model_name": "LayoutModel",
      "state": {}
     },
     "dbe394503e86453f8ee784d3681fc7d3": {
      "model_module": "@jupyter-widgets/controls",
      "model_module_version": "1.5.0",
      "model_name": "DescriptionStyleModel",
      "state": {
       "description_width": ""
      }
     },
     "dc54f193d0a44a7c9f53d073160e2707": {
      "model_module": "@jupyter-widgets/controls",
      "model_module_version": "1.5.0",
      "model_name": "VBoxModel",
      "state": {
       "_dom_classes": [
        "widget-interact"
       ],
       "children": [
        "IPY_MODEL_15238c3aa116481bbb765e46b825ac93",
        "IPY_MODEL_60307f87465c4f1f865a2060fdbfe037",
        "IPY_MODEL_ce99f17e3c5c489c961f3cf7de00ba15",
        "IPY_MODEL_0e32f7716870431782d11a0f82514f1f"
       ],
       "layout": "IPY_MODEL_d5a7c52f5ad1401cb47d47ad657f22de"
      }
     },
     "dd860a84c27142f59d6f6b4cf9273e6f": {
      "model_module": "@jupyter-widgets/controls",
      "model_module_version": "1.5.0",
      "model_name": "TextModel",
      "state": {
       "description": "$h_{_{glicerina}}$ (mcGlicerina)",
       "layout": "IPY_MODEL_d128dd77c875488eb1800d0e8569d4fa",
       "style": "IPY_MODEL_8328a406e53845a38fc9a413bf879286",
       "value": "0.2"
      }
     },
     "dd8639f4c7e94fa3a4f599691502c5de": {
      "model_module": "@jupyter-widgets/base",
      "model_module_version": "1.2.0",
      "model_name": "LayoutModel",
      "state": {}
     },
     "ddcf1faff89f4fcab5c32bf87f4126ec": {
      "model_module": "@jupyter-widgets/base",
      "model_module_version": "1.2.0",
      "model_name": "LayoutModel",
      "state": {}
     },
     "df0112d3b87241588ab245b8b30d9b5c": {
      "model_module": "@jupyter-widgets/base",
      "model_module_version": "1.2.0",
      "model_name": "LayoutModel",
      "state": {}
     },
     "df2faddb723d4c66907168272d3a3be7": {
      "model_module": "@jupyter-widgets/output",
      "model_module_version": "1.0.0",
      "model_name": "OutputModel",
      "state": {
       "layout": "IPY_MODEL_8946052a3e53486babbbd630aea18d4b",
       "outputs": [
        {
         "name": "stdout",
         "output_type": "stream",
         "text": "Pulsa para actualizar los campos de texto\n"
        }
       ]
      }
     },
     "df419eec759345e9bba73fb939c4dca5": {
      "model_module": "@jupyter-widgets/controls",
      "model_module_version": "1.5.0",
      "model_name": "DescriptionStyleModel",
      "state": {
       "description_width": ""
      }
     },
     "df644978220e45aca5fad7010876eea1": {
      "model_module": "@jupyter-widgets/base",
      "model_module_version": "1.2.0",
      "model_name": "LayoutModel",
      "state": {}
     },
     "e022393f5bb84ec589dba83ab1a2dfdd": {
      "model_module": "@jupyter-widgets/controls",
      "model_module_version": "1.5.0",
      "model_name": "TextModel",
      "state": {
       "description": "$h_{_{aceite}}$ (mcAceite)",
       "layout": "IPY_MODEL_db9f4bd4ce2a465db0164d0f5c247a82",
       "style": "IPY_MODEL_df419eec759345e9bba73fb939c4dca5",
       "value": "0.1"
      }
     },
     "e1b87caf7743493594b0f5a2e1eedeac": {
      "model_module": "@jupyter-widgets/controls",
      "model_module_version": "1.5.0",
      "model_name": "VBoxModel",
      "state": {
       "_dom_classes": [
        "widget-interact"
       ],
       "children": [
        "IPY_MODEL_6ab6c33c47e242de99713eb02f247b73",
        "IPY_MODEL_9854f601de9e4182bc1f0c5e55952d53",
        "IPY_MODEL_dd860a84c27142f59d6f6b4cf9273e6f",
        "IPY_MODEL_d43abdb4ee25469eb6fdf3e33a2fd5e5"
       ],
       "layout": "IPY_MODEL_7eb66d5493c947109ba95e0500b0014c"
      }
     },
     "e1f451093ec64c0d9416fb11c93342ba": {
      "model_module": "@jupyter-widgets/output",
      "model_module_version": "1.0.0",
      "model_name": "OutputModel",
      "state": {
       "layout": "IPY_MODEL_1f0d085b23184561bfef552f8c246b4c",
       "outputs": [
        {
         "name": "stdout",
         "output_type": "stream",
         "text": "Pulsa para actualizar los campos de texto\n"
        }
       ]
      }
     },
     "e3090b71de3a4eddb8f58e7fad9e70de": {
      "model_module": "@jupyter-widgets/controls",
      "model_module_version": "1.5.0",
      "model_name": "DescriptionStyleModel",
      "state": {
       "description_width": ""
      }
     },
     "e3b7f89def75431e9ad06ab542f5c218": {
      "model_module": "@jupyter-widgets/controls",
      "model_module_version": "1.5.0",
      "model_name": "TextModel",
      "state": {
       "description": "$h_{_{glicerina}}$ (mcGlicerina)",
       "layout": "IPY_MODEL_67654a80781e403d87ecac2ece34806d",
       "style": "IPY_MODEL_f827f9607957407d8dbdeebbeea85d29",
       "value": "0.2"
      }
     },
     "e40fda86fbf74d6786415dcd27781fcd": {
      "model_module": "@jupyter-widgets/controls",
      "model_module_version": "1.5.0",
      "model_name": "DescriptionStyleModel",
      "state": {
       "description_width": ""
      }
     },
     "e4582e46c32b41ec86768722e0f33eef": {
      "model_module": "@jupyter-widgets/controls",
      "model_module_version": "1.5.0",
      "model_name": "TextModel",
      "state": {
       "description": "h_{_{aceite}} (mcAceite)",
       "layout": "IPY_MODEL_17e56fc0ef204c4ca8c0f5604af880e6",
       "style": "IPY_MODEL_78dbc253a0464f24b58d65973e03134c",
       "value": "0.1"
      }
     },
     "e5c6fb7b9f7a43a59874db36180e54d3": {
      "model_module": "@jupyter-widgets/controls",
      "model_module_version": "1.5.0",
      "model_name": "TextModel",
      "state": {
       "description": "$h_{_{aceite}}$ (mcAceite)",
       "layout": "IPY_MODEL_37c21a1be6474e2889b52b5eb4626271",
       "style": "IPY_MODEL_a7ed463f81614095a55665cd8e0a3fdc",
       "value": "0.1"
      }
     },
     "e71a4c6d15f64bf8a082f048b3e0fbf3": {
      "model_module": "@jupyter-widgets/controls",
      "model_module_version": "1.5.0",
      "model_name": "TextModel",
      "state": {
       "description": "h_{_{glicerina}} (mcGlicerina)",
       "layout": "IPY_MODEL_fc9bc77ad97f479c8e82bc7df21c7ec5",
       "style": "IPY_MODEL_b3e2c7507bc348e6ae84920f3e79e8a8",
       "value": "0.2"
      }
     },
     "e8c336aa7405476f98abcfc886a2ace7": {
      "model_module": "@jupyter-widgets/controls",
      "model_module_version": "1.5.0",
      "model_name": "TextModel",
      "state": {
       "description": "h_{_{agua}} (mca)",
       "layout": "IPY_MODEL_6b80151ee0b747adac61832d65989091",
       "style": "IPY_MODEL_a6910d4a29ea4ea9b1f5610f257e2e4c",
       "value": "0.1"
      }
     },
     "e9fbb11b070a4cf4a4cd740066cba6c2": {
      "model_module": "@jupyter-widgets/base",
      "model_module_version": "1.2.0",
      "model_name": "LayoutModel",
      "state": {}
     },
     "ea53bb9754c242689f9e475925f67534": {
      "model_module": "@jupyter-widgets/base",
      "model_module_version": "1.2.0",
      "model_name": "LayoutModel",
      "state": {}
     },
     "eb461ed3c20b44fe981f0db291b1d757": {
      "model_module": "@jupyter-widgets/base",
      "model_module_version": "1.2.0",
      "model_name": "LayoutModel",
      "state": {}
     },
     "ebb2685fcbaf42cd9e4dee72845ad2fc": {
      "model_module": "@jupyter-widgets/controls",
      "model_module_version": "1.5.0",
      "model_name": "TextModel",
      "state": {
       "description": "$h_{_{glicerina}}$ (mcGlicerina)",
       "layout": "IPY_MODEL_f4c767c6f8984ee288bc950275dcb855",
       "style": "IPY_MODEL_922829e536174b7d87ba406d853fec83",
       "value": "0.2"
      }
     },
     "ec5b4a74f07e4623a6948474d445e8fe": {
      "model_module": "@jupyter-widgets/controls",
      "model_module_version": "1.5.0",
      "model_name": "TextModel",
      "state": {
       "description": "$H$ (cmcHg)",
       "layout": "IPY_MODEL_4c357f76811c4132b59337ca786f1611",
       "style": "IPY_MODEL_ff1fd1b1d9ff461088b0c15b694db669",
       "value": "0.755"
      }
     },
     "ed28639a173b473381c925d67e8699f9": {
      "model_module": "@jupyter-widgets/base",
      "model_module_version": "1.2.0",
      "model_name": "LayoutModel",
      "state": {}
     },
     "f02e0f6439c14792b750558ecf9fc2ad": {
      "model_module": "@jupyter-widgets/controls",
      "model_module_version": "1.5.0",
      "model_name": "DescriptionStyleModel",
      "state": {
       "description_width": ""
      }
     },
     "f0806d019c734c75ad7698f5493d8192": {
      "model_module": "@jupyter-widgets/controls",
      "model_module_version": "1.5.0",
      "model_name": "DescriptionStyleModel",
      "state": {
       "description_width": ""
      }
     },
     "f1695885d9704c8889cf54c8884e8362": {
      "model_module": "@jupyter-widgets/base",
      "model_module_version": "1.2.0",
      "model_name": "LayoutModel",
      "state": {}
     },
     "f1b707b89eeb4cfe9713c5f61e922538": {
      "model_module": "@jupyter-widgets/controls",
      "model_module_version": "1.5.0",
      "model_name": "DescriptionStyleModel",
      "state": {
       "description_width": ""
      }
     },
     "f27e44eeab46489a9d0e0f551bf149ce": {
      "model_module": "@jupyter-widgets/controls",
      "model_module_version": "1.5.0",
      "model_name": "TextModel",
      "state": {
       "description": "$h_{_{aceite}}$ (mcAceite)",
       "layout": "IPY_MODEL_42b4dbd7ef5749bfa2f7cf7d420034a1",
       "style": "IPY_MODEL_7e04f4d61d6b4288a6fd6e68c7af2d87",
       "value": "0.1"
      }
     },
     "f3364fb6455e4f64a1ad6987514b80ae": {
      "model_module": "@jupyter-widgets/controls",
      "model_module_version": "1.5.0",
      "model_name": "DescriptionStyleModel",
      "state": {
       "description_width": ""
      }
     },
     "f4945792573649e98d2f8ab341e4dee3": {
      "model_module": "@jupyter-widgets/controls",
      "model_module_version": "1.5.0",
      "model_name": "TextModel",
      "state": {
       "description": "$h_{_{glicerina}}$ (mcGlicerina)",
       "layout": "IPY_MODEL_48f1807f9ed74f7495cef53c967d7bb0",
       "style": "IPY_MODEL_d467b1304f6f4c3eab27178c46ab28b2",
       "value": "0.2"
      }
     },
     "f4c767c6f8984ee288bc950275dcb855": {
      "model_module": "@jupyter-widgets/base",
      "model_module_version": "1.2.0",
      "model_name": "LayoutModel",
      "state": {}
     },
     "f54dc48d561f4ab7a74751c325235161": {
      "model_module": "@jupyter-widgets/output",
      "model_module_version": "1.0.0",
      "model_name": "OutputModel",
      "state": {
       "layout": "IPY_MODEL_7e91b65a4eba430cba39d2d35ac887cc",
       "outputs": [
        {
         "name": "stdout",
         "output_type": "stream",
         "text": "Pulsa calcular para actualizar los campos de texto\n"
        }
       ]
      }
     },
     "f6638108d4c946f5856f7764e98476e3": {
      "model_module": "@jupyter-widgets/controls",
      "model_module_version": "1.5.0",
      "model_name": "DescriptionStyleModel",
      "state": {
       "description_width": ""
      }
     },
     "f7b1d5504f8d48aba070af588188e2d2": {
      "model_module": "@jupyter-widgets/base",
      "model_module_version": "1.2.0",
      "model_name": "LayoutModel",
      "state": {}
     },
     "f7e552e5e7634cabb6b37bc8e710a860": {
      "model_module": "@jupyter-widgets/controls",
      "model_module_version": "1.5.0",
      "model_name": "TextModel",
      "state": {
       "description": "$h_{_{aceite}}$ (mcAceite)",
       "layout": "IPY_MODEL_5325acd0e1f9467b99bca9348fbb52ed",
       "style": "IPY_MODEL_db9e1a973b344816b59198baaf41eb5f",
       "value": "0.1"
      }
     },
     "f827f9607957407d8dbdeebbeea85d29": {
      "model_module": "@jupyter-widgets/controls",
      "model_module_version": "1.5.0",
      "model_name": "DescriptionStyleModel",
      "state": {
       "description_width": ""
      }
     },
     "f88433a07db241fa9437ea2371646801": {
      "model_module": "@jupyter-widgets/base",
      "model_module_version": "1.2.0",
      "model_name": "LayoutModel",
      "state": {}
     },
     "fa37a8f3f2024e49965916dff5f3c565": {
      "model_module": "@jupyter-widgets/base",
      "model_module_version": "1.2.0",
      "model_name": "LayoutModel",
      "state": {}
     },
     "fa7c92341aaf4cc2ab0d984c0ba96f87": {
      "model_module": "@jupyter-widgets/base",
      "model_module_version": "1.2.0",
      "model_name": "LayoutModel",
      "state": {}
     },
     "fb8ea6f08bed4d63b49b1078fe41381f": {
      "model_module": "@jupyter-widgets/controls",
      "model_module_version": "1.5.0",
      "model_name": "DescriptionStyleModel",
      "state": {
       "description_width": ""
      }
     },
     "fc300164043e4f419832859cccc7078a": {
      "model_module": "@jupyter-widgets/controls",
      "model_module_version": "1.5.0",
      "model_name": "TextModel",
      "state": {
       "description": "$h_{_{agua}}$ (mca)",
       "layout": "IPY_MODEL_5f890a6e0c194f1290cfc81135b51906",
       "style": "IPY_MODEL_5e723e57e6744017af349130a43a3b22",
       "value": "0.1"
      }
     },
     "fc4641ea8a184c5fb080c780d08c4371": {
      "model_module": "@jupyter-widgets/output",
      "model_module_version": "1.0.0",
      "model_name": "OutputModel",
      "state": {
       "layout": "IPY_MODEL_001d62b012c64709a5cd96e943eb814f",
       "outputs": [
        {
         "name": "stdout",
         "output_type": "stream",
         "text": "Pulsa para actualizar los campos de texto\n"
        }
       ]
      }
     },
     "fc5d56d84cf442eb933eb2286bd80e64": {
      "model_module": "@jupyter-widgets/controls",
      "model_module_version": "1.5.0",
      "model_name": "TextModel",
      "state": {
       "description": "$h_{_{agua}}$ (mca)",
       "layout": "IPY_MODEL_f1695885d9704c8889cf54c8884e8362",
       "style": "IPY_MODEL_410c55dc190a4cad9a29e30d6d9b7db0",
       "value": "0.1"
      }
     },
     "fc9bc77ad97f479c8e82bc7df21c7ec5": {
      "model_module": "@jupyter-widgets/base",
      "model_module_version": "1.2.0",
      "model_name": "LayoutModel",
      "state": {}
     },
     "fd3050690018417ab94a4f63cf57d561": {
      "model_module": "@jupyter-widgets/base",
      "model_module_version": "1.2.0",
      "model_name": "LayoutModel",
      "state": {}
     },
     "fd31c50e515b4524813143266f88b2a1": {
      "model_module": "@jupyter-widgets/base",
      "model_module_version": "1.2.0",
      "model_name": "LayoutModel",
      "state": {}
     },
     "fda2783d520b4ab5aae1c94ce287a848": {
      "model_module": "@jupyter-widgets/controls",
      "model_module_version": "1.5.0",
      "model_name": "VBoxModel",
      "state": {
       "_dom_classes": [
        "widget-interact"
       ],
       "children": [
        "IPY_MODEL_9c0f751f389849368bde6f256a3c7833",
        "IPY_MODEL_c3fe6205c9ed4acfb55878f2355eb6cd",
        "IPY_MODEL_0917d27256c144bbbb42a7ff76910508",
        "IPY_MODEL_4c1a3242ca23447ca012df19f546ffe6"
       ],
       "layout": "IPY_MODEL_762557d09bbb4efb87a031e41a202515"
      }
     },
     "fe8db5ee05df49bda64e6b8bfd762c3d": {
      "model_module": "@jupyter-widgets/base",
      "model_module_version": "1.2.0",
      "model_name": "LayoutModel",
      "state": {}
     },
     "fefbbcfb5f6147e3bb5e2c90fe8d2b8f": {
      "model_module": "@jupyter-widgets/base",
      "model_module_version": "1.2.0",
      "model_name": "LayoutModel",
      "state": {}
     },
     "ff10a9c04d4a49b39e2691f6d2c43736": {
      "model_module": "@jupyter-widgets/controls",
      "model_module_version": "1.5.0",
      "model_name": "TextModel",
      "state": {
       "description": "$h_{_{aceite}}$ (mcAceite)",
       "layout": "IPY_MODEL_4400a0113cc14664acc2661de2bf9949",
       "style": "IPY_MODEL_680a2a08d92c4ed3b3c071b69fd7d2db",
       "value": "0.1"
      }
     },
     "ff1fd1b1d9ff461088b0c15b694db669": {
      "model_module": "@jupyter-widgets/controls",
      "model_module_version": "1.5.0",
      "model_name": "DescriptionStyleModel",
      "state": {
       "description_width": ""
      }
     },
     "ffd4889e8f9d47d29ab1628e565b7687": {
      "model_module": "@jupyter-widgets/controls",
      "model_module_version": "1.5.0",
      "model_name": "DescriptionStyleModel",
      "state": {
       "description_width": ""
      }
     }
    },
    "version_major": 2,
    "version_minor": 0
   }
  }
 },
 "nbformat": 4,
 "nbformat_minor": 5
}
