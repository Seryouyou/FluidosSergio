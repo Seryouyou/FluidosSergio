{
 "cells": [
  {
   "cell_type": "code",
   "execution_count": 1,
   "id": "a1aa5328",
   "metadata": {},
   "outputs": [
    {
     "data": {
      "text/html": [
       "<style>\n",
       "li{\n",
       "    padding:1vh;\n",
       "}\n",
       "\n",
       ".texto{\n",
       "    \n",
       "    text-align: justify;\n",
       "    text-justify: inter-word;\n",
       "    width: 90%;\n",
       "    padding-top: 1vh;\n",
       "    padding-bottom: 1vh; \n",
       "    margin: auto;\n",
       "    \n",
       "}\n",
       ".formulas{\n",
       "    \n",
       "    width: 90%;\n",
       "    padding-top: 1vh;\n",
       "    padding-bottom: 1vh;  \n",
       "    font-size: 20px;\n",
       "    margin: auto;\n",
       "}\n",
       ".resultado{\n",
       "    \n",
       "    width: 90%;\n",
       "    padding-top: 1vh;\n",
       "    padding-bottom: 1vh;  \n",
       "    font-size: 20px;\n",
       "    margin: auto;\n",
       "    border: 4px solid red;\n",
       "    padding:auto;\n",
       "}\n",
       "\n",
       ".antesDe{\n",
       "box-sizing:border-box;\n",
       "border: 2px solid black;\n",
       "background-color: rgba(141, 140, 140, 0.1);\n",
       "font-size:15px;\n",
       "padding:15px;\n",
       "    margin: auto;\n",
       "}\n",
       "\n",
       "ol.enunciado{\n",
       "list-style-type: lower-alpha;\n",
       "}\n",
       "\n",
       ".split{\n",
       "\n",
       "    /* Mostrar la rejilla de la división */\n",
       "    display: grid;\n",
       "\n",
       "    /* Dividir la rejilla en dos columnas y asignar la mitad del espacio \n",
       "    disponible a cada una */\n",
       "    grid-template-columns: 1fr 1fr;\n",
       "\n",
       "    /* Dividir la rejilla en cinco filas y asignar a cada una el espacio \n",
       "    necesario */\n",
       "    grid-template-rows: 1fr;\n",
       "\n",
       "    /* Determinar la posición que tendrá cada celda dentro del contenedor \n",
       "    principal */\n",
       "    grid-template-areas:\"izq    dcha \";\n",
       "\n",
       "    /* Espaciado entre celdas */\n",
       "    grid-gap:0px;   \n",
       "\n",
       "    /* Alinear horizontalmente elementos en las celdas del contenedor */\n",
       "    justify-items:center;\n",
       "\n",
       "    /* Alinear verticalmente elementos en las celdas del contenedor */\n",
       "    align-items: center; \n",
       "    \n",
       "    Width:90%\n",
       "\n",
       "}\n",
       "\n",
       ".split .izq{\n",
       "\n",
       "    /* Atribuir celda(s) a la clase */\n",
       "    grid-area: izq;\n",
       "\n",
       "    /* Centrar temperatura sobre la imagen del display */\n",
       "    position: relative;\n",
       "    \n",
       "    width:100%;\n",
       "}\n",
       ".split .dcha{\n",
       "\n",
       "    /* Atribuir celda(s) a la clase */\n",
       "    grid-area: dcha;\n",
       "\n",
       "    /* Centrar temperatura sobre la imagen del display */\n",
       "    position: relative;\n",
       "    \n",
       "    width:100%;\n",
       "\n",
       "}\n",
       "   \n",
       ".aviso{\n",
       "    display:none;\n",
       "}\n",
       "\n",
       "\n",
       "</style>\n",
       "<script>\n",
       "code_show=true; \n",
       "function code_toggle() {\n",
       " if (code_show){\n",
       " $('div.input').hide();\n",
       " } else {\n",
       " $('div.input').show();\n",
       " }\n",
       " code_show = !code_show\n",
       "} \n",
       "$( document ).ready(code_toggle);\n",
       "</script>\n",
       "<a href=\"javascript:code_toggle()\">Mostrar/ocultar celdas de código</a>."
      ],
      "text/plain": [
       "<IPython.core.display.HTML object>"
      ]
     },
     "execution_count": 1,
     "metadata": {},
     "output_type": "execute_result"
    }
   ],
   "source": [
    "from IPython.display import HTML\n",
    "HTML('''<style>\n",
    "li{\n",
    "    padding:1vh;\n",
    "}\n",
    "\n",
    ".texto{\n",
    "    \n",
    "    text-align: justify;\n",
    "    text-justify: inter-word;\n",
    "    width: 90%;\n",
    "    padding-top: 1vh;\n",
    "    padding-bottom: 1vh; \n",
    "    margin: auto;\n",
    "    \n",
    "}\n",
    ".formulas{\n",
    "    \n",
    "    width: 90%;\n",
    "    padding-top: 1vh;\n",
    "    padding-bottom: 1vh;  \n",
    "    font-size: 20px;\n",
    "    margin: auto;\n",
    "}\n",
    ".resultado{\n",
    "    \n",
    "    width: 90%;\n",
    "    padding-top: 1vh;\n",
    "    padding-bottom: 1vh;  \n",
    "    font-size: 20px;\n",
    "    margin: auto;\n",
    "    border: 4px solid red;\n",
    "    padding:auto;\n",
    "}\n",
    "\n",
    ".antesDe{\n",
    "box-sizing:border-box;\n",
    "border: 2px solid black;\n",
    "background-color: rgba(141, 140, 140, 0.1);\n",
    "font-size:15px;\n",
    "padding:15px;\n",
    "    margin: auto;\n",
    "}\n",
    "\n",
    "ol.enunciado{\n",
    "list-style-type: lower-alpha;\n",
    "}\n",
    "\n",
    ".split{\n",
    "\n",
    "    /* Mostrar la rejilla de la división */\n",
    "    display: grid;\n",
    "\n",
    "    /* Dividir la rejilla en dos columnas y asignar la mitad del espacio \n",
    "    disponible a cada una */\n",
    "    grid-template-columns: 1fr 1fr;\n",
    "\n",
    "    /* Dividir la rejilla en cinco filas y asignar a cada una el espacio \n",
    "    necesario */\n",
    "    grid-template-rows: 1fr;\n",
    "\n",
    "    /* Determinar la posición que tendrá cada celda dentro del contenedor \n",
    "    principal */\n",
    "    grid-template-areas:\"izq    dcha \";\n",
    "\n",
    "    /* Espaciado entre celdas */\n",
    "    grid-gap:0px;   \n",
    "\n",
    "    /* Alinear horizontalmente elementos en las celdas del contenedor */\n",
    "    justify-items:center;\n",
    "\n",
    "    /* Alinear verticalmente elementos en las celdas del contenedor */\n",
    "    align-items: center; \n",
    "    \n",
    "    Width:90%\n",
    "\n",
    "}\n",
    "\n",
    ".split .izq{\n",
    "\n",
    "    /* Atribuir celda(s) a la clase */\n",
    "    grid-area: izq;\n",
    "\n",
    "    /* Centrar temperatura sobre la imagen del display */\n",
    "    position: relative;\n",
    "    \n",
    "    width:100%;\n",
    "}\n",
    ".split .dcha{\n",
    "\n",
    "    /* Atribuir celda(s) a la clase */\n",
    "    grid-area: dcha;\n",
    "\n",
    "    /* Centrar temperatura sobre la imagen del display */\n",
    "    position: relative;\n",
    "    \n",
    "    width:100%;\n",
    "\n",
    "}\n",
    "   \n",
    ".aviso{\n",
    "    display:none;\n",
    "}\n",
    "\n",
    "\n",
    "</style>\n",
    "<script>\n",
    "code_show=true; \n",
    "function code_toggle() {\n",
    " if (code_show){\n",
    " $('div.input').hide();\n",
    " } else {\n",
    " $('div.input').show();\n",
    " }\n",
    " code_show = !code_show\n",
    "} \n",
    "$( document ).ready(code_toggle);\n",
    "</script>\n",
    "<a href=\"javascript:code_toggle()\">Mostrar/ocultar celdas de código</a>.''')"
   ]
  },
  {
   "cell_type": "markdown",
   "id": "f0c8c39d",
   "metadata": {},
   "source": [
    "<div style=\"background-color:white;border-style:solid;padding:5px\">\n",
    "    <div style=\"background-color:white;border-style:solid\">\n",
    "        <div style=\"padding:10px;\">\n",
    "            <div><h1><center><strong>TEMA 4:</strong></center></h1></div>\n",
    "            <div><h1><center><strong>ESTÁTICA DE UN FLUIDO INCOMPRESIBLE EN EL CAMPO GRAVITATORIO.</strong></center></h1></div>\n",
    "            <div><h1><center><strong>HIDROESTÁTICA.</strong></center></h1></div>\n",
    "        </div>\n",
    "    </div>   \n",
    "</div>"
   ]
  },
  {
   "cell_type": "markdown",
   "id": "2e66677f",
   "metadata": {},
   "source": [
    "<h2>ECUACIÓN FUNDAMENTAL DE LA HIDROSTÁTICA.</h2>"
   ]
  },
  {
   "cell_type": "markdown",
   "id": "44deec39",
   "metadata": {},
   "source": [
    "<div class=\"texto\"><p>Ecuación fundamental de la Estática:</p></div>"
   ]
  },
  {
   "cell_type": "markdown",
   "id": "097171c2",
   "metadata": {},
   "source": [
    "<div class=\"formulas\">\n",
    "$$ \n",
    "\\vec{F}=\\frac{1}{\\rho}\\cdot \\vec{grad}\\ P\n",
    "$$\n",
    "</div>"
   ]
  },
  {
   "cell_type": "markdown",
   "id": "6ea5eb25",
   "metadata": {},
   "source": [
    "<div class=\"texto\"><p>Cuando las fuerzas de volumen derivan de un potencial U:</p></div>"
   ]
  },
  {
   "cell_type": "markdown",
   "id": "24aeba5d",
   "metadata": {},
   "source": [
    "<div class=\"formulas\">\n",
    "$$\n",
    "-\\ \\vec{grad}\\ U=\\frac{1}{\\rho}\\cdot \\vec{grad}\\ P\n",
    "$$\n",
    "</div>"
   ]
  },
  {
   "cell_type": "markdown",
   "id": "d8937a6b",
   "metadata": {},
   "source": [
    "<div class=\"texto\"><p>En el campo gravitatorio $U=g\\cdot z$</p></div>"
   ]
  },
  {
   "cell_type": "markdown",
   "id": "7077e6aa",
   "metadata": {},
   "source": [
    "<div class=\"formulas\">\n",
    "$$ \n",
    "\\vec{\\nabla}U=\n",
    "\\frac{\\partial U}{\\partial x}\\ \\vec{i}\n",
    "+\\frac{\\partial U}{\\partial y}\\ \\vec{j}\n",
    "+\\frac{\\partial U}{\\partial z}\\ \\vec{k}\n",
    "=g\\vec{k}\n",
    "$$\n",
    "</div>"
   ]
  },
  {
   "cell_type": "markdown",
   "id": "a71368f8",
   "metadata": {},
   "source": [
    "<div class=\"formulas\">\n",
    "$$\n",
    "\\frac{1}{\\rho}\\cdot \\vec{\\nabla}P=\n",
    "\\frac{1}{\\rho}\\cdot\\left(\n",
    "\\frac{\\partial P}{\\partial x}\\ \\vec{i}\n",
    "+\\frac{\\partial P}{\\partial y}\\ \\vec{j}\n",
    "+\\frac{\\partial P}{\\partial z}\\ \\vec{k}\\right)\n",
    "$$\n",
    "</div>"
   ]
  },
  {
   "cell_type": "markdown",
   "id": "fd5ad040",
   "metadata": {},
   "source": [
    "<div class=\"formulas\">\n",
    "$$\n",
    "\\frac{\\partial P}{\\partial x}=\\frac{\\partial P}{\\partial y}=0\n",
    "$$\n",
    "</div>"
   ]
  },
  {
   "cell_type": "markdown",
   "id": "bde9ee67",
   "metadata": {},
   "source": [
    "<div class=\"formulas\">\n",
    "$$\n",
    "\\frac{1}{\\rho}\\cdot\\frac{\\partial P}{\\partial z}=-g\n",
    "\\rightarrow dP+\\rho \\cdot g \\cdot dz=0\n",
    "$$\n",
    "</div>"
   ]
  },
  {
   "cell_type": "markdown",
   "id": "bab20268",
   "metadata": {},
   "source": [
    "<div class=\"formulas\">\n",
    "Fluido incompresible $(\\rho=cte):\\textbf{P+}\\rho\\textbf{gz=Cte=P}^{^*}\\rightarrow\\textbf{HIDROSTÁTICA}$\n",
    "</div>"
   ]
  },
  {
   "cell_type": "markdown",
   "id": "0c787382",
   "metadata": {},
   "source": [
    "<div class=\"texto\">\n",
    "<p>La ecuación es válida para:</p>\n",
    "</div>"
   ]
  },
  {
   "cell_type": "markdown",
   "id": "d279a7b0",
   "metadata": {},
   "source": [
    "<div class=\"texto\">\n",
    "<ul>\n",
    "    <li> Fluido en reposo.</li>\n",
    "    <li> La única fuerza de volumen es la gravedad.</li>\n",
    "    <li> El fluido es incompresible y homogéneo.</li>\n",
    "    <li> Eje z vertical, positivo hacia arriba.</li>\n",
    "</ul>\n",
    "</div>"
   ]
  },
  {
   "cell_type": "markdown",
   "id": "341ae186",
   "metadata": {},
   "source": [
    "<div><img src=\"../../MEDIA/hr_2.png\"style=\"float:left;width:87%\"></div>"
   ]
  },
  {
   "cell_type": "markdown",
   "id": "97596074",
   "metadata": {},
   "source": [
    "<h2>CONSECUENCIAS DE LA ECUACIÓN FUNDAMENTAL DE LA HIDROSTÁTICA.</h2>"
   ]
  },
  {
   "cell_type": "markdown",
   "id": "9e7385a4",
   "metadata": {},
   "source": [
    "<div class=\"texto\">\n",
    "    <ol>\n",
    "        <li> Las superficies de presión constante (superficies isobáricas) son horizontales</li>\n",
    "        <li> La superficie de separación de dos líquidos inmiscibles es horizontal. La superficie libre de los líquidos es horizontal. Principio de los <strong>vasos comunicantes</strong>.</li>\n",
    "        <li> La variación de presión en el interior de un líquido en reposo depende de la diferencia de cota.</li>\n",
    "    </ol>\n",
    "Al trabajar con líquidos suele ser conveniente tomar el origen de coordenadas en la superficie libre (nivel de referencia) y medir las distancias desde la superficie libre hacia abajo. La ecuación de la hidrostática se expresa:\n",
    "</div>\n"
   ]
  },
  {
   "cell_type": "markdown",
   "id": "74b0b222",
   "metadata": {},
   "source": [
    "<div class=\"split\">\n",
    "    <div class=\"izq\">\n",
    "        <div class=\"resultado\"style=\"width:250px\">$$P-\\rho \\cdot g \\cdot h = Cte$$</div>\n",
    "    </div>\n",
    "    <div class=\"dcha\"><img src=\"../MEDIA/4.1.png\" style=\"width:80%\"></div>\n",
    "</div>\n",
    "\n"
   ]
  },
  {
   "cell_type": "markdown",
   "id": "061708a5",
   "metadata": {},
   "source": [
    "\n",
    "<div class=\"texto\">    \n",
    "    <ol start=\"4\">\n",
    "        <li> Teorema de Pascal.</li>\n",
    "    </ol>\n",
    "</div>\n",
    "<div><img src=\"../MEDIA/4.2.png\" style=\"width:60%\"></div>"
   ]
  },
  {
   "cell_type": "markdown",
   "id": "90f264c2",
   "metadata": {},
   "source": [
    "<div><img src=\"../../MEDIA/hr_2.png\"style=\"float:left;width:87%\"></div>"
   ]
  },
  {
   "cell_type": "markdown",
   "id": "a94f12a3",
   "metadata": {},
   "source": [
    "<h2>PRINCIPIO DE PASCAL. PRENSAS HIDRÁULICAS.</h2>"
   ]
  },
  {
   "cell_type": "markdown",
   "id": "2ad2d3c5",
   "metadata": {},
   "source": [
    "<div class=\"texto\"><p>\n",
    "<strong>Principio de Pascal</strong>: el incremento de la presión en un fluido se transmite a los demás puntos del fluido por igual e instantáneamente, si este es incompresible.\n",
    "</p></div>"
   ]
  },
  {
   "cell_type": "markdown",
   "id": "ec1c74e3",
   "metadata": {},
   "source": [
    "<div class=\"texto\"><p>Aplicación: Prensas hidráulicas.</p></div>"
   ]
  },
  {
   "cell_type": "markdown",
   "id": "3b625832",
   "metadata": {},
   "source": [
    "<div class=\"texto\"><p>\n",
    "Al ejercer una fuerza en el embolo pequeño $(F_1)$, se incrementa la presión en el aceite y ese incremento se transmite a todo el volumen de aceite, ejerciendo sobre el embolo grande una fuerza mayor $(F_2)$. Una pequeña fuerza actuando sobre un área pequeña puede proporcionar una fuerza mayor, sobre un área más grande. Se le denomina también multiplicador de esfuerzos.\n",
    "</p></div>"
   ]
  },
  {
   "cell_type": "markdown",
   "id": "b5322017",
   "metadata": {},
   "source": [
    "<div class=\"split\">\n",
    "    <div class=\"izq\"><img src=\"../MEDIA/4.3.png\"></div>\n",
    "    <div class=\"dcha\">\n",
    "        <div class=\"formulas\">\n",
    "        $$    \n",
    "        p_1=\\frac{F_{_1}}{A_{_1}}\\quad p_2=\\frac{F_{_2}}{A_{_2}}\n",
    "        $$\n",
    "        </div>\n",
    "        <div class=\"formulas\">\n",
    "        $$    \n",
    "        p_{_2}=p_{_2}\n",
    "        $$\n",
    "        </div>\n",
    "        <div class=\"formulas\">\n",
    "        $$    \n",
    "        \\frac{F_{_1}}{A_{_1}}=\\frac{F_{_2}}{A_{_2}}\n",
    "        $$\n",
    "        </div>\n",
    "        <div class=\"formulas\">\n",
    "        $$    \n",
    "        F_{_2}=\\frac{A_{_2}}{A_{_1}}\\cdot F_{_1}\n",
    "        $$\n",
    "        </div>\n",
    "    </div>\n",
    "</div>\n"
   ]
  },
  {
   "cell_type": "markdown",
   "id": "6d8c8978",
   "metadata": {},
   "source": [
    "<div><img src=\"../../MEDIA/hr_2.png\"style=\"float:left;width:87%\"></div>"
   ]
  },
  {
   "cell_type": "markdown",
   "id": "18b81705",
   "metadata": {},
   "source": [
    "<h2>ESCALAS DE PRESIÓN.PRESIÓN ABSOLUTA Y PRESIÓN MANOMÉTRICA (RELATIVA)</h2>"
   ]
  },
  {
   "cell_type": "markdown",
   "id": "5a4d6514",
   "metadata": {},
   "source": [
    "<div class=\"izq\"><img src=\"../MEDIA/4.4.png\"style=\"width:80%\"></div>"
   ]
  },
  {
   "cell_type": "markdown",
   "id": "e72cd3ca",
   "metadata": {},
   "source": [
    "<div class=\"resultado\"style=\"width:200px\">\n",
    "$$ \n",
    "\\textbf{P}_{_{abs}} \\textbf{= P}_{_{atm}} \\textbf{+ P}_{_{man}}\n",
    "$$\n",
    "</div>"
   ]
  },
  {
   "cell_type": "markdown",
   "id": "b92d32cf",
   "metadata": {},
   "source": [
    "<div class=\"texto\"><p>\n",
    "La diferencia entre las dos escalas es el origen que se toma como referencia para medir la presión. Para la <strong>presión absoluta</strong> el origen es el <strong>VACÍO</strong>. Para la <strong>presión manométrica</strong> el origen es <strong>la presión de la atmósfera local</strong>.\n",
    "</p></div>"
   ]
  },
  {
   "cell_type": "markdown",
   "id": "7e827ca0",
   "metadata": {},
   "source": [
    "<div class=\"texto\">\n",
    "<p><strong>La presión absoluta nunca es negativa</strong>.</p>\n",
    "<p>En la ecuación de estado de los gases ideales la presión es absoluta.</p>\n",
    "<p>La presión de vapor es absoluta.</p>\n",
    "<p>Se utiliza en la Meteorología.</p>\n",
    "</div>"
   ]
  },
  {
   "cell_type": "markdown",
   "id": "e54b82fb",
   "metadata": {},
   "source": [
    "<div class=\"texto\"><p>\n",
    "<strong>La presión manométrica puede ser positiva o negativa</strong>, según la presión medida sea mayor (sobrepresión) o menor (succión, vacío) que la atmosférica local.\n",
    "</p></div>"
   ]
  },
  {
   "cell_type": "markdown",
   "id": "01e9b7ad",
   "metadata": {},
   "source": [
    "<div class=\"texto\"><p>\n",
    "    <strong>NO SE PUEDEN MEZCLAR AMBAS ESCALAS</strong>\n",
    "</p></div>"
   ]
  },
  {
   "cell_type": "markdown",
   "id": "163a2719",
   "metadata": {},
   "source": [
    "<div><img src=\"../../MEDIA/hr_2.png\"style=\"float:left;width:87%\"></div>"
   ]
  },
  {
   "cell_type": "markdown",
   "id": "4267c10b",
   "metadata": {},
   "source": [
    "<h2>UNIDADES DE PRESIÓN.</h2>"
   ]
  },
  {
   "cell_type": "markdown",
   "id": "89fb5306",
   "metadata": {},
   "source": [
    "<div class=\"texto\"><p>Ecuación dimensional: $[M][L]^{-1}[T]^{-2}$</p></div>"
   ]
  },
  {
   "cell_type": "markdown",
   "id": "259dd1fd",
   "metadata": {},
   "source": [
    "<div class=\"texto\"><p>\n",
    "Sistema Internacional: $Pa\\ (N/m^{^2})$\n",
    "Sistema Técnico:$kp/m^{^2}$\n",
    "CGS: $baria=dyn/cm^{^2}$\n",
    "</p></div>"
   ]
  },
  {
   "cell_type": "markdown",
   "id": "afab404d",
   "metadata": {},
   "source": [
    "<div class=\"texto\"><p>Otras unidades:</p></div>"
   ]
  },
  {
   "cell_type": "markdown",
   "id": "fafa014b",
   "metadata": {},
   "source": [
    "<div class=\"formulas\">\n",
    "$$ \n",
    "\\textbf{kPa}=10^{^3}\\, Pa;\\ \n",
    "\\textbf{MPa}=10^{^6}\\, Pa;\\ \n",
    "\\textbf{bar}=10^{^5}\\, Pa;\\ \n",
    "\\textbf{kg/cm}^{^2}=9,8 \\cdot 10^{^4}\\ Pa\n",
    "$$\n",
    "</div>"
   ]
  },
  {
   "cell_type": "markdown",
   "id": "1eb8972c",
   "metadata": {},
   "source": [
    "<div class=\"formulas\">\n",
    "$$ \n",
    "\\textbf{bar}\\cong \\textbf{kg/cm}^{^2}\n",
    "$$\n",
    "</div>"
   ]
  },
  {
   "cell_type": "markdown",
   "id": "b5bfc49a",
   "metadata": {},
   "source": [
    "<div class=\"texto\"><p>\n",
    "La presión expresada en <strong>metros de columna de líquido</strong>:\n",
    "</p></div>\n"
   ]
  },
  {
   "cell_type": "markdown",
   "id": "17efa6bb",
   "metadata": {},
   "source": [
    "<div class=\"resultado\"style=\"width:200px\">\n",
    "$$ \n",
    "h\\ (mcl)=\\frac{P}{\\gamma}\n",
    "$$\n",
    "</div>"
   ]
  },
  {
   "cell_type": "markdown",
   "id": "26a604ad",
   "metadata": {},
   "source": [
    "<div class=\"formulas\">\n",
    "$$ \n",
    "1\\ atm=76\\ cmcHg\n",
    "$$\n",
    "</div>"
   ]
  },
  {
   "cell_type": "markdown",
   "id": "6d03e257",
   "metadata": {},
   "source": [
    "<div class=\"formulas\">\n",
    "$$ \n",
    "1\\ Torr=1\\ mmcHg\n",
    "$$\n",
    "</div>"
   ]
  },
  {
   "cell_type": "markdown",
   "id": "420adb44",
   "metadata": {},
   "source": [
    "<div class=\"formulas\">\n",
    "$$ \n",
    "1\\ \\textbf{bar}\\cong 1\\ \\textbf{kg/cm}^{^2}\\cong 1\\ \\textbf{atm}\n",
    "$$\n",
    "</div>"
   ]
  },
  {
   "cell_type": "markdown",
   "id": "13ed6f29",
   "metadata": {},
   "source": [
    "<div><img src=\"../../MEDIA/hr_2.png\"style=\"float:left;width:87%\"></div>"
   ]
  },
  {
   "cell_type": "markdown",
   "id": "296396a9",
   "metadata": {},
   "source": [
    "<h2>APARATOS DE MEDIDA DE PRESIÓN. MEDIDORES DIRECTOS E INDIRECTOS</h2>"
   ]
  },
  {
   "cell_type": "markdown",
   "id": "61dad49d",
   "metadata": {},
   "source": [
    "<div class=\"texto\">\n",
    "<ul>\n",
    "    <li> Barómetro: mide la presión atmosférica.</li>\n",
    "    <li> Manómetro de:</li>\n",
    "    <ul>\n",
    "        <li> Presiones relativas positivas.</li>\n",
    "        <li> Presiones absolutas.</li>\n",
    "    </ul>\n",
    "    <li> Vacuómetro: mide presiones relativas negativas.</li>\n",
    "    <li> Manovacuómetro: mide presiones relativas positivas y negativas.</li>\n",
    "    <li> Manómetro diferencial: mide diferencia de presiones.</li>\n",
    "    <li> Micromanómetro: mide pequeñas presiones con gran precisión.</li>\n",
    "</ul>\n",
    "</div>"
   ]
  },
  {
   "cell_type": "markdown",
   "id": "ee7b7f4c",
   "metadata": {},
   "source": [
    "<div><img src=\"../../MEDIA/hr_2.png\"style=\"float:left;width:87%\"></div>"
   ]
  },
  {
   "cell_type": "markdown",
   "id": "c33da489",
   "metadata": {},
   "source": [
    "<h3>BARÓMETRO</h3>"
   ]
  },
  {
   "cell_type": "markdown",
   "id": "e1a064d3",
   "metadata": {},
   "source": [
    "<div class=\"texto\">\n",
    "<p><strong>El Barómetro</strong> mide la presión atmosférica.</p>\n",
    "<p>Hay dos tipos: barómetro de mercurio y barómetro aneroide. </p>\n",
    "</div>\n"
   ]
  },
  {
   "cell_type": "markdown",
   "id": "990ba9c5",
   "metadata": {},
   "source": [
    "<div class=\"split\">\n",
    "    <div class=\"izq\"><img src=\"../MEDIA/4.5a.png\"></div>\n",
    "    <div class=\"dcha\"><img src=\"../MEDIA/4.5.png\" style=\"width:80%\"></div>\n",
    "</div>"
   ]
  },
  {
   "cell_type": "markdown",
   "id": "70fe7c05",
   "metadata": {},
   "source": [
    "<div class=\"resultado\"style=\"width:200px\">\n",
    "$$ \n",
    "\\frac{P_{_{atm}}}{\\gamma}=H(mcHg)\n",
    "$$\n",
    "</div>\n"
   ]
  },
  {
   "cell_type": "markdown",
   "id": "3ba5b18d",
   "metadata": {},
   "source": [
    "<div><img src=\"../../MEDIA/hr_2.png\"style=\"float:left;width:87%\"></div>"
   ]
  },
  {
   "cell_type": "markdown",
   "id": "15cffb81",
   "metadata": {},
   "source": [
    "<h3>PIEZÓMETRO</h3>"
   ]
  },
  {
   "cell_type": "markdown",
   "id": "9b8109d3",
   "metadata": {},
   "source": [
    "<div class=\"split\">\n",
    "    <div class=\"izq\"><img src=\"../MEDIA/4.6.png\" style=\"width:80%\">\n",
    "            <div class=\"resultado\"style=\"width:300px\">\n",
    "            $$ \n",
    "            \\frac{P_{_0}}{\\gamma}=(\\Delta h-z)(mcl)\n",
    "            $$\n",
    "            </div>\n",
    "    </div>\n",
    "    <div class=\"dcha\">\n",
    "\n",
    "<p>El <strong>piezómetro</strong> es un tubo transparente de cristal o plástico, recto o con un codo, con un diámetro superior a 5 mm, para evitar los efectos de la capilaridad. Se conecta al depósito en el que se quiere medir la presión a través de un orificio llamado orificio piezométrico. La altura que alcanza el líquido en ese tubo será la medida de presión. </p>\n",
    "\n",
    "\n",
    "Estos instrumentos:\n",
    "<ul>\n",
    "   <li>Son de gran precisión.</li>\n",
    "   <li>Son cómodos, no necesitan de ningún otro líquido para funcionar.</li>\n",
    "   <li>Sólo sirven para medir presiones relativas bajas de líquidos.</li>\n",
    "</ul>\n",
    "\n",
    "\n",
    "    \n",
    "</div>\n"
   ]
  },
  {
   "cell_type": "markdown",
   "id": "53b0c21e",
   "metadata": {},
   "source": [
    "<div><img src=\"../../MEDIA/hr_2.png\"style=\"float:left;width:87%\"></div>"
   ]
  },
  {
   "cell_type": "markdown",
   "id": "587e8d34",
   "metadata": {},
   "source": [
    "<h3>PIEZÓMETRO EN U CON LÍQUIDO MANOMÉTRICO.</h3>"
   ]
  },
  {
   "cell_type": "markdown",
   "id": "db2807f0",
   "metadata": {},
   "source": [
    "<div class=\"split\">\n",
    "    <div class=\"izq\"><img src=\"../MEDIA/4.7.png\"></div>\n",
    "    <div class=\"dcha\"><div class=\"texto\"><p>Mide presiones manométricas positivas y negativas de líquidos y gases. El líquido manométrico es más denso que el fluido, y son inmiscibles. </p></div>\n",
    "    <div class=\"formulas\">\n",
    "$$\n",
    "(s_{_0}>s)\n",
    "$$\n",
    "</div></div>\n",
    "</div>\n"
   ]
  },
  {
   "cell_type": "markdown",
   "id": "cdf0caae",
   "metadata": {},
   "source": [
    "<div><img src=\"../../MEDIA/hr_2.png\"style=\"float:left;width:87%\"></div>"
   ]
  },
  {
   "cell_type": "markdown",
   "id": "42053c22",
   "metadata": {},
   "source": [
    "<h3>MANÓMETRO DIFERENCIAL</h3>"
   ]
  },
  {
   "cell_type": "markdown",
   "id": "9cb61ea2",
   "metadata": {},
   "source": [
    "<div class=\"split\">\n",
    "    <div class=\"izq\"><img src=\"../MEDIA/4.8.png\"></div>\n",
    "    <div class=\"dcha\"><div class=\"texto\"><p>Mide la diferencia de presiones.</p></div>\n",
    "</div>\n",
    "</div>"
   ]
  },
  {
   "cell_type": "markdown",
   "id": "aae1cba8",
   "metadata": {},
   "source": [
    "<div><img src=\"../../MEDIA/hr_2.png\"style=\"float:left;width:87%\"></div>"
   ]
  },
  {
   "cell_type": "markdown",
   "id": "3bfc9262",
   "metadata": {},
   "source": [
    "<h3>MICROMANÓMETRO DE TUBO INCLINADO. </h3>"
   ]
  },
  {
   "cell_type": "markdown",
   "id": "8cd8a098",
   "metadata": {},
   "source": [
    "<div class=\"split\">\n",
    "    <div class=\"izq\"><img src=\"../MEDIA/4.9.png\"></div>\n",
    "    <div class=\"dcha\"><div class=\"texto\">\n",
    "<p><strong>El micromanómetro de tubo inclinado</strong> mide presiones manométricas muy pequeñas con gran precisión. Para una presión determinada, si el ángulo $\\theta$ se reduce, la longitud $l$ aumenta, aumentando la precisión del aparato.</p>\n",
    "</div>\n",
    "<div class=\"resultado\"style=\"width:350px\">\n",
    "$$\n",
    "P=\\rho \\cdot g \\cdot h=\\rho \\cdot g \\cdot l\\cdot sen\\theta\n",
    "$$\n",
    "</div>\n",
    "</div>\n",
    "</div>"
   ]
  },
  {
   "cell_type": "markdown",
   "id": "9cae1fcf",
   "metadata": {},
   "source": [
    "<div><img src=\"../../MEDIA/hr_2.png\"style=\"float:left;width:87%\"></div>"
   ]
  },
  {
   "cell_type": "markdown",
   "id": "0581461a",
   "metadata": {},
   "source": [
    "<h3>MICROMANÓMETRO DE LÍQUIDOS INMISCIBLES. </h3>"
   ]
  },
  {
   "cell_type": "markdown",
   "id": "d9e0200a",
   "metadata": {},
   "source": [
    "<div class=\"resultado\"style=\"width:150px;margin:0\">\n",
    "$$\n",
    "s_{_1}>s_{_2}\n",
    "$$\n",
    "</div>\n",
    "<div class=\"split\">\n",
    "    <div class=\"izq\"style=\"width:350px\"><img src=\"../MEDIA/4.10.1.png\"></div>\n",
    "    <div class=\"dcha\"style=\"width:600px\">\n",
    "      <div class=\"texto\"> <strong>Inicialmente:</strong></div> \n",
    "      <div class=\"formulas\">\n",
    "        $$\n",
    "        \\textbf{P}_{_A}\\textbf{= P}_{_B} \\textbf{= P}_{_{atm}} \\textbf{= 0}\n",
    "        $$\n",
    "        </div>\n",
    "        <div class=\"texto\"> <strong>Hidrostática:</strong></div> \n",
    "        <div class=\"formulas\">\n",
    "        $$\n",
    "        P_{_A}+h_{_1}\\cdot\\gamma_{_1}-h_{_2}\\cdot\\gamma_{_2}=P_{_B}\n",
    "        $$\n",
    "        </div>\n",
    "        <div class=\"formulas\">\n",
    "        $$\n",
    "        h_{_1}\\cdot\\gamma_{_1}=h_{_2}\\cdot\\gamma_{_2}\n",
    "        $$\n",
    "        </div>\n",
    "    </div>\n",
    "</div>\n"
   ]
  },
  {
   "cell_type": "markdown",
   "id": "c0b5c1c8",
   "metadata": {},
   "source": [
    "<div class=\"split\">\n",
    "    <div class=\"izq\"style=\"width:350px\"><img src=\"../MEDIA/4.10.2.png\"></div>\n",
    "    <div class=\"dcha\"style=\"width:600px\">\n",
    "        <div class=\"texto\"><strong>Finalmente:</strong></div> \n",
    "        <div class=\"formulas\">\n",
    "            $$\n",
    "            P_{_A}=P\\ ;\\ P_{_B}=P_{_{atm}}=0\n",
    "            $$\n",
    "        </div>\n",
    "        <div class=\"texto\"> <strong>Hidrostática:</strong></div> \n",
    "        <div class=\"formulas\">    \n",
    "            $$\n",
    "            P_{_A}+(h_{_1}-R-X)\\cdot\\gamma_{_1}-(h_{_2}+y-R)\\cdot\\gamma_{_2}=P_{_B}\n",
    "            $$\n",
    "        </div>\n",
    "        <div class=\"formulas\">\n",
    "        $$\n",
    "        P_{_A}+(-R-X)\\cdot\\gamma_{_1}-(y-R)\\cdot\\gamma_{_2}=P_{_B}\n",
    "        $$\n",
    "        </div>\n",
    "    </div>\n",
    "</div>\n"
   ]
  },
  {
   "cell_type": "markdown",
   "id": "db0fc4c6",
   "metadata": {},
   "source": [
    "<div class=\"texto\">\n",
    "<p><i>Si se considera que las dimensiones de los depósitos son muy grandes respecto del diámetro del tubo en U, se pueden despreciar las variaciones de nivel <strong>x</strong> e <strong>y</strong></i>.</p>\n",
    "</div>"
   ]
  },
  {
   "cell_type": "markdown",
   "id": "471ede47",
   "metadata": {},
   "source": [
    "<div class=\"resultado\"style=\"width:250px\">\n",
    "$$\n",
    "P_{_A}=P=R\\ (\\gamma_{_1}-\\gamma_{_2})\n",
    "$$\n",
    "</div>"
   ]
  },
  {
   "cell_type": "markdown",
   "id": "ad41f29d",
   "metadata": {},
   "source": [
    "<div class=\"texto\">\n",
    "<p><i>Para aumentar la precisión del micromanómetro es necesario que la diferencia entre las densidades de los líquidos sea mínima</i>:</p>\n",
    "</div>"
   ]
  },
  {
   "cell_type": "markdown",
   "id": "f77e3568",
   "metadata": {},
   "source": [
    "<div class=\"formulas\">\n",
    "$$\n",
    "(s_{_1}>s_{_2}\\ y\\ s_{_1}\\cong s_{_2})\n",
    "$$\n",
    "</div>"
   ]
  },
  {
   "cell_type": "markdown",
   "id": "8cdad08a",
   "metadata": {},
   "source": [
    "<div><img src=\"../../MEDIA/hr_2.png\"style=\"float:left;width:87%\"></div>"
   ]
  },
  {
   "cell_type": "markdown",
   "id": "d3e70b35",
   "metadata": {},
   "source": [
    "<h3>MEDIDORES DE PRESIÓN(INDIRECTOS):</h3>"
   ]
  },
  {
   "cell_type": "markdown",
   "id": "1824e1b6",
   "metadata": {},
   "source": [
    "<div class=\"split\">\n",
    "    <div class=\"izq\">\n",
    "        <div><img src=\"../MEDIA/4.11.1.png\">\n",
    "        </div>\n",
    "        <div class=\"texto\"><p>Manómetro Bourdon de presiones absolutas</p>\n",
    "        </div>\n",
    "    </div>\n",
    "    <div class=\"dcha\">\n",
    "        <div><img src=\"../MEDIA/4.11.2.png\">\n",
    "        </div>\n",
    "        <div class=\"texto\"><p>Manómetro Bourdon de presiones relativas</p>\n",
    "        </div>\n",
    "    </div>\n",
    "</div>\n",
    "\n"
   ]
  },
  {
   "cell_type": "markdown",
   "id": "8fef0e9a",
   "metadata": {},
   "source": [
    "<div><img src=\"../../MEDIA/hr_2.png\"style=\"float:left;width:87%\"></div>"
   ]
  }
 ],
 "metadata": {
  "finalized": {
   "timestamp": 1627470068796,
   "trusted": true
  },
  "kernelspec": {
   "display_name": "Python 3",
   "language": "python",
   "name": "python3"
  },
  "language_info": {
   "codemirror_mode": {
    "name": "ipython",
    "version": 3
   },
   "file_extension": ".py",
   "mimetype": "text/x-python",
   "name": "python",
   "nbconvert_exporter": "python",
   "pygments_lexer": "ipython3",
   "version": "3.8.8"
  }
 },
 "nbformat": 4,
 "nbformat_minor": 5
}
